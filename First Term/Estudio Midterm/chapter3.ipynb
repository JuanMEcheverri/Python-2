{
 "cells": [
  {
   "cell_type": "code",
   "execution_count": null,
   "metadata": {
    "vscode": {
     "languageId": "plaintext"
    }
   },
   "outputs": [],
   "source": [
    "import pandas as pd\n",
    "\n",
    "# Creando un DataFrame de ejemplo\n",
    "dogs = pd.DataFrame({\n",
    "    \"name\": [\"Bella\", \"Charlie\", \"Lucy\", \"Cooper\", \"Max\", \"Stella\", \"Bernie\"],\n",
    "    \"breed\": [\"Labrador\", \"Poodle\", \"Chow Chow\", \"Schnauzer\", \"Labrador\", \"Chihuahua\", \"St. Bernard\"],\n",
    "    \"color\": [\"Brown\", \"Black\", \"Brown\", \"Grey\", \"Black\", \"Tan\", \"White\"],\n",
    "    \"height_cm\": [56, 43, 46, 49, 59, 18, 77],\n",
    "    \"weight_kg\": [25, 23, 22, 17, 29, 2, 74]\n",
    "})\n",
    "\n",
    "# Mostrando el DataFrame\n",
    "print(\"DataFrame original:\")\n",
    "print(dogs)\n",
    "\n",
    "# Obtener nombres de columnas e índice\n",
    "print(\"\\nColumnas:\", dogs.columns)\n",
    "print(\"\\nÍndice:\", dogs.index)\n",
    "\n",
    "# Configurando una columna como índice\n",
    "dogs_ind = dogs.set_index(\"name\")\n",
    "print(\"\\nDataFrame con índice en 'name':\")\n",
    "print(dogs_ind)\n",
    "\n",
    "# Reseteando el índice\n",
    "dogs_reset = dogs_ind.reset_index()\n",
    "print(\"\\nDataFrame con índice reseteado:\")\n",
    "print(dogs_reset)\n",
    "\n",
    "# Eliminando el índice sin restablecerlo\n",
    "dogs_drop = dogs_ind.reset_index(drop=True)\n",
    "print(\"\\nDataFrame sin el índice anterior:\")\n",
    "print(dogs_drop)\n",
    "\n",
    "# Filtrando filas con índice\n",
    "dogs_filtered = dogs_ind.loc[[\"Bella\", \"Stella\"]]\n",
    "print(\"\\nFiltrando con índice:\")\n",
    "print(dogs_filtered)\n",
    "\n",
    "# Índices jerárquicos\n",
    "dogs_hierarchical = dogs.set_index([\"breed\", \"color\"])\n",
    "print(\"\\nDataFrame con índice jerárquico:\")\n",
    "print(dogs_hierarchical)\n",
    "\n",
    "# Subconjunto con índice jerárquico\n",
    "dogs_subset = dogs_hierarchical.loc[[\"Labrador\", \"Chihuahua\"]]\n",
    "print(\"\\nSubconjunto con índice jerárquico:\")\n",
    "print(dogs_subset)\n",
    "\n",
    "# Ordenando el índice\n",
    "dogs_sorted = dogs_hierarchical.sort_index()\n",
    "print(\"\\nDataFrame ordenado por índice:\")\n",
    "print(dogs_sorted)\n",
    "\n",
    "# Tablas pivote\n",
    "dogs_pivot = dogs.pivot_table(\"height_cm\", index=\"breed\", columns=\"color\")\n",
    "print(\"\\nTabla pivote de altura por raza y color:\")\n",
    "print(dogs_pivot)\n",
    "\n",
    "# Estadísticas resumen\n",
    "dogs_stats = dogs_pivot.mean(axis=\"columns\")\n",
    "print(\"\\nPromedio de altura por raza:\")\n",
    "print(dogs_stats)\n"
   ]
  }
 ],
 "metadata": {
  "language_info": {
   "name": "python"
  }
 },
 "nbformat": 4,
 "nbformat_minor": 2
}
