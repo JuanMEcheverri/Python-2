{
 "cells": [
  {
   "cell_type": "markdown",
   "metadata": {},
   "source": [
    "# `os` and environment variables\n",
    "\n",
    "In this notebook we will see how to use the `os` module to interact with the operating system and how to use environment variables to store sensitive information.\n",
    "\n",
    "The information that we are going to store is an API key that we will use to access a service. We will store the API key in an environment variable and we will access it from our Python code.\n",
    "\n",
    "The API key is a sensitive information that we don't want to hardcode in our code. We will store it in an environment variable so that it is not visible in the code.\n",
    "\n",
    "## The `os` module: basics\n",
    "\n",
    "The `os` module provides a way to interact with the operating system. We can use it to get information about the system, to interact with the file system, to get environment variables, etc.\n",
    "\n",
    "Let's see some examples of how to use the `os` module.\n",
    "\n",
    "### Get the current working directory\n",
    "\n",
    "The current working directory is the folder from which the Python script is being executed. We can get the current working directory using the `os.getcwd()` function.\n",
    "\n",
    "Let's see an example:"
   ]
  },
  {
   "cell_type": "code",
   "execution_count": 2,
   "metadata": {},
   "outputs": [
    {
     "data": {
      "text/plain": [
       "'c:\\\\Users\\\\juanm\\\\OneDrive\\\\Documentos\\\\@ Maestria Ie\\\\Term 2\\\\Python'"
      ]
     },
     "execution_count": 2,
     "metadata": {},
     "output_type": "execute_result"
    }
   ],
   "source": [
    "import os\n",
    "\n",
    "os.getcwd()"
   ]
  },
  {
   "cell_type": "markdown",
   "metadata": {},
   "source": [
    "The current working directory is the directory where this notebook is located."
   ]
  },
  {
   "cell_type": "markdown",
   "metadata": {},
   "source": [
    "### List the files in a directory\n",
    "\n",
    "We can use the `os.listdir()` function to list the files in a directory."
   ]
  },
  {
   "cell_type": "code",
   "execution_count": 2,
   "metadata": {},
   "outputs": [
    {
     "data": {
      "text/plain": [
       "['dummy_script.py',\n",
       " 'ex1.py',\n",
       " 'ex2.py',\n",
       " 'ex3.py',\n",
       " 'my_script.py',\n",
       " 's04_os_env.ipynb',\n",
       " 's04_python_scripts.ipynb']"
      ]
     },
     "execution_count": 2,
     "metadata": {},
     "output_type": "execute_result"
    }
   ],
   "source": [
    "os.listdir()"
   ]
  },
  {
   "cell_type": "markdown",
   "metadata": {},
   "source": [
    "This list will include all the files and directories in the specified directory."
   ]
  },
  {
   "cell_type": "markdown",
   "metadata": {},
   "source": []
  },
  {
   "cell_type": "markdown",
   "metadata": {},
   "source": [
    "### Create a directory \n",
    "\n",
    "We can use the `os.mkdir()` function to create a directory.\n",
    "\n",
    "Let's see an example:"
   ]
  },
  {
   "cell_type": "code",
   "execution_count": 11,
   "metadata": {},
   "outputs": [],
   "source": [
    "os.mkdir('newdir')"
   ]
  },
  {
   "cell_type": "code",
   "execution_count": 12,
   "metadata": {},
   "outputs": [
    {
     "data": {
      "text/plain": [
       "['newdir', 'Python']"
      ]
     },
     "execution_count": 12,
     "metadata": {},
     "output_type": "execute_result"
    }
   ],
   "source": [
    "os.listdir()"
   ]
  },
  {
   "cell_type": "markdown",
   "metadata": {},
   "source": [
    "### Remove a directory\n",
    "\n",
    "We can use the `os.rmdir()` function to remove a directory.\n",
    "\n",
    "BE CAREFUL! This function will remove the directory and all its contents."
   ]
  },
  {
   "cell_type": "code",
   "execution_count": 13,
   "metadata": {},
   "outputs": [],
   "source": [
    "os.rmdir('newdir')"
   ]
  },
  {
   "cell_type": "code",
   "execution_count": 14,
   "metadata": {},
   "outputs": [
    {
     "data": {
      "text/plain": [
       "['Python']"
      ]
     },
     "execution_count": 14,
     "metadata": {},
     "output_type": "execute_result"
    }
   ],
   "source": [
    "os.listdir()"
   ]
  },
  {
   "cell_type": "markdown",
   "metadata": {},
   "source": [
    "### Change the current working directory\n",
    "\n",
    "We can use the `os.chdir()` function to change the current working directory.\n",
    "\n",
    "To navigate through the file system there are some special places that we can go to:\n",
    "\n",
    "- Root directory: `/`. This is the top-level directory in the file system.\n",
    "- Parent directory: `..`. This is the directory that contains the current directory.\n",
    "- Current directory: `.`. This is the directory where the Python script is being executed."
   ]
  },
  {
   "cell_type": "code",
   "execution_count": 15,
   "metadata": {},
   "outputs": [
    {
     "name": "stdout",
     "output_type": "stream",
     "text": [
      "Parent directory: c:\\Users\\juanm\\OneDrive\\Documentos\\@ Maestria Ie\n",
      "Contents: ['@ Documentos Iniciales', 'Assessment Center Simulation 2024-2025.pdf', 'Career', 'Colfuturo', 'Datathon', 'Notas Ie University.xlsx', 'PreTerms', 'Term 1', 'Term 2', 'Vivir en Madrid']\n"
     ]
    }
   ],
   "source": [
    "# go one level up, to the parent directory, and list the contents\n",
    "\n",
    "os.chdir(\"..\") # go up one level\n",
    "print(f'Parent directory: {os.getcwd()}')\n",
    "print(f'Contents: {os.listdir()}')"
   ]
  },
  {
   "cell_type": "markdown",
   "metadata": {},
   "source": [
    "### Go to a specific directory\n",
    "\n",
    "You can copy the path of the directory you want to go to and paste it in the `os.chdir()` function."
   ]
  },
  {
   "cell_type": "code",
   "execution_count": 18,
   "metadata": {},
   "outputs": [
    {
     "name": "stdout",
     "output_type": "stream",
     "text": [
      "Current directory: c:\\Users\\juanm\\OneDrive\\Documentos\\@ Maestria Ie\\Term 2\\Python\n",
      "Contents: ['dummy_script.py', 'ex1.py', 'ex2.py', 'ex3.py', 'my_script.py', 's04_os_env.ipynb', 's04_python_scripts.ipynb']\n"
     ]
    }
   ],
   "source": [
    "os.chdir(\"c:\\\\Users\\\\juanm\\\\OneDrive\\\\Documentos\\\\@ Maestria Ie\\\\Term 2\\\\Python\") # go back to the original directory\n",
    "\n",
    "print(f'Current directory: {os.getcwd()}')\n",
    "print(f'Contents: {os.listdir()}')"
   ]
  },
  {
   "cell_type": "markdown",
   "metadata": {},
   "source": [
    "## Environment variables\n",
    "\n",
    "Environment variables are variables that are set in the operating system and can be accessed by any program running on that system.\n",
    "\n",
    "We can define this variables in a file called `.env` and then load them into the environment using the `os` module.\n",
    "\n",
    "First, create a file called `.env` in the same directory as this notebook and add the following line:\n",
    "\n",
    "```\n",
    "API_KEY=your_api_key_here\n",
    "```\n",
    "\n",
    "Then, install the `python-dotenv` package using the following command:\n",
    "\n",
    "```\n",
    "!pip install python-dotenv\n",
    "```\n",
    "\n",
    "This will allow us to load the environment variables from the `.env` file.\n",
    "\n",
    "Now, we can load the environment variables using the `dotenv` module and access them using the `os` module."
   ]
  },
  {
   "cell_type": "code",
   "execution_count": 3,
   "metadata": {},
   "outputs": [
    {
     "data": {
      "text/plain": [
       "'08e1b38f992534454aa98b187a85f02ae97719d229898511692458b8fe9bea19'"
      ]
     },
     "execution_count": 3,
     "metadata": {},
     "output_type": "execute_result"
    }
   ],
   "source": [
    "# load environment variables from the .env file\n",
    "from dotenv import load_dotenv\n",
    "\n",
    "load_dotenv()\n",
    "\n",
    "# get the API token from the environment variables\n",
    "api_token = os.getenv('API_KEY')\n",
    "\n",
    "api_token"
   ]
  },
  {
   "cell_type": "markdown",
   "metadata": {},
   "source": [
    "And that's it! Now you know how to use the `os` module to interact with the operating system and how to use environment variables to store sensitive information.\n",
    "\n",
    "We will use the API key in the next notebook to access a service."
   ]
  },
  {
   "cell_type": "markdown",
   "metadata": {},
   "source": [
    "## Getting ready: access to an API\n",
    "\n",
    "In the upcoming sessions we will use the ESIOS API to get power market data from the Spanish electricity market.\n",
    "\n",
    "* [ESIOS API](https://api.esios.ree.es/)\n",
    "\n",
    "You will need to request an API key to access the ESIOS API. You can request an API key sending an email to the following address: `consultasios@ree.es` with the subject `Personal token request`. Mention that you are a student and you are using the API for educational purposes."
   ]
  }
 ],
 "metadata": {
  "kernelspec": {
   "display_name": "base",
   "language": "python",
   "name": "python3"
  },
  "language_info": {
   "codemirror_mode": {
    "name": "ipython",
    "version": 3
   },
   "file_extension": ".py",
   "mimetype": "text/x-python",
   "name": "python",
   "nbconvert_exporter": "python",
   "pygments_lexer": "ipython3",
   "version": "3.12.4"
  }
 },
 "nbformat": 4,
 "nbformat_minor": 2
}
