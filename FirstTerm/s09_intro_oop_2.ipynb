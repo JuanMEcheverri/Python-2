{
 "cells": [
  {
   "cell_type": "markdown",
   "metadata": {},
   "source": [
    "# Session 09: Intro to Object Oriented Programming (2)\n",
    "\n",
    "After the first session on Object Oriented Programming, we will continue with the topic and learn more about classes and objects.\n",
    "\n",
    "## Table of Contents\n",
    "\n",
    "* Special Methods\n",
    "* Encapsulation\n",
    "* Polymorphism\n",
    "\n",
    "## Special Methods\n",
    "\n",
    "Special methods are predefined methods in Python that have special meaning. They are surrounded by double underscores. For example, `__init__` is a special method that is called when an object is created.\n",
    "\n",
    "There are many special methods -besides `__init__`- in Python, but we are going to focus on a few of them:\n"
   ]
  },
  {
   "cell_type": "markdown",
   "metadata": {
    "vscode": {
     "languageId": "plaintext"
    }
   },
   "source": [
    "### String-representation of objects: `__str__` method and `__repr__` method\n",
    "\n",
    "* `__str__` is a special method that is called when the object is printed. It should return a string that represents the object.\n",
    "\n",
    "* `__repr__` is a special method that is called when the object is printed in the console. It should return a string that represents the object.\n"
   ]
  },
  {
   "cell_type": "code",
   "execution_count": 1,
   "metadata": {},
   "outputs": [],
   "source": [
    "class MyClass():\n",
    "    def __init__(self):\n",
    "        pass  # when you don't want to do anything in the constructor\n",
    "\n",
    "    def __str__(self): # this is the one that is called when you print the object (Prints the object in a human readable format)\n",
    "        return f\"What you see when you print the object\" \n",
    "\n",
    "    def __repr__(self): # this is the one that is called when you evaluate the object (shows the object in a machine readable format)\n",
    "        return f\"What you see when you evaluate the object\"\n",
    "        "
   ]
  },
  {
   "cell_type": "code",
   "execution_count": 2,
   "metadata": {},
   "outputs": [],
   "source": [
    "obj = MyClass()"
   ]
  },
  {
   "cell_type": "code",
   "execution_count": 3,
   "metadata": {},
   "outputs": [
    {
     "name": "stdout",
     "output_type": "stream",
     "text": [
      "What you see when you print the object\n"
     ]
    }
   ],
   "source": [
    "# __str__ is called by print\n",
    "print(obj)"
   ]
  },
  {
   "cell_type": "code",
   "execution_count": 4,
   "metadata": {},
   "outputs": [
    {
     "data": {
      "text/plain": [
       "What you see when you evaluate the object"
      ]
     },
     "execution_count": 4,
     "metadata": {},
     "output_type": "execute_result"
    }
   ],
   "source": [
    "# __repr__ is called by evaluating the object\n",
    "obj"
   ]
  },
  {
   "cell_type": "code",
   "execution_count": 5,
   "metadata": {},
   "outputs": [
    {
     "data": {
      "text/plain": [
       "'hello\\tthere'"
      ]
     },
     "execution_count": 5,
     "metadata": {},
     "output_type": "execute_result"
    }
   ],
   "source": [
    "a = 'hello\\tthere'\n",
    "a"
   ]
  },
  {
   "cell_type": "code",
   "execution_count": 6,
   "metadata": {},
   "outputs": [
    {
     "name": "stdout",
     "output_type": "stream",
     "text": [
      "hello\tthere\n"
     ]
    }
   ],
   "source": [
    "print(a)"
   ]
  },
  {
   "cell_type": "markdown",
   "metadata": {},
   "source": [
    "In general, it is said that `__str__` is for the user and `__repr__` is for the programmer:"
   ]
  },
  {
   "cell_type": "code",
   "execution_count": 7,
   "metadata": {},
   "outputs": [],
   "source": [
    "from datetime import datetime\n",
    "\n",
    "today = datetime.now()"
   ]
  },
  {
   "cell_type": "code",
   "execution_count": 8,
   "metadata": {},
   "outputs": [
    {
     "name": "stdout",
     "output_type": "stream",
     "text": [
      "2025-02-04 14:38:51.328866\n"
     ]
    }
   ],
   "source": [
    "# for the user\n",
    "print(today)"
   ]
  },
  {
   "cell_type": "code",
   "execution_count": 9,
   "metadata": {},
   "outputs": [
    {
     "data": {
      "text/plain": [
       "datetime.datetime(2025, 2, 4, 14, 38, 51, 328866)"
      ]
     },
     "execution_count": 9,
     "metadata": {},
     "output_type": "execute_result"
    }
   ],
   "source": [
    "# for the programmer\n",
    "today"
   ]
  },
  {
   "cell_type": "markdown",
   "metadata": {},
   "source": [
    "The idea is that if you copy and paste the output of `__repr__` into a Python interpreter, you should get an object with the same properties, while `__str__` is more for the user to read."
   ]
  },
  {
   "cell_type": "code",
   "execution_count": 11,
   "metadata": {},
   "outputs": [
    {
     "data": {
      "text/plain": [
       "datetime.datetime(2024, 12, 25, 21, 13, 47, 784655)"
      ]
     },
     "execution_count": 11,
     "metadata": {},
     "output_type": "execute_result"
    }
   ],
   "source": [
    "dt = datetime(2024, 12, 25, 21, 13, 47, 784655)\n",
    "\n",
    "dt"
   ]
  },
  {
   "cell_type": "markdown",
   "metadata": {},
   "source": [
    "You can also access the `__str__` and `__repr__` methods of an object by using the `str()` and `repr()` functions."
   ]
  },
  {
   "cell_type": "code",
   "execution_count": 12,
   "metadata": {},
   "outputs": [
    {
     "data": {
      "text/plain": [
       "'What you see when you print the object'"
      ]
     },
     "execution_count": 12,
     "metadata": {},
     "output_type": "execute_result"
    }
   ],
   "source": [
    "str(obj)"
   ]
  },
  {
   "cell_type": "code",
   "execution_count": 13,
   "metadata": {},
   "outputs": [
    {
     "data": {
      "text/plain": [
       "'What you see when you evaluate the object'"
      ]
     },
     "execution_count": 13,
     "metadata": {},
     "output_type": "execute_result"
    }
   ],
   "source": [
    "repr(obj)"
   ]
  },
  {
   "cell_type": "markdown",
   "metadata": {},
   "source": [
    "### Mathematical operations\n",
    "\n",
    "* `__add__` is the method used for the `+` operator: `a + b` is equivalent to `a.__add__(b)`\n",
    "* `__sub__` is the method used for the `-` operator: `a - b` is equivalent to `a.__sub__(b)`\n",
    "* `__mul__` is the method used for the `*` operator: `a * b` is equivalent to `a.__mul__(b)`\n",
    "* `__truediv__` is the method used for the `/` operator: `a / b` is equivalent to `a.__truediv__(b)`\n",
    "* `__floordiv__` is the method used for the `//` operator: `a // b` is equivalent to `a.__floordiv__(b)`\n",
    "* `__mod__` is the method used for the `%` operator: `a % b` is equivalent to `a.__mod__(b)`\n",
    "* `__pow__` is the method used for the `**` operator: `a ** b` is equivalent to `a.__pow__(b)`\n",
    "\n",
    "Let's see some examples with a shopping list class:"
   ]
  },
  {
   "cell_type": "code",
   "execution_count": 14,
   "metadata": {},
   "outputs": [],
   "source": [
    "class ShoppingList:\n",
    "    def __init__(self, items=None):\n",
    "        \"\"\"\n",
    "        Initialize a new shopping list.\n",
    "\n",
    "        :param items: items included in the shopping list, defaults to None\n",
    "        :type items: list, tuple, set, optional\n",
    "        \"\"\"\n",
    "        if items is None:\n",
    "            self.items = set()\n",
    "        else:\n",
    "            self.items = set(items)\n",
    "\n",
    "    def add_needed_item(self, item):\n",
    "        self.items.update(set([item]))\n",
    "\n",
    "    def __str__(self):\n",
    "        return f\"ShoppingList with {len(self.items)} items\"\n",
    "\n",
    "    def __repr__(self):\n",
    "        return f\"ShoppingList({self.items})\"\n",
    "\n",
    "    def __add__(self, other):\n",
    "        \"\"\"\n",
    "        Combine the items of two shopping lists into a new shopping list.\n",
    "        sl1 + sl2 is equivalent to sl1.__add__(sl2)\n",
    "\n",
    "        :param other: Another ShoppingList instance to be added.\n",
    "        :type other: ShoppingList\n",
    "        :return: A new ShoppingList instance containing items from both lists.\n",
    "        :rtype: ShoppingList\n",
    "        \"\"\"\n",
    "        combined_items = self.items.union(other.items)\n",
    "        return ShoppingList(combined_items)\n",
    "\n",
    "    def __sub__(self, items_to_remove):\n",
    "        \"\"\"\n",
    "        Remove the items from the list.\n",
    "        sl1 - sl2 is equivalent to sl1.__sub__(sl2)\n",
    "\n",
    "        :param items_to_remove: Items to be removed from the list.\n",
    "        :type items_to_remove: set\n",
    "        :return: A new ShoppingList instance with the items removed.\n",
    "        :rtype: ShoppingList\n",
    "        \"\"\"\n",
    "        new_list = ShoppingList()\n",
    "        new_list.items = self.items - set(items_to_remove)\n",
    "        return new_list\n"
   ]
  },
  {
   "cell_type": "code",
   "execution_count": 16,
   "metadata": {},
   "outputs": [
    {
     "data": {
      "text/plain": [
       "ShoppingList({'eggs', 'milk', 'bread'})"
      ]
     },
     "execution_count": 16,
     "metadata": {},
     "output_type": "execute_result"
    }
   ],
   "source": [
    "house_groceries = ShoppingList([\"milk\", \"bread\", \"eggs\"])\n",
    "\n",
    "house_groceries"
   ]
  },
  {
   "cell_type": "code",
   "execution_count": 17,
   "metadata": {},
   "outputs": [
    {
     "data": {
      "text/plain": [
       "ShoppingList({'tea', 'coffee', 'sugar'})"
      ]
     },
     "execution_count": 17,
     "metadata": {},
     "output_type": "execute_result"
    }
   ],
   "source": [
    "office_groceries = ShoppingList([\"coffee\", \"tea\", \"sugar\"])\n",
    "\n",
    "office_groceries"
   ]
  },
  {
   "cell_type": "code",
   "execution_count": 18,
   "metadata": {},
   "outputs": [
    {
     "data": {
      "text/plain": [
       "ShoppingList({'butter', 'eggs', 'milk', 'bread'})"
      ]
     },
     "execution_count": 18,
     "metadata": {},
     "output_type": "execute_result"
    }
   ],
   "source": [
    "# update the shopping list for the house\n",
    "\n",
    "house_groceries.add_needed_item(\"butter\")\n",
    "\n",
    "house_groceries"
   ]
  },
  {
   "cell_type": "code",
   "execution_count": 19,
   "metadata": {},
   "outputs": [
    {
     "data": {
      "text/plain": [
       "ShoppingList({'butter', 'eggs', 'tea', 'coffee', 'milk', 'bread', 'sugar'})"
      ]
     },
     "execution_count": 19,
     "metadata": {},
     "output_type": "execute_result"
    }
   ],
   "source": [
    "# combine the shopping lists\n",
    "\n",
    "combined_groceries = house_groceries + office_groceries\n",
    "\n",
    "combined_groceries"
   ]
  },
  {
   "cell_type": "code",
   "execution_count": 20,
   "metadata": {},
   "outputs": [
    {
     "data": {
      "text/plain": [
       "ShoppingList({'bread', 'milk', 'butter', 'eggs', 'coffee'})"
      ]
     },
     "execution_count": 20,
     "metadata": {},
     "output_type": "execute_result"
    }
   ],
   "source": [
    "# remove items from the combined list\n",
    "\n",
    "updated_combined_list = combined_groceries - {\"tea\", \"sugar\"}\n",
    "\n",
    "updated_combined_list"
   ]
  },
  {
   "cell_type": "code",
   "execution_count": 21,
   "metadata": {},
   "outputs": [
    {
     "data": {
      "text/plain": [
       "ShoppingList({'butter', 'eggs', 'coffee', 'bread'})"
      ]
     },
     "execution_count": 21,
     "metadata": {},
     "output_type": "execute_result"
    }
   ],
   "source": [
    "updated_combined_list1 = combined_groceries.__sub__({\"tea\", \"sugar\", \"milk\"})\n",
    "updated_combined_list1"
   ]
  },
  {
   "cell_type": "markdown",
   "metadata": {},
   "source": [
    "### Container methods\n",
    "\n",
    "There are also special methods that are used for containers, more than the ones shown below, but we are going to focus on these:\n",
    "\n",
    "* `__len__` is the method used for the `len()` function: `len(a)` is equivalent to `a.__len__()`\n",
    "* `__getitem__` is the method used for the `[]` operator: `a[i]` is equivalent to `a.__getitem__(i)`\n",
    "* `__setitem__` is the method used for the `[]` operator when assigning a value: `a[i] = value` is equivalent to `a.__setitem__(i, value)`\n",
    "* `__delitem__` is the method used for the `del` operator: `del a[i]` is equivalent to `a.__delitem__(i)`\n",
    "\n",
    "Let's practice this with a to-do list class:"
   ]
  },
  {
   "cell_type": "code",
   "execution_count": 22,
   "metadata": {},
   "outputs": [],
   "source": [
    "class ToDoList():\n",
    "    def __init__(self, tasks=None):\n",
    "        if tasks is None:\n",
    "            self.tasks = []\n",
    "        else:\n",
    "            self.tasks = tasks\n",
    "\n",
    "    def __str__(self):\n",
    "        return f\"ToDoList with {len(self.tasks)} tasks\"\n",
    "\n",
    "    def __repr__(self):\n",
    "        return f\"ToDoList({self.tasks})\"\n",
    "\n",
    "    def __len__(self):\n",
    "        return len(self.tasks)\n",
    "\n",
    "    def __getitem__(self, index):\n",
    "        return self.tasks[index]\n",
    "\n",
    "    def __setitem__(self, index, value):\n",
    "        self.tasks[index] = value\n",
    "\n",
    "    def __delitem__(self, index):\n",
    "        del self.tasks[index]"
   ]
  },
  {
   "cell_type": "code",
   "execution_count": 33,
   "metadata": {},
   "outputs": [
    {
     "data": {
      "text/plain": [
       "ToDoList(['buy milk', 'pay bills', 'call mom'])"
      ]
     },
     "execution_count": 33,
     "metadata": {},
     "output_type": "execute_result"
    }
   ],
   "source": [
    "dani_todos = ToDoList([\"buy milk\", \"pay bills\", \"call mom\"])\n",
    "\n",
    "dani_todos"
   ]
  },
  {
   "cell_type": "code",
   "execution_count": 34,
   "metadata": {},
   "outputs": [
    {
     "data": {
      "text/plain": [
       "'buy milk'"
      ]
     },
     "execution_count": 34,
     "metadata": {},
     "output_type": "execute_result"
    }
   ],
   "source": [
    "dani_todos[0]"
   ]
  },
  {
   "cell_type": "code",
   "execution_count": 35,
   "metadata": {},
   "outputs": [
    {
     "data": {
      "text/plain": [
       "ToDoList(['buy almond milk', 'pay bills', 'call mom'])"
      ]
     },
     "execution_count": 35,
     "metadata": {},
     "output_type": "execute_result"
    }
   ],
   "source": [
    "dani_todos[0] = \"buy almond milk\"\n",
    "\n",
    "dani_todos"
   ]
  },
  {
   "cell_type": "code",
   "execution_count": 36,
   "metadata": {},
   "outputs": [
    {
     "data": {
      "text/plain": [
       "3"
      ]
     },
     "execution_count": 36,
     "metadata": {},
     "output_type": "execute_result"
    }
   ],
   "source": [
    "len(dani_todos)"
   ]
  },
  {
   "cell_type": "code",
   "execution_count": 37,
   "metadata": {},
   "outputs": [
    {
     "data": {
      "text/plain": [
       "ToDoList(['buy almond milk', 'call mom'])"
      ]
     },
     "execution_count": 37,
     "metadata": {},
     "output_type": "execute_result"
    }
   ],
   "source": [
    "del dani_todos[1]\n",
    "\n",
    "dani_todos"
   ]
  },
  {
   "cell_type": "code",
   "execution_count": 38,
   "metadata": {},
   "outputs": [
    {
     "data": {
      "text/plain": [
       "__main__.ToDoList"
      ]
     },
     "execution_count": 38,
     "metadata": {},
     "output_type": "execute_result"
    }
   ],
   "source": [
    "type(dani_todos)"
   ]
  },
  {
   "cell_type": "markdown",
   "metadata": {},
   "source": [
    "## Encapsulation\n",
    "\n",
    "Encapsulation is the idea of restricting access to certain parts of an object. In Python, we can restrict access to certain attributes by using the `__` prefix. This is called name mangling.\n",
    "\n",
    "There are different levels of encapsulation:\n",
    "\n",
    "* Public: These attributes can be accessed from outside the class.\n",
    "* Protected: These attributes should not be accessed from outside the class, but they can be accessed from a subclass.\n",
    "* Private: These attributes should not be accessed from outside the class, not even from a subclass.\n",
    "\n",
    "Let's see an example, using a bank account class. The bank account has a balance, and we want to restrict access to it. "
   ]
  },
  {
   "cell_type": "code",
   "execution_count": 39,
   "metadata": {},
   "outputs": [],
   "source": [
    "class BankAccount():\n",
    "\n",
    "    def __init__(self, balance=0):\n",
    "        self.balance = balance\n",
    "\n",
    "my_account = BankAccount(100)"
   ]
  },
  {
   "cell_type": "code",
   "execution_count": 40,
   "metadata": {},
   "outputs": [
    {
     "data": {
      "text/plain": [
       "100"
      ]
     },
     "execution_count": 40,
     "metadata": {},
     "output_type": "execute_result"
    }
   ],
   "source": [
    "my_account.balance"
   ]
  },
  {
   "cell_type": "markdown",
   "metadata": {},
   "source": [
    "As it is defined, we can access the balance because it is a public attribute. We can also change the balance, which is not what we want. We can restrict access to the balance by using the `__` prefix.\n",
    "\n",
    "This prefix means that the attribute is private, and it should not be accessed from outside the class. Let's see how we can access the balance now."
   ]
  },
  {
   "cell_type": "code",
   "execution_count": 44,
   "metadata": {},
   "outputs": [],
   "source": [
    "class BankAccount(): #con esto se restringe el acceso a la variable balance 2 underscores\n",
    "\n",
    "    def __init__(self, balance1=0):\n",
    "        self.__balance1 = balance1\n",
    "\n",
    "my_account = BankAccount(100)"
   ]
  },
  {
   "cell_type": "code",
   "execution_count": 47,
   "metadata": {},
   "outputs": [
    {
     "ename": "AttributeError",
     "evalue": "'BankAccount' object has no attribute '__balance1'",
     "output_type": "error",
     "traceback": [
      "\u001b[1;31m---------------------------------------------------------------------------\u001b[0m",
      "\u001b[1;31mAttributeError\u001b[0m                            Traceback (most recent call last)",
      "Cell \u001b[1;32mIn[47], line 1\u001b[0m\n\u001b[1;32m----> 1\u001b[0m my_account\u001b[38;5;241m.\u001b[39m__balance1\n",
      "\u001b[1;31mAttributeError\u001b[0m: 'BankAccount' object has no attribute '__balance1'"
     ]
    }
   ],
   "source": [
    "my_account.__balance1"
   ]
  },
  {
   "cell_type": "markdown",
   "metadata": {},
   "source": [
    "Wow! We cannot access the balance anymore. We can only access it from inside the class, when we are defining it. But not from outside the class once we have created the object."
   ]
  },
  {
   "cell_type": "code",
   "execution_count": 59,
   "metadata": {},
   "outputs": [],
   "source": [
    "class BankAccount2():\n",
    "\n",
    "    def __init__(self, balance=0):\n",
    "        self.__balance = balance\n",
    "\n",
    "    def is_balance_low(self):\n",
    "        return self.__balance < 100\n",
    "    \n",
    "    def secret_value(self):\n",
    "        return self.__balance"
   ]
  },
  {
   "cell_type": "code",
   "execution_count": 50,
   "metadata": {},
   "outputs": [
    {
     "data": {
      "text/plain": [
       "False"
      ]
     },
     "execution_count": 50,
     "metadata": {},
     "output_type": "execute_result"
    }
   ],
   "source": [
    "my_account = BankAccount2(900)\n",
    "\n",
    "my_account.is_balance_low()"
   ]
  },
  {
   "cell_type": "code",
   "execution_count": 58,
   "metadata": {},
   "outputs": [
    {
     "ename": "AttributeError",
     "evalue": "'BankAccount2' object has no attribute 'secret_value'",
     "output_type": "error",
     "traceback": [
      "\u001b[1;31m---------------------------------------------------------------------------\u001b[0m",
      "\u001b[1;31mAttributeError\u001b[0m                            Traceback (most recent call last)",
      "Cell \u001b[1;32mIn[58], line 1\u001b[0m\n\u001b[1;32m----> 1\u001b[0m my_account\u001b[38;5;241m.\u001b[39msecret_value()\n",
      "\u001b[1;31mAttributeError\u001b[0m: 'BankAccount2' object has no attribute 'secret_value'"
     ]
    }
   ],
   "source": [
    "my_account.secret_value()"
   ]
  },
  {
   "cell_type": "code",
   "execution_count": 51,
   "metadata": {},
   "outputs": [
    {
     "ename": "AttributeError",
     "evalue": "'BankAccount2' object has no attribute '__balance'",
     "output_type": "error",
     "traceback": [
      "\u001b[1;31m---------------------------------------------------------------------------\u001b[0m",
      "\u001b[1;31mAttributeError\u001b[0m                            Traceback (most recent call last)",
      "Cell \u001b[1;32mIn[51], line 1\u001b[0m\n\u001b[1;32m----> 1\u001b[0m my_account\u001b[38;5;241m.\u001b[39m__balance\n",
      "\u001b[1;31mAttributeError\u001b[0m: 'BankAccount2' object has no attribute '__balance'"
     ]
    }
   ],
   "source": [
    "my_account.__balance"
   ]
  },
  {
   "cell_type": "markdown",
   "metadata": {},
   "source": [
    "There is a way to access the balance, but it is not recommended.\n",
    "\n",
    "We can access the balance by using the `_BankAccount__balance` attribute. It is a way to access private attributes, but it is not recommended because it is not the right way to do it."
   ]
  },
  {
   "cell_type": "code",
   "execution_count": 54,
   "metadata": {},
   "outputs": [
    {
     "data": {
      "text/plain": [
       "900"
      ]
     },
     "execution_count": 54,
     "metadata": {},
     "output_type": "execute_result"
    }
   ],
   "source": [
    "my_account._BankAccount2__balance #Es la manera de acceder a la variable privada"
   ]
  },
  {
   "cell_type": "markdown",
   "metadata": {},
   "source": [
    "The idea is that private attributes should not be accessed from outside the class. If you need to access them, you should create a method that returns the value of the attribute.\n",
    "\n",
    "Let's define a class with 3 different types of attributes: public, protected, and private."
   ]
  },
  {
   "cell_type": "code",
   "execution_count": 60,
   "metadata": {},
   "outputs": [],
   "source": [
    "class Person():\n",
    "\n",
    "    def __init__(self, name, username, password):\n",
    "        self.name = name\n",
    "        self._username = username\n",
    "        self.__password = password"
   ]
  },
  {
   "cell_type": "code",
   "execution_count": 61,
   "metadata": {},
   "outputs": [
    {
     "data": {
      "text/plain": [
       "'Dani'"
      ]
     },
     "execution_count": 61,
     "metadata": {},
     "output_type": "execute_result"
    }
   ],
   "source": [
    "me = Person(\"Dani\", \"dani\", \"password\")\n",
    "\n",
    "me.name"
   ]
  },
  {
   "cell_type": "code",
   "execution_count": 62,
   "metadata": {},
   "outputs": [
    {
     "ename": "AttributeError",
     "evalue": "'Person' object has no attribute 'username'",
     "output_type": "error",
     "traceback": [
      "\u001b[1;31m---------------------------------------------------------------------------\u001b[0m",
      "\u001b[1;31mAttributeError\u001b[0m                            Traceback (most recent call last)",
      "Cell \u001b[1;32mIn[62], line 1\u001b[0m\n\u001b[1;32m----> 1\u001b[0m me\u001b[38;5;241m.\u001b[39musername\n",
      "\u001b[1;31mAttributeError\u001b[0m: 'Person' object has no attribute 'username'"
     ]
    }
   ],
   "source": [
    "me.username"
   ]
  },
  {
   "cell_type": "code",
   "execution_count": 63,
   "metadata": {},
   "outputs": [
    {
     "ename": "AttributeError",
     "evalue": "'Person' object has no attribute 'password'",
     "output_type": "error",
     "traceback": [
      "\u001b[1;31m---------------------------------------------------------------------------\u001b[0m",
      "\u001b[1;31mAttributeError\u001b[0m                            Traceback (most recent call last)",
      "Cell \u001b[1;32mIn[63], line 1\u001b[0m\n\u001b[1;32m----> 1\u001b[0m me\u001b[38;5;241m.\u001b[39mpassword\n",
      "\u001b[1;31mAttributeError\u001b[0m: 'Person' object has no attribute 'password'"
     ]
    }
   ],
   "source": [
    "me.password"
   ]
  },
  {
   "cell_type": "markdown",
   "metadata": {},
   "source": [
    "We can see that the `username` attribute is protected, because it has a single underscore. The `password` attribute is private, because it has a double underscore.\n",
    "\n",
    "How can we access these attributes? Let's access first the public attribute."
   ]
  },
  {
   "cell_type": "code",
   "execution_count": 66,
   "metadata": {},
   "outputs": [
    {
     "data": {
      "text/plain": [
       "'Dani'"
      ]
     },
     "execution_count": 66,
     "metadata": {},
     "output_type": "execute_result"
    }
   ],
   "source": [
    "me = Person(\"Dani\", \"dani_user\", \"password\")\n",
    "\n",
    "me.name # OK"
   ]
  },
  {
   "cell_type": "markdown",
   "metadata": {},
   "source": [
    "Now, let's access the `username` attribute. We can access it because it is protected, through a subclass.\n",
    "\n",
    "Let's see what a subclass is: a subclass is a class that inherits from another class. In this case, the `User` class is a subclass of the `Person` class."
   ]
  },
  {
   "cell_type": "code",
   "execution_count": null,
   "metadata": {},
   "outputs": [
    {
     "ename": "AttributeError",
     "evalue": "'User' object has no attribute '_User__password'",
     "output_type": "error",
     "traceback": [
      "\u001b[1;31m---------------------------------------------------------------------------\u001b[0m",
      "\u001b[1;31mAttributeError\u001b[0m                            Traceback (most recent call last)",
      "Cell \u001b[1;32mIn[74], line 13\u001b[0m\n\u001b[0;32m      9\u001b[0m         \u001b[38;5;28;01mreturn\u001b[39;00m \u001b[38;5;28mself\u001b[39m\u001b[38;5;241m.\u001b[39m_User__password\n\u001b[0;32m     11\u001b[0m me \u001b[38;5;241m=\u001b[39m User(\u001b[38;5;124m\"\u001b[39m\u001b[38;5;124mDani\u001b[39m\u001b[38;5;124m\"\u001b[39m, \u001b[38;5;124m\"\u001b[39m\u001b[38;5;124mdani_user\u001b[39m\u001b[38;5;124m\"\u001b[39m, \u001b[38;5;124m\"\u001b[39m\u001b[38;5;124mpassword\u001b[39m\u001b[38;5;124m\"\u001b[39m)\n\u001b[1;32m---> 13\u001b[0m me\u001b[38;5;241m.\u001b[39mget_username()\n",
      "Cell \u001b[1;32mIn[74], line 9\u001b[0m, in \u001b[0;36mUser.get_username\u001b[1;34m(self)\u001b[0m\n\u001b[0;32m      8\u001b[0m \u001b[38;5;28;01mdef\u001b[39;00m \u001b[38;5;21mget_username\u001b[39m(\u001b[38;5;28mself\u001b[39m):\n\u001b[1;32m----> 9\u001b[0m     \u001b[38;5;28;01mreturn\u001b[39;00m \u001b[38;5;28mself\u001b[39m\u001b[38;5;241m.\u001b[39m_User__password\n",
      "\u001b[1;31mAttributeError\u001b[0m: 'User' object has no attribute '_User__password'"
     ]
    }
   ],
   "source": [
    "class User(Person):\n",
    "    def __init__(self, name, username, password):\n",
    "        super().__init__(name, username, password)\n",
    "\n",
    "    def get_username(self):\n",
    "        return self._username\n",
    "    \n",
    "    #def get_username(self):\n",
    "    #    return self._User__password #Tampoco funciona\n",
    "\n",
    "me = User(\"Dani\", \"dani_user\", \"password\")\n",
    "\n",
    "me.get_username() # OK"
   ]
  },
  {
   "cell_type": "code",
   "execution_count": 73,
   "metadata": {},
   "outputs": [
    {
     "ename": "AttributeError",
     "evalue": "'User' object has no attribute '_User__password'",
     "output_type": "error",
     "traceback": [
      "\u001b[1;31m---------------------------------------------------------------------------\u001b[0m",
      "\u001b[1;31mAttributeError\u001b[0m                            Traceback (most recent call last)",
      "Cell \u001b[1;32mIn[73], line 1\u001b[0m\n\u001b[1;32m----> 1\u001b[0m me\u001b[38;5;241m.\u001b[39m_User__password\n",
      "\u001b[1;31mAttributeError\u001b[0m: 'User' object has no attribute '_User__password'"
     ]
    }
   ],
   "source": [
    "me._User__password"
   ]
  },
  {
   "cell_type": "markdown",
   "metadata": {},
   "source": [
    "At last, let's try to access the `password` attribute. We cannot access it because it is private."
   ]
  },
  {
   "cell_type": "code",
   "execution_count": 41,
   "metadata": {},
   "outputs": [
    {
     "ename": "AttributeError",
     "evalue": "'Person' object has no attribute 'password'",
     "output_type": "error",
     "traceback": [
      "\u001b[0;31m---------------------------------------------------------------------------\u001b[0m",
      "\u001b[0;31mAttributeError\u001b[0m                            Traceback (most recent call last)",
      "Cell \u001b[0;32mIn[41], line 3\u001b[0m\n\u001b[1;32m      1\u001b[0m me \u001b[38;5;241m=\u001b[39m Person(\u001b[38;5;124m\"\u001b[39m\u001b[38;5;124mDani\u001b[39m\u001b[38;5;124m\"\u001b[39m, \u001b[38;5;124m\"\u001b[39m\u001b[38;5;124mdani\u001b[39m\u001b[38;5;124m\"\u001b[39m, \u001b[38;5;124m\"\u001b[39m\u001b[38;5;124mpassword\u001b[39m\u001b[38;5;124m\"\u001b[39m)\n\u001b[0;32m----> 3\u001b[0m \u001b[43mme\u001b[49m\u001b[38;5;241;43m.\u001b[39;49m\u001b[43mpassword\u001b[49m\n",
      "\u001b[0;31mAttributeError\u001b[0m: 'Person' object has no attribute 'password'"
     ]
    }
   ],
   "source": [
    "me = Person(\"Dani\", \"dani\", \"password\")\n",
    "\n",
    "me.password # NOOK"
   ]
  },
  {
   "cell_type": "markdown",
   "metadata": {},
   "source": [
    "The only way to access the `password` attribute is by using the `_Person__password` attribute, but it is not recommended. Or by creating a method that returns the password, or using it inside the class."
   ]
  },
  {
   "cell_type": "code",
   "execution_count": 42,
   "metadata": {},
   "outputs": [
    {
     "data": {
      "text/plain": [
       "'password'"
      ]
     },
     "execution_count": 42,
     "metadata": {},
     "output_type": "execute_result"
    }
   ],
   "source": [
    "me._Person__password # OK"
   ]
  },
  {
   "cell_type": "markdown",
   "metadata": {},
   "source": [
    "## Polymorphism\n",
    "\n",
    "Polymorphism is the idea that different elements like a method or an object can be used in different ways according to the context. Like me, I can be a teacher, a student, a friend, a son, etc. Depending on the context, I can be used in different ways.\n",
    "\n",
    "For example, we can have a `Dog` class and a `Cat` class, and both of them can have a `speak` method. We can use the `speak` method with both classes, even though they are different classes.\n",
    "\n",
    "Even though the `Dog` and `Cat` classes have different implementations of the `speak` method, we can use the `speak` method with both classes. Depending on the animal, the `speak` method will return a different sound."
   ]
  },
  {
   "cell_type": "code",
   "execution_count": 75,
   "metadata": {},
   "outputs": [
    {
     "name": "stdout",
     "output_type": "stream",
     "text": [
      "Woof!\n",
      "Meow!\n"
     ]
    }
   ],
   "source": [
    "class Dog():\n",
    "    def __init__(self, name):\n",
    "        self.name = name\n",
    "\n",
    "    def speak(self):\n",
    "        return \"Woof!\"\n",
    "\n",
    "class Cat():\n",
    "    def __init__(self, name):\n",
    "        self.name = name\n",
    "\n",
    "    def speak(self):\n",
    "        return \"Meow!\"\n",
    "\n",
    "churro = Dog(\"Churro\")\n",
    "print(churro.speak())\n",
    "\n",
    "misi = Cat(\"Misi\")\n",
    "print(misi.speak())"
   ]
  },
  {
   "cell_type": "markdown",
   "metadata": {},
   "source": [
    "Ok, we got both animals to speak, how does polymorphism work? We can use the `speak` method with both classes, even though they are different classes.\n",
    "\n",
    "We haven't created a super class `Animal`, but we can still use the `speak` method with both classes. This is polymorphism."
   ]
  },
  {
   "cell_type": "code",
   "execution_count": 76,
   "metadata": {},
   "outputs": [
    {
     "name": "stdout",
     "output_type": "stream",
     "text": [
      "Woof!\n",
      "Meow!\n"
     ]
    }
   ],
   "source": [
    "for pet in [churro, misi]: #muy interesante esta manera porque lo que hace es aplicar una función a cada uno de los elementos de la lista\n",
    "    print(pet.speak())"
   ]
  },
  {
   "cell_type": "markdown",
   "metadata": {},
   "source": [
    "### Polymorphism with inheritance: method overriding\n",
    "\n",
    "Polymorphism can also be used with inheritance. We can override a method from the parent class in the child class."
   ]
  },
  {
   "cell_type": "code",
   "execution_count": 79,
   "metadata": {},
   "outputs": [
    {
     "ename": "NotImplementedError",
     "evalue": "Subclass must implement this abstract method",
     "output_type": "error",
     "traceback": [
      "\u001b[1;31m---------------------------------------------------------------------------\u001b[0m",
      "\u001b[1;31mNotImplementedError\u001b[0m                       Traceback (most recent call last)",
      "Cell \u001b[1;32mIn[79], line 14\u001b[0m\n\u001b[0;32m     10\u001b[0m         \u001b[38;5;28;01mreturn\u001b[39;00m \u001b[38;5;124m\"\u001b[39m\u001b[38;5;124mWoof!\u001b[39m\u001b[38;5;124m\"\u001b[39m\n\u001b[0;32m     12\u001b[0m animal \u001b[38;5;241m=\u001b[39m Animal(\u001b[38;5;124m\"\u001b[39m\u001b[38;5;124mxxx\u001b[39m\u001b[38;5;124m\"\u001b[39m)\n\u001b[1;32m---> 14\u001b[0m animal\u001b[38;5;241m.\u001b[39mspeak()\n",
      "Cell \u001b[1;32mIn[79], line 6\u001b[0m, in \u001b[0;36mAnimal.speak\u001b[1;34m(self)\u001b[0m\n\u001b[0;32m      5\u001b[0m \u001b[38;5;28;01mdef\u001b[39;00m \u001b[38;5;21mspeak\u001b[39m(\u001b[38;5;28mself\u001b[39m):\n\u001b[1;32m----> 6\u001b[0m     \u001b[38;5;28;01mraise\u001b[39;00m \u001b[38;5;167;01mNotImplementedError\u001b[39;00m(\u001b[38;5;124m\"\u001b[39m\u001b[38;5;124mSubclass must implement this abstract method\u001b[39m\u001b[38;5;124m\"\u001b[39m)\n",
      "\u001b[1;31mNotImplementedError\u001b[0m: Subclass must implement this abstract method"
     ]
    }
   ],
   "source": [
    "class Animal():\n",
    "    def __init__(self, name):\n",
    "        self.name = name\n",
    "\n",
    "    def speak(self):\n",
    "        raise NotImplementedError(\"Subclass must implement this abstract method\")\n",
    "\n",
    "class Dog(Animal):\n",
    "    def speak(self):\n",
    "        return \"Woof!\"\n",
    "\n",
    "animal = Animal(\"xxx\")\n",
    "\n",
    "animal.speak()"
   ]
  },
  {
   "cell_type": "code",
   "execution_count": 80,
   "metadata": {},
   "outputs": [
    {
     "data": {
      "text/plain": [
       "'Woof!'"
      ]
     },
     "execution_count": 80,
     "metadata": {},
     "output_type": "execute_result"
    }
   ],
   "source": [
    "churro = Dog(\"Churro\")\n",
    "\n",
    "churro.speak()"
   ]
  },
  {
   "cell_type": "markdown",
   "metadata": {},
   "source": [
    "By overriding a method, we can change the behavior of the method in the child class."
   ]
  }
 ],
 "metadata": {
  "kernelspec": {
   "display_name": "base",
   "language": "python",
   "name": "python3"
  },
  "language_info": {
   "codemirror_mode": {
    "name": "ipython",
    "version": 3
   },
   "file_extension": ".py",
   "mimetype": "text/x-python",
   "name": "python",
   "nbconvert_exporter": "python",
   "pygments_lexer": "ipython3",
   "version": "3.12.4"
  }
 },
 "nbformat": 4,
 "nbformat_minor": 2
}
