{
 "cells": [
  {
   "cell_type": "markdown",
   "metadata": {},
   "source": [
    "# Mid-term Exam\n",
    "\n",
    "In this exam you will work on the following concepts:\n",
    "\n",
    "* Handling dates and times in Python and Pandas\n",
    "* Handling text data in Pandas with regular expressions\n",
    "* Interacting with APIs to get data\n",
    "* Basic concepts of Object Oriented Programming\n",
    "\n",
    "The two APIs that you will use are:\n",
    "\n",
    "* [Open Notify](http://open-notify.org/Open-Notify-API/): an API that provides information about the International Space Station (ISS).\n",
    "* [Kanye Rest](https://kanye.rest/): an API that provides quotes from Kanye West.\n",
    "\n",
    "Rules:\n",
    "- The time limit is 80 minutes.\n",
    "- Every solution must be written in Python, and the result must be printed or returned.\n",
    "- 5 minutes before the end, a warning will be given to submit what you have so far. No submissions will be accepted after the end of the exam.\n",
    "- You can resubmit as many times as you want.\n",
    "- The exam is open-book, open-notes, open-internet, open-everything except for communicating with anyone by any means, sharing solutions, or using AI in any form.\n",
    "    - The student that doesn't comply with these rules will fail immediately and reported to the university.\n",
    "- If you have a question, please raise your hand. I will come to you.\n",
    "- For every exercise with a single solution, the solution is provided, but you need to write the code to solve it.\n",
    "- If you couldn't solve an exercise and you need the solution, you can copy my solution at a penalty of 75% of the exercise's grade.\n",
    "    - E.g. on exercise 1 (1 point) you don't know the solution, but you need it for exercise 2 (1 point). You can copy the solution, but the maximum grade you can get on exercise 2 is 25% of the points. The total grade in both exercises will be 0.25 points.\n",
    "\n",
    "\n",
    "Submission:\n",
    "- Before the end of the exam, submit the exam using the link provided in the mid-term exam announcement.\n",
    "- Only submit the completed notebook, no other files are needed, only the `.ipynb` file.\n"
   ]
  },
  {
   "cell_type": "code",
   "execution_count": 2,
   "metadata": {},
   "outputs": [],
   "source": [
    "import pandas as pd\n",
    "from datetime import datetime\n",
    "import re\n",
    "import requests\n",
    "import os\n",
    "from time import sleep\n",
    "from dotenv import load_dotenv\n",
    "import datetime\n",
    "import json\n",
    "from functools import reduce"
   ]
  },
  {
   "cell_type": "markdown",
   "metadata": {},
   "source": [
    "## Exam theme.\n",
    "\n",
    "Following the recent events, the ISS is repurposing its mission. They think that what the world needs now is Kanye, sweet Kanye.\n",
    "\n",
    "They have come up with a business idea which is to have the ISS display Kanye West quotes in the sky. You are the first employee in the new Kanye West Space Program (KWSP). \n",
    "\n",
    "Everything you build should be done in a class called `KanyeSpace`."
   ]
  },
  {
   "cell_type": "markdown",
   "metadata": {},
   "source": [
    "## Exercise 1 (1 point)\n",
    "\n",
    "Using the ISS API, build a function called `get_iss_position` that gets the current position of the ISS and returns it as a tuple with the latitude and longitude as floats."
   ]
  },
  {
   "cell_type": "code",
   "execution_count": 12,
   "metadata": {},
   "outputs": [],
   "source": [
    "\n",
    "def get_iss_position():\n",
    "        response = requests.get(url=\"http://api.open-notify.org/iss-now.json\")\n",
    "        response_json = response.json()\n",
    "        response_json['timestamp'] = pd.to_datetime(response_json['timestamp'], unit='s')\n",
    "        return (response_json['iss_position']['longitude'],response_json['iss_position']['latitude'])\n",
    "\n"
   ]
  },
  {
   "cell_type": "code",
   "execution_count": null,
   "metadata": {},
   "outputs": [
    {
     "data": {
      "text/plain": [
       "tuple"
      ]
     },
     "execution_count": 16,
     "metadata": {},
     "output_type": "execute_result"
    }
   ],
   "source": [
    "iss_position = get_iss_position()\n",
    "type(iss_position)"
   ]
  },
  {
   "cell_type": "markdown",
   "metadata": {},
   "source": [
    "## Exercise 2 (1 point)\n",
    "\n",
    "Using the Kanye Rest API, build a function called `get_kanye_quote` that gets a quote from Kanye West and returns it as a string."
   ]
  },
  {
   "cell_type": "code",
   "execution_count": 17,
   "metadata": {},
   "outputs": [],
   "source": [
    "def get_kanye_quote():\n",
    "    response = requests.get(url=\"https://api.kanye.rest/\")\n",
    "    data = response.json()\n",
    "    return data"
   ]
  },
  {
   "cell_type": "code",
   "execution_count": 18,
   "metadata": {},
   "outputs": [
    {
     "data": {
      "text/plain": [
       "{'quote': \"My first pillar when I'm on the board of adidas will be an adidas Nike collaboration to support community growth\"}"
      ]
     },
     "execution_count": 18,
     "metadata": {},
     "output_type": "execute_result"
    }
   ],
   "source": [
    "kayne_quote = get_kanye_quote()\n",
    "kayne_quote"
   ]
  },
  {
   "cell_type": "markdown",
   "metadata": {},
   "source": [
    "## Exercise 3 (1 point)\n",
    "\n",
    "Create a class called `KanyeSpace`. This class should have the following methods:\n",
    "\n",
    "* `__init__(self)`: This method should initialize the class.\n",
    "    * It should have an attribute called `pilot_name` that you pass when creating an instance of the class.\n",
    "* `get_kanye_quote(self)`: This method should return a random Kanye West quote as a string. You can use the [Kanye Rest API](https://kanye.rest/).\n",
    "* `get_iss_position(self)`: This method should return the current position of the ISS as a tuple with the latitude and longitude as floats. You can use the [Open Notify API](http://open-notify.org/Open-Notify-API/).\n",
    "\n",
    "Then print the following:\n",
    "\n",
    "* The name of the pilot.\n",
    "* A random Kanye West quote.\n",
    "* The current position of the ISS.\n"
   ]
  },
  {
   "cell_type": "code",
   "execution_count": 19,
   "metadata": {},
   "outputs": [],
   "source": [
    "class KayneSpace():\n",
    "    def __init__(self, pilot_name):\n",
    "        self.pilot_name = pilot_name\n",
    "\n",
    "    def get_kanye_quote(self):\n",
    "        return get_kanye_quote()\n",
    "    \n",
    "    def get_iss_position(self):\n",
    "        return get_iss_position()"
   ]
  },
  {
   "cell_type": "code",
   "execution_count": 20,
   "metadata": {},
   "outputs": [
    {
     "data": {
      "text/plain": [
       "'test'"
      ]
     },
     "execution_count": 20,
     "metadata": {},
     "output_type": "execute_result"
    }
   ],
   "source": [
    "test1 = KayneSpace('test')\n",
    "test1.pilot_name"
   ]
  },
  {
   "cell_type": "code",
   "execution_count": 21,
   "metadata": {},
   "outputs": [
    {
     "data": {
      "text/plain": [
       "{'quote': 'I leave my emojis bart Simpson color'}"
      ]
     },
     "execution_count": 21,
     "metadata": {},
     "output_type": "execute_result"
    }
   ],
   "source": [
    "test1.get_kanye_quote()"
   ]
  },
  {
   "cell_type": "code",
   "execution_count": 22,
   "metadata": {},
   "outputs": [
    {
     "data": {
      "text/plain": [
       "('-166.5451', '-29.5419')"
      ]
     },
     "execution_count": 22,
     "metadata": {},
     "output_type": "execute_result"
    }
   ],
   "source": [
    "test1.get_iss_position()"
   ]
  },
  {
   "cell_type": "markdown",
   "metadata": {},
   "source": [
    "## Exercise 4 (1 points)\n",
    "\n",
    "Let's test the `KanyeSpace` class.\n",
    "\n",
    "Using the `get_kanye_quote` method from the `KanyeSpace` class, create a DataFrame with 20 Kanye West quotes, and the following columns:\n",
    "\n",
    "* The quote number (starting from 1): column name `quote_id`\n",
    "* The quote itself: column name `quote`\n",
    "* The length of the quote: column name `quote_length`\n",
    "* The amount of spaces in the quote: column name `n_spaces`\n",
    "* The amount of 3-letter words in the quote: column name `n_3_letter_words`\n",
    "\n",
    "You should use regular expressions to count the spaces and 3-letter words.\n",
    "\n",
    "If you use more than 20 calls to the API, you will get a penalty of 2 points.\n"
   ]
  },
  {
   "cell_type": "code",
   "execution_count": 56,
   "metadata": {},
   "outputs": [
    {
     "data": {
      "text/html": [
       "<div>\n",
       "<style scoped>\n",
       "    .dataframe tbody tr th:only-of-type {\n",
       "        vertical-align: middle;\n",
       "    }\n",
       "\n",
       "    .dataframe tbody tr th {\n",
       "        vertical-align: top;\n",
       "    }\n",
       "\n",
       "    .dataframe thead th {\n",
       "        text-align: right;\n",
       "    }\n",
       "</style>\n",
       "<table border=\"1\" class=\"dataframe\">\n",
       "  <thead>\n",
       "    <tr style=\"text-align: right;\">\n",
       "      <th></th>\n",
       "      <th>quote_id</th>\n",
       "      <th>quote</th>\n",
       "      <th>quote_lenght</th>\n",
       "      <th>n_spaces</th>\n",
       "      <th>n_3_letter_words</th>\n",
       "    </tr>\n",
       "  </thead>\n",
       "  <tbody>\n",
       "    <tr>\n",
       "      <th>0</th>\n",
       "      <td>1</td>\n",
       "      <td>I really love my Tesla. I'm in the future. Tha...</td>\n",
       "      <td>58</td>\n",
       "      <td>11</td>\n",
       "      <td>10</td>\n",
       "    </tr>\n",
       "    <tr>\n",
       "      <th>1</th>\n",
       "      <td>2</td>\n",
       "      <td>My first pillar when I'm on the board of adida...</td>\n",
       "      <td>112</td>\n",
       "      <td>19</td>\n",
       "      <td>23</td>\n",
       "    </tr>\n",
       "    <tr>\n",
       "      <th>2</th>\n",
       "      <td>3</td>\n",
       "      <td>Truth is my goal. Controversy is my gym. I'll ...</td>\n",
       "      <td>100</td>\n",
       "      <td>20</td>\n",
       "      <td>15</td>\n",
       "    </tr>\n",
       "    <tr>\n",
       "      <th>3</th>\n",
       "      <td>4</td>\n",
       "      <td>Keep squares out yo circle</td>\n",
       "      <td>26</td>\n",
       "      <td>4</td>\n",
       "      <td>6</td>\n",
       "    </tr>\n",
       "    <tr>\n",
       "      <th>4</th>\n",
       "      <td>5</td>\n",
       "      <td>We must and will cure homelessness and hunger....</td>\n",
       "      <td>82</td>\n",
       "      <td>14</td>\n",
       "      <td>18</td>\n",
       "    </tr>\n",
       "    <tr>\n",
       "      <th>5</th>\n",
       "      <td>6</td>\n",
       "      <td>There are 5 main pillars in a professional mus...</td>\n",
       "      <td>127</td>\n",
       "      <td>18</td>\n",
       "      <td>29</td>\n",
       "    </tr>\n",
       "    <tr>\n",
       "      <th>6</th>\n",
       "      <td>7</td>\n",
       "      <td>Sometimes you have to get rid of everything</td>\n",
       "      <td>43</td>\n",
       "      <td>7</td>\n",
       "      <td>10</td>\n",
       "    </tr>\n",
       "    <tr>\n",
       "      <th>7</th>\n",
       "      <td>8</td>\n",
       "      <td>I'm giving all Good music artists back the 50%...</td>\n",
       "      <td>76</td>\n",
       "      <td>14</td>\n",
       "      <td>14</td>\n",
       "    </tr>\n",
       "    <tr>\n",
       "      <th>8</th>\n",
       "      <td>9</td>\n",
       "      <td>Everything you do in life stems from either fe...</td>\n",
       "      <td>56</td>\n",
       "      <td>10</td>\n",
       "      <td>11</td>\n",
       "    </tr>\n",
       "    <tr>\n",
       "      <th>9</th>\n",
       "      <td>10</td>\n",
       "      <td>Believe in your flyness...conquer your shyness.</td>\n",
       "      <td>47</td>\n",
       "      <td>5</td>\n",
       "      <td>10</td>\n",
       "    </tr>\n",
       "    <tr>\n",
       "      <th>10</th>\n",
       "      <td>11</td>\n",
       "      <td>We used to diss Michael Jackson the media made...</td>\n",
       "      <td>89</td>\n",
       "      <td>17</td>\n",
       "      <td>17</td>\n",
       "    </tr>\n",
       "    <tr>\n",
       "      <th>11</th>\n",
       "      <td>12</td>\n",
       "      <td>We will be recognized</td>\n",
       "      <td>21</td>\n",
       "      <td>3</td>\n",
       "      <td>4</td>\n",
       "    </tr>\n",
       "    <tr>\n",
       "      <th>12</th>\n",
       "      <td>13</td>\n",
       "      <td>Speak God's truth to power</td>\n",
       "      <td>26</td>\n",
       "      <td>4</td>\n",
       "      <td>4</td>\n",
       "    </tr>\n",
       "    <tr>\n",
       "      <th>13</th>\n",
       "      <td>14</td>\n",
       "      <td>One of my favorite of many things about what t...</td>\n",
       "      <td>133</td>\n",
       "      <td>26</td>\n",
       "      <td>23</td>\n",
       "    </tr>\n",
       "    <tr>\n",
       "      <th>14</th>\n",
       "      <td>15</td>\n",
       "      <td>Let's be like water</td>\n",
       "      <td>19</td>\n",
       "      <td>3</td>\n",
       "      <td>3</td>\n",
       "    </tr>\n",
       "    <tr>\n",
       "      <th>15</th>\n",
       "      <td>16</td>\n",
       "      <td>Two years ago we had 50 million people subscri...</td>\n",
       "      <td>122</td>\n",
       "      <td>20</td>\n",
       "      <td>26</td>\n",
       "    </tr>\n",
       "    <tr>\n",
       "      <th>16</th>\n",
       "      <td>17</td>\n",
       "      <td>Sometimes I push the door close button on peop...</td>\n",
       "      <td>131</td>\n",
       "      <td>21</td>\n",
       "      <td>29</td>\n",
       "    </tr>\n",
       "    <tr>\n",
       "      <th>17</th>\n",
       "      <td>18</td>\n",
       "      <td>I'm giving all Good music artists back the 50%...</td>\n",
       "      <td>76</td>\n",
       "      <td>14</td>\n",
       "      <td>14</td>\n",
       "    </tr>\n",
       "    <tr>\n",
       "      <th>18</th>\n",
       "      <td>19</td>\n",
       "      <td>Shut the fuck up I will fucking laser you with...</td>\n",
       "      <td>95</td>\n",
       "      <td>17</td>\n",
       "      <td>20</td>\n",
       "    </tr>\n",
       "    <tr>\n",
       "      <th>19</th>\n",
       "      <td>20</td>\n",
       "      <td>Artists are founders</td>\n",
       "      <td>20</td>\n",
       "      <td>2</td>\n",
       "      <td>5</td>\n",
       "    </tr>\n",
       "  </tbody>\n",
       "</table>\n",
       "</div>"
      ],
      "text/plain": [
       "   quote_id                                              quote quote_lenght  \\\n",
       "0         1  I really love my Tesla. I'm in the future. Tha...           58   \n",
       "1         2  My first pillar when I'm on the board of adida...          112   \n",
       "2         3  Truth is my goal. Controversy is my gym. I'll ...          100   \n",
       "3         4                         Keep squares out yo circle           26   \n",
       "4         5  We must and will cure homelessness and hunger....           82   \n",
       "5         6  There are 5 main pillars in a professional mus...          127   \n",
       "6         7        Sometimes you have to get rid of everything           43   \n",
       "7         8  I'm giving all Good music artists back the 50%...           76   \n",
       "8         9  Everything you do in life stems from either fe...           56   \n",
       "9        10    Believe in your flyness...conquer your shyness.           47   \n",
       "10       11  We used to diss Michael Jackson the media made...           89   \n",
       "11       12                              We will be recognized           21   \n",
       "12       13                         Speak God's truth to power           26   \n",
       "13       14  One of my favorite of many things about what t...          133   \n",
       "14       15                                Let's be like water           19   \n",
       "15       16  Two years ago we had 50 million people subscri...          122   \n",
       "16       17  Sometimes I push the door close button on peop...          131   \n",
       "17       18  I'm giving all Good music artists back the 50%...           76   \n",
       "18       19  Shut the fuck up I will fucking laser you with...           95   \n",
       "19       20                               Artists are founders           20   \n",
       "\n",
       "   n_spaces n_3_letter_words  \n",
       "0        11               10  \n",
       "1        19               23  \n",
       "2        20               15  \n",
       "3         4                6  \n",
       "4        14               18  \n",
       "5        18               29  \n",
       "6         7               10  \n",
       "7        14               14  \n",
       "8        10               11  \n",
       "9         5               10  \n",
       "10       17               17  \n",
       "11        3                4  \n",
       "12        4                4  \n",
       "13       26               23  \n",
       "14        3                3  \n",
       "15       20               26  \n",
       "16       21               29  \n",
       "17       14               14  \n",
       "18       17               20  \n",
       "19        2                5  "
      ]
     },
     "execution_count": 56,
     "metadata": {},
     "output_type": "execute_result"
    }
   ],
   "source": [
    "df = pd.DataFrame(columns=['quote_id','quote', 'quote_lenght','n_spaces','n_3_letter_words'])\n",
    "\n",
    "for x in range(20):\n",
    "    \n",
    "    data = test1.get_kanye_quote()\n",
    "    \n",
    "    data_conv = {'quote_id': x+1, \n",
    "                'quote': data['quote'], \n",
    "                'quote_lenght': len(data['quote']), \n",
    "                'n_spaces': len(re.findall(r\"\\s\",data['quote'])), \n",
    "                'n_3_letter_words': len(re.findall(r\"\\w{3}\",data['quote']))\n",
    "                }\n",
    "    df = df._append(data_conv, ignore_index=True)\n",
    "\n",
    "df"
   ]
  },
  {
   "cell_type": "markdown",
   "metadata": {},
   "source": [
    "## Exercise 5 (1 point)\n",
    "\n",
    "How many different words have you found in the quotes? Create a function called `get_nunique_words` that returns the number of unique words in the column `quote` of the dataframe.\n",
    "\n",
    "**Hint**: if you didn't solve exercise 4, you can use the CSV file `kanye_quotes.csv` that is provided in the exam folder to answer this question.\n",
    "\n",
    "**Extra**: if you solve it without a for loop, you will get an extra 0.5 points."
   ]
  },
  {
   "cell_type": "code",
   "execution_count": 49,
   "metadata": {},
   "outputs": [],
   "source": [
    "df1 = df"
   ]
  },
  {
   "cell_type": "code",
   "execution_count": 55,
   "metadata": {},
   "outputs": [
    {
     "ename": "TypeError",
     "evalue": "expected string or bytes-like object, got 'Series'",
     "output_type": "error",
     "traceback": [
      "\u001b[1;31m---------------------------------------------------------------------------\u001b[0m",
      "\u001b[1;31mTypeError\u001b[0m                                 Traceback (most recent call last)",
      "Cell \u001b[1;32mIn[55], line 2\u001b[0m\n\u001b[0;32m      1\u001b[0m \u001b[38;5;28;01mfor\u001b[39;00m x \u001b[38;5;129;01min\u001b[39;00m \u001b[38;5;28mrange\u001b[39m(\u001b[38;5;241m20\u001b[39m):\n\u001b[1;32m----> 2\u001b[0m     df1[\u001b[38;5;124m'\u001b[39m\u001b[38;5;124mquote\u001b[39m\u001b[38;5;124m'\u001b[39m] \u001b[38;5;241m=\u001b[39m \u001b[38;5;28mlist\u001b[39m(re\u001b[38;5;241m.\u001b[39mfindall(\u001b[38;5;124mr\u001b[39m\u001b[38;5;124m\"\u001b[39m\u001b[38;5;124m\\\u001b[39m\u001b[38;5;124mW+\u001b[39m\u001b[38;5;124m\"\u001b[39m,df[\u001b[38;5;124m'\u001b[39m\u001b[38;5;124mquote\u001b[39m\u001b[38;5;124m'\u001b[39m]))\n",
      "File \u001b[1;32mc:\\Users\\juanm\\anaconda3\\Lib\\re\\__init__.py:217\u001b[0m, in \u001b[0;36mfindall\u001b[1;34m(pattern, string, flags)\u001b[0m\n\u001b[0;32m    209\u001b[0m \u001b[38;5;28;01mdef\u001b[39;00m \u001b[38;5;21mfindall\u001b[39m(pattern, string, flags\u001b[38;5;241m=\u001b[39m\u001b[38;5;241m0\u001b[39m):\n\u001b[0;32m    210\u001b[0m \u001b[38;5;250m    \u001b[39m\u001b[38;5;124;03m\"\"\"Return a list of all non-overlapping matches in the string.\u001b[39;00m\n\u001b[0;32m    211\u001b[0m \n\u001b[0;32m    212\u001b[0m \u001b[38;5;124;03m    If one or more capturing groups are present in the pattern, return\u001b[39;00m\n\u001b[1;32m   (...)\u001b[0m\n\u001b[0;32m    215\u001b[0m \n\u001b[0;32m    216\u001b[0m \u001b[38;5;124;03m    Empty matches are included in the result.\"\"\"\u001b[39;00m\n\u001b[1;32m--> 217\u001b[0m     \u001b[38;5;28;01mreturn\u001b[39;00m _compile(pattern, flags)\u001b[38;5;241m.\u001b[39mfindall(string)\n",
      "\u001b[1;31mTypeError\u001b[0m: expected string or bytes-like object, got 'Series'"
     ]
    }
   ],
   "source": [
    "for x in range(20):\n",
    "    df1['quote'] = list(re.findall(r\"\\W+\",df['quote']))"
   ]
  },
  {
   "cell_type": "code",
   "execution_count": 46,
   "metadata": {},
   "outputs": [
    {
     "ename": "TypeError",
     "evalue": "expected string or bytes-like object, got 'Series'",
     "output_type": "error",
     "traceback": [
      "\u001b[1;31m---------------------------------------------------------------------------\u001b[0m",
      "\u001b[1;31mTypeError\u001b[0m                                 Traceback (most recent call last)",
      "Cell \u001b[1;32mIn[46], line 2\u001b[0m\n\u001b[0;32m      1\u001b[0m df1 \u001b[38;5;241m=\u001b[39m df\n\u001b[1;32m----> 2\u001b[0m df[\u001b[38;5;124m'\u001b[39m\u001b[38;5;124munique_words\u001b[39m\u001b[38;5;124m'\u001b[39m] \u001b[38;5;241m=\u001b[39m re\u001b[38;5;241m.\u001b[39mfindall(\u001b[38;5;124mr\u001b[39m\u001b[38;5;124m\"\u001b[39m\u001b[38;5;124m\\\u001b[39m\u001b[38;5;124mW+\u001b[39m\u001b[38;5;124m\"\u001b[39m,df[\u001b[38;5;124m'\u001b[39m\u001b[38;5;124mquote\u001b[39m\u001b[38;5;124m'\u001b[39m])\n",
      "File \u001b[1;32mc:\\Users\\juanm\\anaconda3\\Lib\\re\\__init__.py:217\u001b[0m, in \u001b[0;36mfindall\u001b[1;34m(pattern, string, flags)\u001b[0m\n\u001b[0;32m    209\u001b[0m \u001b[38;5;28;01mdef\u001b[39;00m \u001b[38;5;21mfindall\u001b[39m(pattern, string, flags\u001b[38;5;241m=\u001b[39m\u001b[38;5;241m0\u001b[39m):\n\u001b[0;32m    210\u001b[0m \u001b[38;5;250m    \u001b[39m\u001b[38;5;124;03m\"\"\"Return a list of all non-overlapping matches in the string.\u001b[39;00m\n\u001b[0;32m    211\u001b[0m \n\u001b[0;32m    212\u001b[0m \u001b[38;5;124;03m    If one or more capturing groups are present in the pattern, return\u001b[39;00m\n\u001b[1;32m   (...)\u001b[0m\n\u001b[0;32m    215\u001b[0m \n\u001b[0;32m    216\u001b[0m \u001b[38;5;124;03m    Empty matches are included in the result.\"\"\"\u001b[39;00m\n\u001b[1;32m--> 217\u001b[0m     \u001b[38;5;28;01mreturn\u001b[39;00m _compile(pattern, flags)\u001b[38;5;241m.\u001b[39mfindall(string)\n",
      "\u001b[1;31mTypeError\u001b[0m: expected string or bytes-like object, got 'Series'"
     ]
    }
   ],
   "source": [
    "df1 = df\n",
    "df['unique_words'] = re.findall(r\"\\W+\",df['quote']) "
   ]
  },
  {
   "cell_type": "code",
   "execution_count": 44,
   "metadata": {},
   "outputs": [],
   "source": [
    "def get_nunique_words(df):\n",
    "    df['unique_words'] = re.findall(r\"\\W+\",df['quote'])                         \n",
    "    return df "
   ]
  },
  {
   "cell_type": "code",
   "execution_count": 45,
   "metadata": {},
   "outputs": [
    {
     "ename": "TypeError",
     "evalue": "expected string or bytes-like object, got 'Series'",
     "output_type": "error",
     "traceback": [
      "\u001b[1;31m---------------------------------------------------------------------------\u001b[0m",
      "\u001b[1;31mTypeError\u001b[0m                                 Traceback (most recent call last)",
      "Cell \u001b[1;32mIn[45], line 1\u001b[0m\n\u001b[1;32m----> 1\u001b[0m get_nunique_words(df)\n",
      "Cell \u001b[1;32mIn[44], line 2\u001b[0m, in \u001b[0;36mget_nunique_words\u001b[1;34m(df)\u001b[0m\n\u001b[0;32m      1\u001b[0m \u001b[38;5;28;01mdef\u001b[39;00m \u001b[38;5;21mget_nunique_words\u001b[39m(df):\n\u001b[1;32m----> 2\u001b[0m     df[\u001b[38;5;124m'\u001b[39m\u001b[38;5;124munique_words\u001b[39m\u001b[38;5;124m'\u001b[39m] \u001b[38;5;241m=\u001b[39m re\u001b[38;5;241m.\u001b[39mfindall(\u001b[38;5;124mr\u001b[39m\u001b[38;5;124m\"\u001b[39m\u001b[38;5;124m\\\u001b[39m\u001b[38;5;124mW+\u001b[39m\u001b[38;5;124m\"\u001b[39m,df[\u001b[38;5;124m'\u001b[39m\u001b[38;5;124mquote\u001b[39m\u001b[38;5;124m'\u001b[39m])                         \n\u001b[0;32m      3\u001b[0m     \u001b[38;5;28;01mreturn\u001b[39;00m df\n",
      "File \u001b[1;32mc:\\Users\\juanm\\anaconda3\\Lib\\re\\__init__.py:217\u001b[0m, in \u001b[0;36mfindall\u001b[1;34m(pattern, string, flags)\u001b[0m\n\u001b[0;32m    209\u001b[0m \u001b[38;5;28;01mdef\u001b[39;00m \u001b[38;5;21mfindall\u001b[39m(pattern, string, flags\u001b[38;5;241m=\u001b[39m\u001b[38;5;241m0\u001b[39m):\n\u001b[0;32m    210\u001b[0m \u001b[38;5;250m    \u001b[39m\u001b[38;5;124;03m\"\"\"Return a list of all non-overlapping matches in the string.\u001b[39;00m\n\u001b[0;32m    211\u001b[0m \n\u001b[0;32m    212\u001b[0m \u001b[38;5;124;03m    If one or more capturing groups are present in the pattern, return\u001b[39;00m\n\u001b[1;32m   (...)\u001b[0m\n\u001b[0;32m    215\u001b[0m \n\u001b[0;32m    216\u001b[0m \u001b[38;5;124;03m    Empty matches are included in the result.\"\"\"\u001b[39;00m\n\u001b[1;32m--> 217\u001b[0m     \u001b[38;5;28;01mreturn\u001b[39;00m _compile(pattern, flags)\u001b[38;5;241m.\u001b[39mfindall(string)\n",
      "\u001b[1;31mTypeError\u001b[0m: expected string or bytes-like object, got 'Series'"
     ]
    }
   ],
   "source": [
    "get_nunique_words(df)"
   ]
  },
  {
   "cell_type": "markdown",
   "metadata": {},
   "source": [
    "## Exercise 6 (1 point)\n",
    "\n",
    "Let's go back to the `KanyeSpace` class. We need to build the display system for the ISS.\n",
    "\n",
    "Create a method called `display_quote` that returns a string with the following format:\n",
    "\n",
    "```python\n",
    "\"Kanye says: {quote} {current_timestamp}\"\n",
    "```\n",
    "\n",
    "For example: `\"Kanye says: I wish I had a friend like me 2025-01-01 12:34:56\"`\n",
    "\n",
    "Use the current timestamp for the quote. Without milliseconds. Kanye doesn't like milliseconds."
   ]
  },
  {
   "cell_type": "code",
   "execution_count": 78,
   "metadata": {},
   "outputs": [],
   "source": [
    "class KayneSpace():\n",
    "    def __init__(self, pilot_name):\n",
    "        self.pilot_name = pilot_name\n",
    "\n",
    "    def get_kanye_quote(self):\n",
    "        return get_kanye_quote()\n",
    "    \n",
    "    def get_iss_position(self):\n",
    "        return get_iss_position()\n",
    "    \n",
    "    def display_quote(self):\n",
    "        the_quote = f'Kanye says: {self.get_kanye_quote()['quote']} {pd.Timestamp.now()}'\n",
    "        return the_quote"
   ]
  },
  {
   "cell_type": "code",
   "execution_count": 79,
   "metadata": {},
   "outputs": [
    {
     "data": {
      "text/plain": [
       "'Kanye says: I hear people say this person is cool and this person is not cool. People are cool. Man has never invented anything as awesome as a an actual person but sometimes we value the objects we create over life itself 2025-02-11 15:28:42.360577'"
      ]
     },
     "execution_count": 79,
     "metadata": {},
     "output_type": "execute_result"
    }
   ],
   "source": [
    "test2 = KayneSpace('pilot_name')\n",
    "test2.display_quote()"
   ]
  },
  {
   "cell_type": "markdown",
   "metadata": {},
   "source": [
    "## Exercise 7 (1 point)\n",
    "\n",
    "Ok, the display works.\n",
    "\n",
    "Let's run a test where we use `display_quote()` 5 times every 2 seconds. Save the results of the `display_quote()` method in a list called `quotes_list`.\n",
    "\n",
    "Use `time.sleep` for the 'every 2 seconds' part."
   ]
  },
  {
   "cell_type": "code",
   "execution_count": 80,
   "metadata": {},
   "outputs": [],
   "source": [
    "import time\n",
    "response = KayneSpace('pilot_name')\n",
    "data = str(response.display_quote())"
   ]
  },
  {
   "cell_type": "code",
   "execution_count": 81,
   "metadata": {},
   "outputs": [
    {
     "data": {
      "text/plain": [
       "[\"Kanye says: We've gotten comfortable with not having what we deserve 2025-02-11 15:28:57.869485\",\n",
       " 'Kanye says: I feel calm but energized 2025-02-11 15:28:59.957203',\n",
       " \"Kanye says: We've gotten comfortable with not having what we deserve 2025-02-11 15:29:02.020604\",\n",
       " \"Kanye says: I'm on the pursuit of awesomeness, excellence is the bare minimum. 2025-02-11 15:29:04.074344\",\n",
       " 'Kanye says: Only free thinkers 2025-02-11 15:29:06.118621']"
      ]
     },
     "execution_count": 81,
     "metadata": {},
     "output_type": "execute_result"
    }
   ],
   "source": [
    "quotes_list = []\n",
    "for x in range(5):\n",
    "        response = KayneSpace('pilot_name')\n",
    "        data = str(response.display_quote())\n",
    "        quotes_list.append(data)\n",
    "        time.sleep(2)\n",
    "\n",
    "quotes_list"
   ]
  },
  {
   "cell_type": "code",
   "execution_count": 82,
   "metadata": {},
   "outputs": [
    {
     "data": {
      "text/plain": [
       "[\"Kanye says: We've gotten comfortable with not having what we deserve 2025-02-11 15:28:57.869485\",\n",
       " 'Kanye says: I feel calm but energized 2025-02-11 15:28:59.957203',\n",
       " \"Kanye says: We've gotten comfortable with not having what we deserve 2025-02-11 15:29:02.020604\",\n",
       " \"Kanye says: I'm on the pursuit of awesomeness, excellence is the bare minimum. 2025-02-11 15:29:04.074344\",\n",
       " 'Kanye says: Only free thinkers 2025-02-11 15:29:06.118621']"
      ]
     },
     "execution_count": 82,
     "metadata": {},
     "output_type": "execute_result"
    }
   ],
   "source": [
    "quotes_list"
   ]
  },
  {
   "cell_type": "markdown",
   "metadata": {},
   "source": [
    "## Exercise 8 (1 point)\n",
    "\n",
    "Now convert that `quotes_list` to a DataFrame called `quotes_df` with the following columns:\n",
    "\n",
    "* The quote itself: column name `quote`\n",
    "* The timestamp of the quote: column name `timestamp`. If you use regex to extract the timestamp, you will get an extra 0.5 points.\n",
    "\n",
    "For example, if the quote is `\"Kanye says: I wish I had a friend like me 2025-01-01 12:34:56\"`, the dataframe should have the following values:\n",
    "\n",
    "| quote | timestamp |\n",
    "|-------|-----------|\n",
    "| I wish I had a friend like me | 2025-01-01 12:34:56 |\n",
    "\n",
    "If you didnt solve exercise 7, you can use the following list to create the DataFrame, at a penalty of 0.75 points:\n",
    "\n",
    "```python\n",
    "['Kanye says: So many of us need so much less than we have especially when so many of us are in need 2025-02-06 21:01:47',\n",
    "'Kanye says: Perhaps I should have been more like water today 2025-02-06 21:01:49',\n",
    "\"Kanye says: I'm giving all Good music artists back the 50% share I have of their masters 2025-02-06 21:01:51\",\n",
    "\"Kanye says: My mama was a' English teacher. I know how to use correct English but sometimes I just don't feel like it aaaand I ain't got to 2025-02-06 21:01:54\",\n",
    "'Kanye says: Believe in your flyness...conquer your shyness. 2025-02-06 21:01:57']\n",
    "```\n"
   ]
  },
  {
   "cell_type": "code",
   "execution_count": 102,
   "metadata": {},
   "outputs": [
    {
     "data": {
      "text/html": [
       "<div>\n",
       "<style scoped>\n",
       "    .dataframe tbody tr th:only-of-type {\n",
       "        vertical-align: middle;\n",
       "    }\n",
       "\n",
       "    .dataframe tbody tr th {\n",
       "        vertical-align: top;\n",
       "    }\n",
       "\n",
       "    .dataframe thead th {\n",
       "        text-align: right;\n",
       "    }\n",
       "</style>\n",
       "<table border=\"1\" class=\"dataframe\">\n",
       "  <thead>\n",
       "    <tr style=\"text-align: right;\">\n",
       "      <th></th>\n",
       "      <th>quote</th>\n",
       "      <th>timestamp</th>\n",
       "    </tr>\n",
       "  </thead>\n",
       "  <tbody>\n",
       "    <tr>\n",
       "      <th>0</th>\n",
       "      <td>We've gotten comfortable with not having what...</td>\n",
       "      <td>[2025-02-11 15:28:57]</td>\n",
       "    </tr>\n",
       "    <tr>\n",
       "      <th>1</th>\n",
       "      <td>I feel calm but energized</td>\n",
       "      <td>[2025-02-11 15:28:59]</td>\n",
       "    </tr>\n",
       "    <tr>\n",
       "      <th>2</th>\n",
       "      <td>We've gotten comfortable with not having what...</td>\n",
       "      <td>[2025-02-11 15:29:02]</td>\n",
       "    </tr>\n",
       "    <tr>\n",
       "      <th>3</th>\n",
       "      <td>I'm on the pursuit of awesomeness, excellence...</td>\n",
       "      <td>[2025-02-11 15:29:04]</td>\n",
       "    </tr>\n",
       "    <tr>\n",
       "      <th>4</th>\n",
       "      <td>Only free thinkers</td>\n",
       "      <td>[2025-02-11 15:29:06]</td>\n",
       "    </tr>\n",
       "  </tbody>\n",
       "</table>\n",
       "</div>"
      ],
      "text/plain": [
       "                                               quote              timestamp\n",
       "0   We've gotten comfortable with not having what...  [2025-02-11 15:28:57]\n",
       "1                         I feel calm but energized   [2025-02-11 15:28:59]\n",
       "2   We've gotten comfortable with not having what...  [2025-02-11 15:29:02]\n",
       "3   I'm on the pursuit of awesomeness, excellence...  [2025-02-11 15:29:04]\n",
       "4                                Only free thinkers   [2025-02-11 15:29:06]"
      ]
     },
     "execution_count": 102,
     "metadata": {},
     "output_type": "execute_result"
    }
   ],
   "source": [
    "quotes_df = pd.DataFrame(columns=['quote','timestamp'])\n",
    "\n",
    "for x in range(5):\n",
    "    data = {'timestamp' : re.findall(r\"\\d{4}-\\d{2}-\\d{2} [0-9]{1,2}:[0-9]{1,2}:[0-9]{1,2}\",quotes_list[x]),\n",
    "            'quote' :quotes_list[x][11:-26]}\n",
    "    quotes_df = quotes_df._append(data, ignore_index=True)\n",
    "\n",
    "quotes_df"
   ]
  },
  {
   "cell_type": "code",
   "execution_count": null,
   "metadata": {},
   "outputs": [],
   "source": []
  },
  {
   "cell_type": "markdown",
   "metadata": {},
   "source": [
    "## Exercise 9 (1 point)\n",
    "\n",
    "Back to the `KanyeSpace` class.\n",
    "\n",
    "Update the `display_quote` method to include the position of the ISS. The format should be:\n",
    "\n",
    "```python\n",
    "\"Kanye says: {quote} {current_timestamp} {latitude} {longitude}\"\n",
    "```"
   ]
  },
  {
   "cell_type": "code",
   "execution_count": 105,
   "metadata": {},
   "outputs": [],
   "source": [
    "class KayneSpace():\n",
    "    def __init__(self, pilot_name):\n",
    "        self.pilot_name = pilot_name\n",
    "\n",
    "    def get_kanye_quote(self):\n",
    "        return get_kanye_quote()\n",
    "    \n",
    "    def get_iss_position(self):\n",
    "        return get_iss_position()\n",
    "    \n",
    "    def display_quote(self):\n",
    "        the_quote = f'Kanye says: {self.get_kanye_quote()['quote']} {pd.Timestamp.now()} {get_iss_position()[0]} {get_iss_position()[0]}'\n",
    "        return the_quote"
   ]
  },
  {
   "cell_type": "code",
   "execution_count": 106,
   "metadata": {},
   "outputs": [
    {
     "data": {
      "text/plain": [
       "'Kanye says: Pulling up in the may bike 2025-02-11 15:47:57.564481 31.9328 32.0619'"
      ]
     },
     "execution_count": 106,
     "metadata": {},
     "output_type": "execute_result"
    }
   ],
   "source": [
    "test4 = KayneSpace('jksdf')\n",
    "test4.display_quote()"
   ]
  },
  {
   "cell_type": "markdown",
   "metadata": {},
   "source": [
    "## Exercise 10 (1 point)\n",
    "\n",
    "Now we need to check the costs. The cost of the display depends on the position of the ISS, because some weird contract with Starlink.\n",
    "\n",
    "The cost is calculated as follows:\n",
    "\n",
    "* If the ISS is above the equator, the cost is 150 Dogecoins per word in the quote.\n",
    "* If the ISS is below the equator, the cost is 50 Dogecoins per word in the quote.\n",
    "\n",
    "You can know if the ISS is above or below the equator by checking the latitude: if it's positive, it's above the equator, if it's negative, it's below the equator.\n",
    "\n",
    "Create a method called `get_quote_cost` that returns the cost of the quote based on the position of the ISS.\n",
    "\n",
    "Then update the `display_quote` method to display the cost of the quote as well.\n",
    "\n",
    "For example:\n",
    "\n",
    "```python\n",
    "\"Kanye says: One day I'm gon' marry a porn star 2025-02-06 21:12:35 6.0653 -32.5592 1200DOGE\"\n",
    "```\n",
    "\n",
    "8 words times 150 Dogecoins = 1200 Dogecoins. Don't be too picky about counting words, just split by spaces."
   ]
  },
  {
   "cell_type": "code",
   "execution_count": null,
   "metadata": {},
   "outputs": [],
   "source": [
    "class KayneSpace():\n",
    "    def __init__(self, pilot_name):\n",
    "        self.pilot_name = pilot_name\n",
    "\n",
    "    def get_kanye_quote(self):\n",
    "        return get_kanye_quote()\n",
    "    \n",
    "    def get_iss_position(self):\n",
    "        return get_iss_position()\n",
    "    \n",
    "    def display_quote(self):\n",
    "        the_quote = f'Kanye says: {self.get_kanye_quote()['quote']} {pd.Timestamp.now()} {get_iss_position()[0]} {get_iss_position()[0]}'\n",
    "        return the_quote\n",
    "    \n",
    "    def get_quote_cost(self):\n",
    "        if get_iss_position()[0] > 0:\n",
    "            cost = 150\n",
    "        else:\n",
    "            cost = 50\n",
    "        return cost"
   ]
  },
  {
   "cell_type": "markdown",
   "metadata": {},
   "source": [
    "## Exercise 11 (1 point)\n",
    "\n",
    "Time to send the final report to the authorities to get the approval for the project.\n",
    "\n",
    "Using the different methods of the `KanyeSpace` class, create a DataFrame with 5 different quotes, including these columns:\n",
    "\n",
    "* The quote itself: column name `quote`\n",
    "* The position of the ISS: column name `position`\n",
    "* The cost of the quote: column name `cost`\n",
    "* The latitude of the ISS: column name `latitude`\n",
    "* The longitude of the ISS: column name `longitude`\n"
   ]
  },
  {
   "cell_type": "code",
   "execution_count": null,
   "metadata": {},
   "outputs": [],
   "source": []
  },
  {
   "cell_type": "markdown",
   "metadata": {},
   "source": [
    "## Exercise 12 (1 point)\n",
    "\n",
    "What's your favorite Kanye West quote?"
   ]
  },
  {
   "cell_type": "code",
   "execution_count": null,
   "metadata": {},
   "outputs": [],
   "source": [
    "#Just stop lying about shit. Just stop lying."
   ]
  }
 ],
 "metadata": {
  "kernelspec": {
   "display_name": "base",
   "language": "python",
   "name": "python3"
  },
  "language_info": {
   "codemirror_mode": {
    "name": "ipython",
    "version": 3
   },
   "file_extension": ".py",
   "mimetype": "text/x-python",
   "name": "python",
   "nbconvert_exporter": "python",
   "pygments_lexer": "ipython3",
   "version": "3.12.4"
  }
 },
 "nbformat": 4,
 "nbformat_minor": 2
}
