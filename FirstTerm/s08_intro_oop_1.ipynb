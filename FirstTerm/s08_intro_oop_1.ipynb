{
 "cells": [
  {
   "cell_type": "markdown",
   "metadata": {},
   "source": [
    "# Session 08: Intro to Object Oriented Programming (1)\n",
    "\n",
    "Object-oriented programming (OOP) is a programming paradigm that uses \"objects\" to design applications and computer programs. It utilizes several techniques from previously established paradigms, including modularity, polymorphism, and encapsulation.\n",
    "\n",
    "In this session, we will learn about the basics of OOP, including classes, objects, and methods. We will also explore the concepts of inheritance, polymorphism, and encapsulation.\n",
    "\n",
    "## Table of Contents\n",
    "\n",
    "* Classes and Objects\n",
    "* Constructor, attributes and methods\n",
    "* Inheritance\n",
    "\n",
    "## Classes and Objects\n",
    "\n",
    "In OOP, a class is a blueprint for creating objects. It defines the properties and behaviors of objects that belong to the class. An object is an instance of a class.\n",
    "  * Class: the recipe\n",
    "  * Object: the dish\n",
    "\n",
    "Everything in Python is an object, and every object belongs to a class. For example, integers, strings, lists, and dictionaries are all objects in Python.\n",
    "\n",
    "To create a class in Python, we use the `class` keyword followed by the class name. The class definition typically contains properties (data) and methods (functions).\n",
    "\n",
    "Let's create a simple class called `Person` with some properties and methods.\n"
   ]
  },
  {
   "cell_type": "code",
   "execution_count": 2,
   "metadata": {},
   "outputs": [],
   "source": [
    "class PersonClass():\n",
    "\n",
    "    # the __init__ method is a special method that is called when an object is created\n",
    "    # its purpose is to initialize the object's attributes\n",
    "    # it tells us the information we need to create an object\n",
    "    # in this case, we need the name and age of the person\n",
    "    def __init__(self, name, age): \n",
    "        self.name = name\n",
    "        self.age = age\n",
    "\n",
    "    # methods are functions that are associated with a class\n",
    "    # they are defined in the class body\n",
    "    def say_hello(self):\n",
    "        print(f\"Hello, my name is {self.name} and I am {self.age} years old\")"
   ]
  },
  {
   "cell_type": "code",
   "execution_count": 4,
   "metadata": {},
   "outputs": [
    {
     "data": {
      "text/plain": [
       "<__main__.PersonClass at 0x1ee625b7410>"
      ]
     },
     "execution_count": 4,
     "metadata": {},
     "output_type": "execute_result"
    }
   ],
   "source": [
    "dani = PersonClass(\"Dani\", 25)\n",
    "dani"
   ]
  },
  {
   "cell_type": "code",
   "execution_count": 5,
   "metadata": {},
   "outputs": [
    {
     "name": "stdout",
     "output_type": "stream",
     "text": [
      "Hello, my name is Dani and I am 25 years old\n"
     ]
    }
   ],
   "source": [
    "dani.say_hello()"
   ]
  },
  {
   "cell_type": "code",
   "execution_count": 6,
   "metadata": {},
   "outputs": [
    {
     "data": {
      "text/plain": [
       "'Dani'"
      ]
     },
     "execution_count": 6,
     "metadata": {},
     "output_type": "execute_result"
    }
   ],
   "source": [
    "dani.name"
   ]
  },
  {
   "cell_type": "code",
   "execution_count": 7,
   "metadata": {},
   "outputs": [
    {
     "data": {
      "text/plain": [
       "<bound method PersonClass.__init__ of <__main__.PersonClass object at 0x000001EE625B7410>>"
      ]
     },
     "execution_count": 7,
     "metadata": {},
     "output_type": "execute_result"
    }
   ],
   "source": [
    "dani.__init__"
   ]
  },
  {
   "cell_type": "code",
   "execution_count": 8,
   "metadata": {},
   "outputs": [
    {
     "data": {
      "text/plain": [
       "25"
      ]
     },
     "execution_count": 8,
     "metadata": {},
     "output_type": "execute_result"
    }
   ],
   "source": [
    "dani.age"
   ]
  },
  {
   "cell_type": "markdown",
   "metadata": {},
   "source": [
    "In the class definition, we have:\n",
    "  * `__init__` method: a special method called a constructor that is executed when an object is created. It initializes the object's properties.\n",
    "  * `self` parameter: a reference to the current instance of the class. It is used to access variables that belong to the class.\n",
    "  * Properties: variables that store data related to the class. \n",
    "    * `name` and `age` are properties of the `Person` class.\n",
    "  * Methods: functions that perform operations related to the class.\n",
    "    * `say_hello()` is a method of the `Person` class that prints a greeting message."
   ]
  },
  {
   "cell_type": "markdown",
   "metadata": {},
   "source": [
    "### Creating Objects from a Class\n",
    "\n",
    "To create an object of a class, we use the class name followed by parentheses. This calls the constructor method (`__init__`) of the class and initializes the object's properties.\n",
    "\n",
    "Once we have created an object, we can access its properties and methods using the dot notation (`object.property` or `object.method()`).\n",
    "\n",
    "Let's create an object of the `Person` class and call the `say_hello()` method."
   ]
  },
  {
   "cell_type": "code",
   "execution_count": 17,
   "metadata": {},
   "outputs": [
    {
     "name": "stdout",
     "output_type": "stream",
     "text": [
      "Hello, my name is Dani and I am 37 years old\n"
     ]
    }
   ],
   "source": [
    "me = Person(\"Dani\", 37)\n",
    "\n",
    "me.say_hello()"
   ]
  },
  {
   "cell_type": "markdown",
   "metadata": {},
   "source": [
    "## Constructor, attributes and methods\n",
    "\n",
    "The constructor method (`__init__`) is a special method in Python classes that is called when an object is created. It is used to initialize the object's properties. It takes the `self` parameter, which is a reference to the current instance of the class, and other parameters that are used to initialize the object's properties.\n",
    "\n",
    "Attributes are variables that store data related to a class, while methods are functions that perform operations related to the class. Both attributes and methods are defined within a class.\n",
    "\n",
    "Both attributes and methods can be accessed using the dot notation (`object.attribute` or `object.method()`).\n",
    "\n",
    "Let's add some attributes and methods to the `Person` class."
   ]
  },
  {
   "cell_type": "code",
   "execution_count": 25,
   "metadata": {},
   "outputs": [],
   "source": [
    "#from xxx import List\n",
    "# favorite_foods_list: List(str))\n",
    "\n",
    "class Person():\n",
    "\n",
    "    def __init__(self, name, age: int, favorite_foods_list): \n",
    "        self.name = name\n",
    "        self.age = int(age)\n",
    "        self.has_pet = False\n",
    "        self.favorite_foods = favorite_foods_list\n",
    "        self.pet_name = None\n",
    "\n",
    "    def say_hello(self):\n",
    "        print(f\"Hello, my name is {self.name} and I am {self.age} years old\")\n",
    "\n",
    "    def say_favorite_foods(self):\n",
    "        print(f\"My favorite foods are {self.favorite_foods}\")\n",
    "\n",
    "    def add_favorite_food(self, food):\n",
    "        self.favorite_foods.append(food)\n",
    "\n",
    "    def call_pet(self, pet_name):\n",
    "        if self.has_pet:\n",
    "            print(f\"Come here, {pet_name}!\")\n",
    "        else:\n",
    "            print(f\"{self.name} does not have a pet\")\n",
    "\n",
    "    def update_pet_name(self, pet_name):\n",
    "        if isinstance(pet_name, None):\n",
    "            self.has_pet = False\n",
    "        else:\n",
    "            self.has_pet = True\n",
    "            self.pet_name = pet_name\n",
    "\n",
    "    "
   ]
  },
  {
   "cell_type": "code",
   "execution_count": 28,
   "metadata": {},
   "outputs": [],
   "source": [
    "# initialize a new person object\n",
    "\n",
    "me = Person(\"Dani\", 37,['pizza', 'pasta', 'sushi'])"
   ]
  },
  {
   "cell_type": "code",
   "execution_count": 29,
   "metadata": {},
   "outputs": [
    {
     "name": "stdout",
     "output_type": "stream",
     "text": [
      "Dani\n",
      "37\n",
      "False\n",
      "['pizza', 'pasta', 'sushi']\n",
      "None\n"
     ]
    }
   ],
   "source": [
    "# get some attributes\n",
    "\n",
    "print(me.name)\n",
    "print(me.age)\n",
    "print(me.has_pet)\n",
    "print(me.favorite_foods)\n",
    "print(me.pet_name)"
   ]
  },
  {
   "cell_type": "code",
   "execution_count": 30,
   "metadata": {},
   "outputs": [
    {
     "name": "stdout",
     "output_type": "stream",
     "text": [
      "My favorite foods are ['pizza', 'pasta', 'sushi']\n"
     ]
    }
   ],
   "source": [
    "# call some methods\n",
    "me.say_favorite_foods()"
   ]
  },
  {
   "cell_type": "code",
   "execution_count": 31,
   "metadata": {},
   "outputs": [
    {
     "name": "stdout",
     "output_type": "stream",
     "text": [
      "My favorite foods are ['pizza', 'pasta', 'sushi', 'kebab']\n"
     ]
    }
   ],
   "source": [
    "# another method that updated the favorite_foods attribute\n",
    "me.add_favorite_food('kebab')\n",
    "\n",
    "# check that the attribute has been updated\n",
    "me.say_favorite_foods()"
   ]
  },
  {
   "cell_type": "code",
   "execution_count": 32,
   "metadata": {},
   "outputs": [
    {
     "name": "stdout",
     "output_type": "stream",
     "text": [
      "Dani does not have a pet\n"
     ]
    }
   ],
   "source": [
    "me.call_pet('Churro')"
   ]
  },
  {
   "cell_type": "code",
   "execution_count": 41,
   "metadata": {},
   "outputs": [
    {
     "name": "stdout",
     "output_type": "stream",
     "text": [
      "My favorite foods are ['pizza', 'humus', 'nigiri', 'kebab', 'kebab']\n"
     ]
    }
   ],
   "source": [
    "me.add_favorite_food('kebab')\n",
    "me.say_favorite_foods()"
   ]
  },
  {
   "cell_type": "code",
   "execution_count": 42,
   "metadata": {},
   "outputs": [
    {
     "name": "stdout",
     "output_type": "stream",
     "text": [
      "My favorite foods are ['pizza', 'humus', 'nigiri', 'kebab', 'kebab', 'kebab']\n"
     ]
    }
   ],
   "source": [
    "me.add_favorite_food('kebab')\n",
    "me.say_favorite_foods()"
   ]
  },
  {
   "cell_type": "markdown",
   "metadata": {},
   "source": [
    "### Exercise 1\n",
    "\n",
    "Change the Constructor of the `Person` class to avoid adding new foods that already exist in the list of foods."
   ]
  },
  {
   "cell_type": "code",
   "execution_count": 35,
   "metadata": {},
   "outputs": [
    {
     "ename": "IndentationError",
     "evalue": "unindent does not match any outer indentation level (<string>, line 21)",
     "output_type": "error",
     "traceback": [
      "\u001b[1;36m  File \u001b[1;32m<string>:21\u001b[1;36m\u001b[0m\n\u001b[1;33m    set_of_foods = set(self.favorite_foods)\u001b[0m\n\u001b[1;37m                                           ^\u001b[0m\n\u001b[1;31mIndentationError\u001b[0m\u001b[1;31m:\u001b[0m unindent does not match any outer indentation level\n"
     ]
    }
   ],
   "source": [
    "class Person1():\n",
    "\n",
    "    def __init__(self, name, age: int, favorite_foods_list): \n",
    "        self.name = name\n",
    "        self.age = int(age)\n",
    "        self.has_pet = False\n",
    "        self.favorite_foods = favorite_foods_list\n",
    "        self.pet_name = None\n",
    "\n",
    "    def say_hello(self):\n",
    "        print(f\"Hello, my name is {self.name} and I am {self.age} years old\")\n",
    "\n",
    "    def say_favorite_foods(self):\n",
    "        print(f\"My favorite foods are {self.favorite_foods}\")\n",
    "\n",
    "    def add_favorite_food(self, food):\n",
    "            \"\"\" if food in self.favorite_foods:\n",
    "            print(f\"{food} is already in the list\")\n",
    "            else:\n",
    "            self.favorite_foods.append(food)\"\"\"\n",
    "        set_of_foods = set(self.favorite_foods)\n",
    "        set_of_foods.add(food)\n",
    "        self.favorite_foods = list(set_of_foods)\n",
    "        print(self.favorite_foods)\n",
    "\n",
    "\n",
    "    def call_pet(self, pet_name):\n",
    "        if self.has_pet:\n",
    "            print(f\"Come here, {pet_name}!\")\n",
    "        else:\n",
    "            print(f\"{self.name} does not have a pet\")\n",
    "\n",
    "    def update_pet_name(self, pet_name):\n",
    "        if isinstance(pet_name, None):\n",
    "            self.has_pet = False\n",
    "        else:\n",
    "            self.has_pet = True\n",
    "            self.pet_name = pet_name\n",
    "\n",
    "    "
   ]
  },
  {
   "cell_type": "markdown",
   "metadata": {},
   "source": [
    "### Exercise 2\n",
    "\n",
    "Update the class so that a new method called `days_alive` is added. This method should calculate the number of days the person has been alive based on their date of birth."
   ]
  },
  {
   "cell_type": "code",
   "execution_count": 65,
   "metadata": {},
   "outputs": [],
   "source": [
    "import pandas as pd\n",
    "from datetime import datetime\n",
    "\n",
    "class Person3():\n",
    "\n",
    "    def __init__(self, name,  birthdate): \n",
    "        self.name = name\n",
    "        \n",
    "        \n",
    "        \n",
    "        \n",
    "        self.birthdate = pd.to_datetime(birthdate)\n",
    "\n",
    "    def days_alive(self):\n",
    "        days_alive = datetime.today().date() - self.birthdate\n",
    "        print(f\"I have been alive for {days_alive.days} days\")"
   ]
  },
  {
   "cell_type": "code",
   "execution_count": 66,
   "metadata": {},
   "outputs": [
    {
     "data": {
      "text/plain": [
       "Timestamp('1984-01-01 00:00:00')"
      ]
     },
     "execution_count": 66,
     "metadata": {},
     "output_type": "execute_result"
    }
   ],
   "source": [
    "days_me  = Person3(\"Dani\", '1984, 1, 1')\n",
    "\n",
    "days_me.birthdate"
   ]
  },
  {
   "cell_type": "code",
   "execution_count": 67,
   "metadata": {},
   "outputs": [
    {
     "ename": "TypeError",
     "evalue": "unsupported operand type(s) for -: 'datetime.date' and 'Timestamp'",
     "output_type": "error",
     "traceback": [
      "\u001b[1;31m---------------------------------------------------------------------------\u001b[0m",
      "\u001b[1;31mTypeError\u001b[0m                                 Traceback (most recent call last)",
      "Cell \u001b[1;32mIn[67], line 1\u001b[0m\n\u001b[1;32m----> 1\u001b[0m days_me\u001b[38;5;241m.\u001b[39mdays_alive()\n",
      "Cell \u001b[1;32mIn[65], line 15\u001b[0m, in \u001b[0;36mPerson3.days_alive\u001b[1;34m(self)\u001b[0m\n\u001b[0;32m     14\u001b[0m \u001b[38;5;28;01mdef\u001b[39;00m \u001b[38;5;21mdays_alive\u001b[39m(\u001b[38;5;28mself\u001b[39m):\n\u001b[1;32m---> 15\u001b[0m     days_alive \u001b[38;5;241m=\u001b[39m datetime\u001b[38;5;241m.\u001b[39mtoday()\u001b[38;5;241m.\u001b[39mdate() \u001b[38;5;241m-\u001b[39m \u001b[38;5;28mself\u001b[39m\u001b[38;5;241m.\u001b[39mbirthdate\n\u001b[0;32m     16\u001b[0m     \u001b[38;5;28mprint\u001b[39m(\u001b[38;5;124mf\u001b[39m\u001b[38;5;124m\"\u001b[39m\u001b[38;5;124mI have been alive for \u001b[39m\u001b[38;5;132;01m{\u001b[39;00mdays_alive\u001b[38;5;241m.\u001b[39mdays\u001b[38;5;132;01m}\u001b[39;00m\u001b[38;5;124m days\u001b[39m\u001b[38;5;124m\"\u001b[39m)\n",
      "\u001b[1;31mTypeError\u001b[0m: unsupported operand type(s) for -: 'datetime.date' and 'Timestamp'"
     ]
    }
   ],
   "source": [
    "days_me.days_alive()"
   ]
  },
  {
   "cell_type": "markdown",
   "metadata": {},
   "source": [
    "## Inheritance\n",
    "\n",
    "Inheritance is a mechanism in object-oriented programming that allows a class to inherit properties and methods from another class.\n",
    "\n",
    "The class that inherits from another class is called a subclass or derived class, while the class that is inherited from is called a superclass or base class.\n",
    "\n",
    "There are several examples of inheritance in Python, such as pandas DataFrames and numpy arrays.\n",
    "\n",
    "Let's create a subclass called `Student` that inherits from the `Person` class."
   ]
  },
  {
   "cell_type": "code",
   "execution_count": 79,
   "metadata": {},
   "outputs": [],
   "source": [
    "class Person():\n",
    "    def __init__(self, name, age):\n",
    "        self.name = name\n",
    "        self.age = age\n",
    "    \n",
    "    def say_hello(self):\n",
    "        print(f\"Hello, my name is {self.name} and I am {self.age} years old\")\n",
    "\n",
    "class Student(Person):\n",
    "\n",
    "    def __init__(self, name, age, student_id):\n",
    "        super().__init__(name, age) # this calls the __init__ method of the parent class\n",
    "        self.student_id = student_id # this initializes the student_id attribute\n",
    "\n",
    "    def say_student_id(self):\n",
    "        print(f\"My student id is {self.student_id}\")\n",
    "\n",
    "    def favorite_course(self):\n",
    "        print(\"My favorite course is Python for Data Analytics\")"
   ]
  },
  {
   "cell_type": "code",
   "execution_count": 80,
   "metadata": {},
   "outputs": [
    {
     "name": "stdout",
     "output_type": "stream",
     "text": [
      "My student id is 12345\n"
     ]
    }
   ],
   "source": [
    "student = Student(\"Dani\", 11, 12345)\n",
    "\n",
    "student.say_student_id()"
   ]
  },
  {
   "cell_type": "code",
   "execution_count": 81,
   "metadata": {},
   "outputs": [
    {
     "name": "stdout",
     "output_type": "stream",
     "text": [
      "My favorite course is Python for Data Analytics\n"
     ]
    }
   ],
   "source": [
    "student.favorite_course()"
   ]
  },
  {
   "cell_type": "code",
   "execution_count": 82,
   "metadata": {},
   "outputs": [
    {
     "name": "stdout",
     "output_type": "stream",
     "text": [
      "Hello, my name is Dani and I am 11 years old\n"
     ]
    }
   ],
   "source": [
    "# but it also has access to the methods of the parent class\n",
    "\n",
    "student.say_hello()"
   ]
  },
  {
   "cell_type": "code",
   "execution_count": 52,
   "metadata": {},
   "outputs": [
    {
     "name": "stdout",
     "output_type": "stream",
     "text": [
      "Come here, Churro!\n"
     ]
    }
   ],
   "source": [
    "student.call_pet('Churro')"
   ]
  },
  {
   "cell_type": "code",
   "execution_count": 53,
   "metadata": {},
   "outputs": [
    {
     "name": "stdout",
     "output_type": "stream",
     "text": [
      "Dani\n",
      "11\n",
      "True\n",
      "['pizza', 'humus', 'nigiri']\n"
     ]
    }
   ],
   "source": [
    "# also it has the attributes of the parent class\n",
    "\n",
    "print(student.name)\n",
    "print(student.age)\n",
    "print(student.has_pet)\n",
    "print(student.favorite_foods)"
   ]
  },
  {
   "cell_type": "markdown",
   "metadata": {},
   "source": [
    "## Practice\n",
    "\n",
    "Create a class called `Bird` with the following properties and methods:\n",
    "  * Properties: `name`, `can_fly`, `can_dive`, `sound`\n",
    "  * Methods: `make_sound()`, `fly()`\n",
    "\n",
    "Then, create 2 subclasses called `Duck` and `Chicken`, each with their own properties and methods.\n",
    "\n",
    "Create objects of the `Bird`, `Duck`, and `Chicken` classes and test their properties and methods."
   ]
  },
  {
   "cell_type": "code",
   "execution_count": 84,
   "metadata": {},
   "outputs": [],
   "source": [
    "class Bird():\n",
    "    def __init__(self, name, can_fly, can_dive, sound):\n",
    "        self.name = name\n",
    "        self.can_fly = can_fly\n",
    "        self.can_dive = can_dive\n",
    "        self.sound = sound\n",
    "    \n",
    "    def make_sound(self):\n",
    "        print(f'The {self.name} says {self.sound}')\n",
    "\n",
    "    def fly(self):\n",
    "        if self.can_fly:\n",
    "            print(f'The {self.name} is flying')\n",
    "        else:\n",
    "            print(f'The {self.name} cannot fly')\n"
   ]
  },
  {
   "cell_type": "code",
   "execution_count": 85,
   "metadata": {},
   "outputs": [
    {
     "name": "stdout",
     "output_type": "stream",
     "text": [
      "The pigeon says coo\n"
     ]
    }
   ],
   "source": [
    "bird = Bird('pigeon', True, False, 'coo')\n",
    "\n",
    "bird.make_sound()"
   ]
  },
  {
   "cell_type": "code",
   "execution_count": null,
   "metadata": {},
   "outputs": [],
   "source": [
    "class Duck(Bird):\n",
    "    def __init__(self):\n",
    "        super().__init__(self, name, can_fly, can_dive, sound):}\n",
    "        self"
   ]
  },
  {
   "cell_type": "code",
   "execution_count": null,
   "metadata": {},
   "outputs": [],
   "source": [
    "#Homework\n",
    "#Defatul values in a supper class used for the inheritance"
   ]
  }
 ],
 "metadata": {
  "kernelspec": {
   "display_name": "base",
   "language": "python",
   "name": "python3"
  },
  "language_info": {
   "codemirror_mode": {
    "name": "ipython",
    "version": 3
   },
   "file_extension": ".py",
   "mimetype": "text/x-python",
   "name": "python",
   "nbconvert_exporter": "python",
   "pygments_lexer": "ipython3",
   "version": "3.12.4"
  }
 },
 "nbformat": 4,
 "nbformat_minor": 2
}
