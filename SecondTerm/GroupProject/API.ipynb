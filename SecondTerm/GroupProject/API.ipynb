{
 "cells": [
  {
   "cell_type": "markdown",
   "metadata": {},
   "source": [
    "# Connect the API"
   ]
  },
  {
   "cell_type": "code",
   "execution_count": 1,
   "metadata": {},
   "outputs": [],
   "source": [
    "#Get the API Key\n",
    "from dotenv import load_dotenv\n",
    "import os\n",
    "\n",
    "#load_dotenv()\n",
    "\n",
    "#api_token = os.getenv('API_KEY')"
   ]
  },
  {
   "cell_type": "code",
   "execution_count": 2,
   "metadata": {},
   "outputs": [
    {
     "data": {
      "text/plain": [
       "'c:\\\\Users\\\\juanm\\\\OneDrive\\\\Documentos\\\\@ Maestria Ie\\\\Term 2\\\\Python 2'"
      ]
     },
     "execution_count": 2,
     "metadata": {},
     "output_type": "execute_result"
    }
   ],
   "source": [
    "os.getcwd()"
   ]
  },
  {
   "cell_type": "code",
   "execution_count": 3,
   "metadata": {},
   "outputs": [
    {
     "data": {
      "text/plain": [
       "'C:\\\\Users\\\\juanm\\\\OneDrive\\\\Documentos\\\\@ Maestria Ie\\\\Term 2\\\\envPython\\\\PythonGroupProject'"
      ]
     },
     "execution_count": 3,
     "metadata": {},
     "output_type": "execute_result"
    }
   ],
   "source": [
    "os.chdir('C:/Users/juanm/OneDrive/Documentos/@ Maestria Ie/Term 2/envPython/PythonGroupProject')\n",
    "os.getcwd()"
   ]
  },
  {
   "cell_type": "code",
   "execution_count": 4,
   "metadata": {},
   "outputs": [
    {
     "data": {
      "text/plain": [
       "'75bc1'"
      ]
     },
     "execution_count": 4,
     "metadata": {},
     "output_type": "execute_result"
    }
   ],
   "source": [
    "load_dotenv()\n",
    "\n",
    "api_token = os.getenv('API_KEY')\n",
    "api_token[0:5]"
   ]
  },
  {
   "cell_type": "code",
   "execution_count": 5,
   "metadata": {},
   "outputs": [
    {
     "data": {
      "text/plain": [
       "'C:\\\\Users\\\\juanm\\\\OneDrive\\\\Documentos\\\\@ Maestria Ie\\\\Term 2\\\\Python 2\\\\SecondTerm\\\\GroupProject'"
      ]
     },
     "execution_count": 5,
     "metadata": {},
     "output_type": "execute_result"
    }
   ],
   "source": [
    "os.chdir('C:/Users/juanm/OneDrive/Documentos/@ Maestria Ie/Term 2/Python 2/SecondTerm/GroupProject')\n",
    "os.getcwd()\n",
    "\n",
    "#C:\\Users\\juanm\\OneDrive\\Documentos\\@ Maestria Ie\\Term 2\\Python 2\\SecondTerm\\GroupProject"
   ]
  },
  {
   "cell_type": "code",
   "execution_count": 6,
   "metadata": {},
   "outputs": [],
   "source": [
    "#pip install simfin"
   ]
  },
  {
   "cell_type": "code",
   "execution_count": null,
   "metadata": {},
   "outputs": [
    {
     "name": "stdout",
     "output_type": "stream",
     "text": [
      "Dataset \"us-companies\" not on disk.\n"
     ]
    },
    {
     "ename": "HTTPError",
     "evalue": "401 Client Error:  for url: https://prod.simfin.com/api/bulk-download/s3?dataset=companies&market=us",
     "output_type": "error",
     "traceback": [
      "\u001b[1;31m---------------------------------------------------------------------------\u001b[0m",
      "\u001b[1;31mHTTPError\u001b[0m                                 Traceback (most recent call last)",
      "Cell \u001b[1;32mIn[9], line 12\u001b[0m\n\u001b[0;32m      9\u001b[0m sf\u001b[38;5;241m.\u001b[39mset_data_dir(\u001b[38;5;124m'\u001b[39m\u001b[38;5;124mC:/Users/juanm/OneDrive/Documentos/@ Maestria Ie/Term 2/Python 2/SecondTerm/GroupProject\u001b[39m\u001b[38;5;124m'\u001b[39m)\n\u001b[0;32m     11\u001b[0m \u001b[38;5;66;03m# Download the data from the SimFin server and load into a Pandas DataFrame.\u001b[39;00m\n\u001b[1;32m---> 12\u001b[0m df \u001b[38;5;241m=\u001b[39m sf\u001b[38;5;241m.\u001b[39mload_companies(market\u001b[38;5;241m=\u001b[39m\u001b[38;5;124m'\u001b[39m\u001b[38;5;124mus\u001b[39m\u001b[38;5;124m'\u001b[39m)\n\u001b[0;32m     14\u001b[0m \u001b[38;5;66;03m# Print the first rows of the data.\u001b[39;00m\n\u001b[0;32m     15\u001b[0m \u001b[38;5;28mprint\u001b[39m(df\u001b[38;5;241m.\u001b[39mhead())\n",
      "File \u001b[1;32mc:\\Users\\juanm\\anaconda3\\Lib\\site-packages\\simfin\\load.py:140\u001b[0m, in \u001b[0;36mload\u001b[1;34m(dataset, variant, market, start_date, end_date, parse_dates, index, refresh_days)\u001b[0m\n\u001b[0;32m    137\u001b[0m dataset_args \u001b[38;5;241m=\u001b[39m {\u001b[38;5;124m'\u001b[39m\u001b[38;5;124mdataset\u001b[39m\u001b[38;5;124m'\u001b[39m: dataset, \u001b[38;5;124m'\u001b[39m\u001b[38;5;124mvariant\u001b[39m\u001b[38;5;124m'\u001b[39m: variant, \u001b[38;5;124m'\u001b[39m\u001b[38;5;124mmarket\u001b[39m\u001b[38;5;124m'\u001b[39m: market}\n\u001b[0;32m    139\u001b[0m \u001b[38;5;66;03m# Download file if it does not exist on local disk, or if it is too old.\u001b[39;00m\n\u001b[1;32m--> 140\u001b[0m _maybe_download_dataset(\u001b[38;5;241m*\u001b[39m\u001b[38;5;241m*\u001b[39mdataset_args, refresh_days\u001b[38;5;241m=\u001b[39mrefresh_days)\n\u001b[0;32m    142\u001b[0m \u001b[38;5;66;03m# Lambda function for converting strings to dates. Format: YYYY-MM-DD\u001b[39;00m\n\u001b[0;32m    143\u001b[0m date_parser \u001b[38;5;241m=\u001b[39m \u001b[38;5;28;01mlambda\u001b[39;00m x: pd\u001b[38;5;241m.\u001b[39mto_datetime(x, yearfirst\u001b[38;5;241m=\u001b[39m\u001b[38;5;28;01mTrue\u001b[39;00m, dayfirst\u001b[38;5;241m=\u001b[39m\u001b[38;5;28;01mFalse\u001b[39;00m)\n",
      "File \u001b[1;32mc:\\Users\\juanm\\anaconda3\\Lib\\site-packages\\simfin\\download.py:296\u001b[0m, in \u001b[0;36m_maybe_download_dataset\u001b[1;34m(refresh_days, **kwargs)\u001b[0m\n\u001b[0;32m    293\u001b[0m \u001b[38;5;66;03m# URL to SimFin's server where the file is located.\u001b[39;00m\n\u001b[0;32m    294\u001b[0m url \u001b[38;5;241m=\u001b[39m _url_dataset(\u001b[38;5;241m*\u001b[39m\u001b[38;5;241m*\u001b[39mkwargs)\n\u001b[1;32m--> 296\u001b[0m \u001b[38;5;28;01mreturn\u001b[39;00m _maybe_download(name\u001b[38;5;241m=\u001b[39mdataset_name, path\u001b[38;5;241m=\u001b[39mpath,\n\u001b[0;32m    297\u001b[0m                        download_path\u001b[38;5;241m=\u001b[39mdownload_path,\n\u001b[0;32m    298\u001b[0m                        url\u001b[38;5;241m=\u001b[39murl, headers\u001b[38;5;241m=\u001b[39mheaders, refresh_days\u001b[38;5;241m=\u001b[39mrefresh_days)\n",
      "File \u001b[1;32mc:\\Users\\juanm\\anaconda3\\Lib\\site-packages\\simfin\\download.py:242\u001b[0m, in \u001b[0;36m_maybe_download\u001b[1;34m(name, url, headers, path, download_path, refresh_days)\u001b[0m\n\u001b[0;32m    237\u001b[0m \u001b[38;5;28mprint\u001b[39m(msg)\n\u001b[0;32m    239\u001b[0m \u001b[38;5;28;01mif\u001b[39;00m must_download:\n\u001b[0;32m    240\u001b[0m     \u001b[38;5;66;03m# Download the file from the SimFin server.\u001b[39;00m\n\u001b[0;32m    241\u001b[0m     \u001b[38;5;66;03m# This is assumed to succeed unless an exception is raised.\u001b[39;00m\n\u001b[1;32m--> 242\u001b[0m     _download(url\u001b[38;5;241m=\u001b[39murl, headers\u001b[38;5;241m=\u001b[39mheaders, download_path\u001b[38;5;241m=\u001b[39mdownload_path)\n\u001b[0;32m    244\u001b[0m     \u001b[38;5;28;01mif\u001b[39;00m download_path\u001b[38;5;241m.\u001b[39mendswith(\u001b[38;5;124m'\u001b[39m\u001b[38;5;124mzip\u001b[39m\u001b[38;5;124m'\u001b[39m):\n\u001b[0;32m    245\u001b[0m         \u001b[38;5;66;03m# Downloaded file must be unzipped into the data-dir.\u001b[39;00m\n\u001b[0;32m    246\u001b[0m \n\u001b[0;32m    247\u001b[0m         \u001b[38;5;66;03m# Print status message.\u001b[39;00m\n\u001b[0;32m    248\u001b[0m         \u001b[38;5;28mprint\u001b[39m(\u001b[38;5;124m'\u001b[39m\u001b[38;5;130;01m\\n\u001b[39;00m\u001b[38;5;124m- Extracting zip-file ... \u001b[39m\u001b[38;5;124m'\u001b[39m, end\u001b[38;5;241m=\u001b[39m\u001b[38;5;124m'\u001b[39m\u001b[38;5;124m'\u001b[39m)\n",
      "File \u001b[1;32mc:\\Users\\juanm\\anaconda3\\Lib\\site-packages\\simfin\\download.py:175\u001b[0m, in \u001b[0;36m_download\u001b[1;34m(url, headers, download_path)\u001b[0m\n\u001b[0;32m    170\u001b[0m     \u001b[38;5;28;01mraise\u001b[39;00m ServerException(error)\n\u001b[0;32m    172\u001b[0m \u001b[38;5;66;03m# Or if another error occurred.\u001b[39;00m\n\u001b[0;32m    173\u001b[0m \u001b[38;5;28;01melse\u001b[39;00m:\n\u001b[0;32m    174\u001b[0m     \u001b[38;5;66;03m# Raise the error as an exception.\u001b[39;00m\n\u001b[1;32m--> 175\u001b[0m     response\u001b[38;5;241m.\u001b[39mraise_for_status()\n",
      "File \u001b[1;32mc:\\Users\\juanm\\anaconda3\\Lib\\site-packages\\requests\\models.py:1024\u001b[0m, in \u001b[0;36mResponse.raise_for_status\u001b[1;34m(self)\u001b[0m\n\u001b[0;32m   1019\u001b[0m     http_error_msg \u001b[38;5;241m=\u001b[39m (\n\u001b[0;32m   1020\u001b[0m         \u001b[38;5;124mf\u001b[39m\u001b[38;5;124m\"\u001b[39m\u001b[38;5;132;01m{\u001b[39;00m\u001b[38;5;28mself\u001b[39m\u001b[38;5;241m.\u001b[39mstatus_code\u001b[38;5;132;01m}\u001b[39;00m\u001b[38;5;124m Server Error: \u001b[39m\u001b[38;5;132;01m{\u001b[39;00mreason\u001b[38;5;132;01m}\u001b[39;00m\u001b[38;5;124m for url: \u001b[39m\u001b[38;5;132;01m{\u001b[39;00m\u001b[38;5;28mself\u001b[39m\u001b[38;5;241m.\u001b[39murl\u001b[38;5;132;01m}\u001b[39;00m\u001b[38;5;124m\"\u001b[39m\n\u001b[0;32m   1021\u001b[0m     )\n\u001b[0;32m   1023\u001b[0m \u001b[38;5;28;01mif\u001b[39;00m http_error_msg:\n\u001b[1;32m-> 1024\u001b[0m     \u001b[38;5;28;01mraise\u001b[39;00m HTTPError(http_error_msg, response\u001b[38;5;241m=\u001b[39m\u001b[38;5;28mself\u001b[39m)\n",
      "\u001b[1;31mHTTPError\u001b[0m: 401 Client Error:  for url: https://prod.simfin.com/api/bulk-download/s3?dataset=companies&market=us"
     ]
    }
   ],
   "source": [
    "import simfin as sf\n",
    "from simfin.names import *\n",
    "\n",
    "# Set your API-key for downloading data.\n",
    "sf.set_api_key('API_KEY')\n",
    "\n",
    "# Set the local directory where data-files are stored.\n",
    "# The dir will be created if it does not already exist.\n",
    "sf.set_data_dir('C:/Users/juanm/OneDrive/Documentos/@ Maestria Ie/Term 2/Python 2/SecondTerm/GroupProject')\n",
    "\n",
    "# Download the data from the SimFin server and load into a Pandas DataFrame.\n",
    "df = sf.load_shareprices(market='us')\n",
    "\n",
    "# Print the first rows of the data.\n",
    "print(df.head())"
   ]
  }
 ],
 "metadata": {
  "kernelspec": {
   "display_name": "base",
   "language": "python",
   "name": "python3"
  },
  "language_info": {
   "codemirror_mode": {
    "name": "ipython",
    "version": 3
   },
   "file_extension": ".py",
   "mimetype": "text/x-python",
   "name": "python",
   "nbconvert_exporter": "python",
   "pygments_lexer": "ipython3",
   "version": "3.12.4"
  }
 },
 "nbformat": 4,
 "nbformat_minor": 2
}
