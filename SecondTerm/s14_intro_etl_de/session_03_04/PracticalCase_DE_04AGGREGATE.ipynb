{
 "cells": [
  {
   "cell_type": "code",
   "execution_count": 1,
   "id": "0415cc56-035e-4517-a132-c95feeff8ddf",
   "metadata": {},
   "outputs": [
    {
     "name": "stderr",
     "output_type": "stream",
     "text": [
      "/Users/dgarhdez/anaconda3/envs/pda1/lib/python3.9/site-packages/tqdm/auto.py:21: TqdmWarning: IProgress not found. Please update jupyter and ipywidgets. See https://ipywidgets.readthedocs.io/en/stable/user_install.html\n",
      "  from .autonotebook import tqdm as notebook_tqdm\n",
      "/var/folders/kn/gt9ggj051wdfjnfqv8xjl8qh0000gn/T/ipykernel_45203/2700178514.py:6: DeprecationWarning: `import pandas_profiling` is going to be deprecated by April 1st. Please use `import ydata_profiling` instead.\n",
      "  from pandas_profiling import ProfileReport\n"
     ]
    }
   ],
   "source": [
    "import os\n",
    "\n",
    "import numpy as np\n",
    "import pandas as pd\n",
    "\n",
    "from pandas_profiling import ProfileReport"
   ]
  },
  {
   "cell_type": "code",
   "execution_count": 2,
   "id": "55a12162-2c6e-46be-9c28-0eb32ecc8198",
   "metadata": {},
   "outputs": [],
   "source": [
    "INPUT_FOLDER = \"enrich\"\n",
    "OUTPUT_FOLDER = \"aggregate\""
   ]
  },
  {
   "cell_type": "code",
   "execution_count": 3,
   "id": "27f4f1cf-9804-4cf5-b38e-795515a842bd",
   "metadata": {},
   "outputs": [],
   "source": [
    "os.makedirs(\"data/aggregate\", exist_ok=True)"
   ]
  },
  {
   "cell_type": "code",
   "execution_count": 4,
   "id": "270c373b-1324-4b04-9df6-b4e17867673b",
   "metadata": {},
   "outputs": [],
   "source": [
    "datasources = {\n",
    "    source.replace(\".zip\",\"\"):source\n",
    "    for source in os.listdir(f\"data/{INPUT_FOLDER}\")\n",
    "    if source.endswith(\".zip\")\n",
    "}\n",
    "\n",
    "datasets = {}"
   ]
  },
  {
   "cell_type": "markdown",
   "id": "8a484e8c-134d-4c40-8e7a-92f42e1c2807",
   "metadata": {},
   "source": [
    "## AGGREGATE"
   ]
  },
  {
   "cell_type": "markdown",
   "id": "a53a84b0-e501-43ea-b75f-b23760702e2a",
   "metadata": {},
   "source": [
    "### Create BASE TABLE\n",
    "\n",
    "The base table is just a table with all the primary keys we want to maintain in the macro table. In this case we want to build a table indexed by `week` and `country_name`.\n",
    " - `week` - We will take the `epidemiology` table to get the start and end dates.\n",
    " - `country_name` - We get the `country_name` from the `index` table.\n",
    " \n",
    "So, in this case, we have to build an index with all dates and all country names."
   ]
  },
  {
   "cell_type": "markdown",
   "id": "5a42c2f7-520f-401b-babc-a11cd3633690",
   "metadata": {},
   "source": [
    "<div class=\"alert alert-warning\">\n",
    "    <b>Special mention to datetime indexes</b>: Be careful when building detetime indexes from some of the provided data tables, they may contain gaps in the timestamps. So my recommendation here is that you build the date ranges by yourself. Then, you will have time to spot missing dates and fix them\n",
    "</div>"
   ]
  },
  {
   "cell_type": "markdown",
   "id": "cc45ad0c-dae7-4791-aa59-a34808b8e379",
   "metadata": {},
   "source": [
    "#### Get date ranges"
   ]
  },
  {
   "cell_type": "code",
   "execution_count": 5,
   "id": "d0f61526-2215-4585-bc36-3e68f9095c3a",
   "metadata": {},
   "outputs": [
    {
     "name": "stdout",
     "output_type": "stream",
     "text": [
      "Start Date: 2020-01-02 00:00:00\n",
      "End Date: 2022-08-22 00:00:00\n"
     ]
    }
   ],
   "source": [
    "key = \"epidemiology\"\n",
    "data = pd.read_csv(f\"data/{INPUT_FOLDER}/{key}.zip\", parse_dates=[\"date\"])\n",
    "\n",
    "start_date = data.date.min()\n",
    "end_date = data.date.max()\n",
    "print(f\"Start Date: {start_date}\")\n",
    "print(f\"End Date: {end_date}\")"
   ]
  },
  {
   "cell_type": "code",
   "execution_count": 6,
   "id": "df0d985d-24c5-495e-a040-2eac7fdf2491",
   "metadata": {},
   "outputs": [],
   "source": [
    "dates = pd.date_range(start=start_date, end=end_date, freq=\"W\")\n",
    "dates = dates.to_period(\"W\").astype(str)\n",
    "dates = pd.DataFrame(dates)"
   ]
  },
  {
   "cell_type": "markdown",
   "id": "e1f37bbb-46ce-41c8-a937-f341baadc682",
   "metadata": {},
   "source": [
    "#### Get country names"
   ]
  },
  {
   "cell_type": "code",
   "execution_count": 7,
   "id": "4c2d6014-b58d-4693-aac9-a926ee73fcfe",
   "metadata": {},
   "outputs": [],
   "source": [
    "key = \"index\"\n",
    "data = pd.read_csv(f\"data/{INPUT_FOLDER}/{key}.zip\")"
   ]
  },
  {
   "cell_type": "code",
   "execution_count": 8,
   "id": "3d19bbbd-21eb-4527-9152-ecdc6b5d010f",
   "metadata": {},
   "outputs": [],
   "source": [
    "countries = pd.DataFrame(data.country_name.unique())"
   ]
  },
  {
   "cell_type": "markdown",
   "id": "73e97896-a65b-4499-8164-c0f87e80ffb6",
   "metadata": {},
   "source": [
    "#### Build the index"
   ]
  },
  {
   "cell_type": "code",
   "execution_count": 9,
   "id": "4e1e1d24-dbac-4d4e-a8ac-63e2f5f45d8e",
   "metadata": {},
   "outputs": [],
   "source": [
    "base = dates.merge(countries, how=\"cross\")\n",
    "base.columns = [\"week\", \"country_name\"]\n",
    "base = base.set_index([\"week\", \"country_name\"])"
   ]
  },
  {
   "cell_type": "code",
   "execution_count": 10,
   "id": "aee7046c-ff52-402f-a02e-dc6112c8c4b1",
   "metadata": {},
   "outputs": [
    {
     "data": {
      "text/html": [
       "<div>\n",
       "<style scoped>\n",
       "    .dataframe tbody tr th:only-of-type {\n",
       "        vertical-align: middle;\n",
       "    }\n",
       "\n",
       "    .dataframe tbody tr th {\n",
       "        vertical-align: top;\n",
       "    }\n",
       "\n",
       "    .dataframe thead th {\n",
       "        text-align: right;\n",
       "    }\n",
       "</style>\n",
       "<table border=\"1\" class=\"dataframe\">\n",
       "  <thead>\n",
       "    <tr style=\"text-align: right;\">\n",
       "      <th></th>\n",
       "      <th></th>\n",
       "    </tr>\n",
       "    <tr>\n",
       "      <th>week</th>\n",
       "      <th>country_name</th>\n",
       "    </tr>\n",
       "  </thead>\n",
       "  <tbody>\n",
       "    <tr>\n",
       "      <th rowspan=\"4\" valign=\"top\">2019-12-30/2020-01-05</th>\n",
       "      <th>Germany</th>\n",
       "    </tr>\n",
       "    <tr>\n",
       "      <th>Spain</th>\n",
       "    </tr>\n",
       "    <tr>\n",
       "      <th>Italy</th>\n",
       "    </tr>\n",
       "    <tr>\n",
       "      <th>United States of America</th>\n",
       "    </tr>\n",
       "    <tr>\n",
       "      <th>2020-01-06/2020-01-12</th>\n",
       "      <th>Germany</th>\n",
       "    </tr>\n",
       "  </tbody>\n",
       "</table>\n",
       "</div>"
      ],
      "text/plain": [
       "Empty DataFrame\n",
       "Columns: []\n",
       "Index: [(2019-12-30/2020-01-05, Germany), (2019-12-30/2020-01-05, Spain), (2019-12-30/2020-01-05, Italy), (2019-12-30/2020-01-05, United States of America), (2020-01-06/2020-01-12, Germany)]"
      ]
     },
     "execution_count": 10,
     "metadata": {},
     "output_type": "execute_result"
    }
   ],
   "source": [
    "base.head()"
   ]
  },
  {
   "cell_type": "code",
   "execution_count": 11,
   "id": "4fe35761-0299-47e3-800a-a1508d5a5a42",
   "metadata": {},
   "outputs": [
    {
     "data": {
      "text/plain": [
       "(552, 0)"
      ]
     },
     "execution_count": 11,
     "metadata": {},
     "output_type": "execute_result"
    }
   ],
   "source": [
    "base.shape"
   ]
  },
  {
   "cell_type": "code",
   "execution_count": 12,
   "id": "3ba5fb17-fd96-4c43-8dc9-22d6dd2a6268",
   "metadata": {},
   "outputs": [],
   "source": [
    "macro = base.copy()"
   ]
  },
  {
   "cell_type": "markdown",
   "id": "6f9ea65f-a2f8-463c-8ad8-68177a2929e2",
   "metadata": {},
   "source": [
    "### Create MACRO TABLE"
   ]
  },
  {
   "cell_type": "markdown",
   "id": "f327fcbc-bac8-4cad-a478-fc1267acf38d",
   "metadata": {},
   "source": [
    "#### Incorporate `epidemiology`"
   ]
  },
  {
   "cell_type": "code",
   "execution_count": 13,
   "id": "79dcd251-4820-4cc3-b790-765c91bac962",
   "metadata": {},
   "outputs": [
    {
     "name": "stdout",
     "output_type": "stream",
     "text": [
      "<class 'pandas.core.frame.DataFrame'>\n",
      "RangeIndex: 3161033 entries, 0 to 3161032\n",
      "Data columns (total 7 columns):\n",
      " #   Column                        Non-Null Count    Dtype  \n",
      "---  ------                        --------------    -----  \n",
      " 0   date                          3161033 non-null  object \n",
      " 1   week                          3161033 non-null  object \n",
      " 2   location_key                  3161033 non-null  object \n",
      " 3   new_confirmed                 3161033 non-null  float64\n",
      " 4   new_deceased                  3161033 non-null  float64\n",
      " 5   new_deceased_confirmed_ratio  2197437 non-null  float64\n",
      " 6   country_name                  3161033 non-null  object \n",
      "dtypes: float64(3), object(4)\n",
      "memory usage: 168.8+ MB\n"
     ]
    }
   ],
   "source": [
    "key = \"epidemiology\"\n",
    "data = pd.read_csv(f\"data/{INPUT_FOLDER}/{key}.zip\")\n",
    "data.info(show_counts=True)"
   ]
  },
  {
   "cell_type": "markdown",
   "id": "c5a14144-9797-445b-91f1-e0435938ff7f",
   "metadata": {},
   "source": [
    "##### _Aggregate_: (sum) `new_confirmed`, `new_deceased`, `new_deceased_confirmed_ratio`"
   ]
  },
  {
   "cell_type": "code",
   "execution_count": 14,
   "id": "a227f263-e74e-477f-85d0-57d8d874bb90",
   "metadata": {},
   "outputs": [],
   "source": [
    "aux = data.groupby([\"week\",\"country_name\"]).agg({\n",
    "    \"new_confirmed\": \"sum\",\n",
    "    \"new_deceased\": \"sum\",\n",
    "    \"new_deceased_confirmed_ratio\": \"mean\",\n",
    "})"
   ]
  },
  {
   "cell_type": "code",
   "execution_count": 15,
   "id": "c52fa656-3337-4f51-912f-dbc140b770ac",
   "metadata": {},
   "outputs": [
    {
     "data": {
      "text/html": [
       "<div>\n",
       "<style scoped>\n",
       "    .dataframe tbody tr th:only-of-type {\n",
       "        vertical-align: middle;\n",
       "    }\n",
       "\n",
       "    .dataframe tbody tr th {\n",
       "        vertical-align: top;\n",
       "    }\n",
       "\n",
       "    .dataframe thead th {\n",
       "        text-align: right;\n",
       "    }\n",
       "</style>\n",
       "<table border=\"1\" class=\"dataframe\">\n",
       "  <thead>\n",
       "    <tr style=\"text-align: right;\">\n",
       "      <th></th>\n",
       "      <th></th>\n",
       "    </tr>\n",
       "    <tr>\n",
       "      <th>week</th>\n",
       "      <th>country_name</th>\n",
       "    </tr>\n",
       "  </thead>\n",
       "  <tbody>\n",
       "    <tr>\n",
       "      <th rowspan=\"4\" valign=\"top\">2019-12-30/2020-01-05</th>\n",
       "      <th>Germany</th>\n",
       "    </tr>\n",
       "    <tr>\n",
       "      <th>Spain</th>\n",
       "    </tr>\n",
       "    <tr>\n",
       "      <th>Italy</th>\n",
       "    </tr>\n",
       "    <tr>\n",
       "      <th>United States of America</th>\n",
       "    </tr>\n",
       "    <tr>\n",
       "      <th>2020-01-06/2020-01-12</th>\n",
       "      <th>Germany</th>\n",
       "    </tr>\n",
       "    <tr>\n",
       "      <th>...</th>\n",
       "      <th>...</th>\n",
       "    </tr>\n",
       "    <tr>\n",
       "      <th>2022-08-08/2022-08-14</th>\n",
       "      <th>United States of America</th>\n",
       "    </tr>\n",
       "    <tr>\n",
       "      <th rowspan=\"4\" valign=\"top\">2022-08-15/2022-08-21</th>\n",
       "      <th>Germany</th>\n",
       "    </tr>\n",
       "    <tr>\n",
       "      <th>Spain</th>\n",
       "    </tr>\n",
       "    <tr>\n",
       "      <th>Italy</th>\n",
       "    </tr>\n",
       "    <tr>\n",
       "      <th>United States of America</th>\n",
       "    </tr>\n",
       "  </tbody>\n",
       "</table>\n",
       "<p>552 rows × 0 columns</p>\n",
       "</div>"
      ],
      "text/plain": [
       "Empty DataFrame\n",
       "Columns: []\n",
       "Index: [(2019-12-30/2020-01-05, Germany), (2019-12-30/2020-01-05, Spain), (2019-12-30/2020-01-05, Italy), (2019-12-30/2020-01-05, United States of America), (2020-01-06/2020-01-12, Germany), (2020-01-06/2020-01-12, Spain), (2020-01-06/2020-01-12, Italy), (2020-01-06/2020-01-12, United States of America), (2020-01-13/2020-01-19, Germany), (2020-01-13/2020-01-19, Spain), (2020-01-13/2020-01-19, Italy), (2020-01-13/2020-01-19, United States of America), (2020-01-20/2020-01-26, Germany), (2020-01-20/2020-01-26, Spain), (2020-01-20/2020-01-26, Italy), (2020-01-20/2020-01-26, United States of America), (2020-01-27/2020-02-02, Germany), (2020-01-27/2020-02-02, Spain), (2020-01-27/2020-02-02, Italy), (2020-01-27/2020-02-02, United States of America), (2020-02-03/2020-02-09, Germany), (2020-02-03/2020-02-09, Spain), (2020-02-03/2020-02-09, Italy), (2020-02-03/2020-02-09, United States of America), (2020-02-10/2020-02-16, Germany), (2020-02-10/2020-02-16, Spain), (2020-02-10/2020-02-16, Italy), (2020-02-10/2020-02-16, United States of America), (2020-02-17/2020-02-23, Germany), (2020-02-17/2020-02-23, Spain), (2020-02-17/2020-02-23, Italy), (2020-02-17/2020-02-23, United States of America), (2020-02-24/2020-03-01, Germany), (2020-02-24/2020-03-01, Spain), (2020-02-24/2020-03-01, Italy), (2020-02-24/2020-03-01, United States of America), (2020-03-02/2020-03-08, Germany), (2020-03-02/2020-03-08, Spain), (2020-03-02/2020-03-08, Italy), (2020-03-02/2020-03-08, United States of America), (2020-03-09/2020-03-15, Germany), (2020-03-09/2020-03-15, Spain), (2020-03-09/2020-03-15, Italy), (2020-03-09/2020-03-15, United States of America), (2020-03-16/2020-03-22, Germany), (2020-03-16/2020-03-22, Spain), (2020-03-16/2020-03-22, Italy), (2020-03-16/2020-03-22, United States of America), (2020-03-23/2020-03-29, Germany), (2020-03-23/2020-03-29, Spain), (2020-03-23/2020-03-29, Italy), (2020-03-23/2020-03-29, United States of America), (2020-03-30/2020-04-05, Germany), (2020-03-30/2020-04-05, Spain), (2020-03-30/2020-04-05, Italy), (2020-03-30/2020-04-05, United States of America), (2020-04-06/2020-04-12, Germany), (2020-04-06/2020-04-12, Spain), (2020-04-06/2020-04-12, Italy), (2020-04-06/2020-04-12, United States of America), (2020-04-13/2020-04-19, Germany), (2020-04-13/2020-04-19, Spain), (2020-04-13/2020-04-19, Italy), (2020-04-13/2020-04-19, United States of America), (2020-04-20/2020-04-26, Germany), (2020-04-20/2020-04-26, Spain), (2020-04-20/2020-04-26, Italy), (2020-04-20/2020-04-26, United States of America), (2020-04-27/2020-05-03, Germany), (2020-04-27/2020-05-03, Spain), (2020-04-27/2020-05-03, Italy), (2020-04-27/2020-05-03, United States of America), (2020-05-04/2020-05-10, Germany), (2020-05-04/2020-05-10, Spain), (2020-05-04/2020-05-10, Italy), (2020-05-04/2020-05-10, United States of America), (2020-05-11/2020-05-17, Germany), (2020-05-11/2020-05-17, Spain), (2020-05-11/2020-05-17, Italy), (2020-05-11/2020-05-17, United States of America), (2020-05-18/2020-05-24, Germany), (2020-05-18/2020-05-24, Spain), (2020-05-18/2020-05-24, Italy), (2020-05-18/2020-05-24, United States of America), (2020-05-25/2020-05-31, Germany), (2020-05-25/2020-05-31, Spain), (2020-05-25/2020-05-31, Italy), (2020-05-25/2020-05-31, United States of America), (2020-06-01/2020-06-07, Germany), (2020-06-01/2020-06-07, Spain), (2020-06-01/2020-06-07, Italy), (2020-06-01/2020-06-07, United States of America), (2020-06-08/2020-06-14, Germany), (2020-06-08/2020-06-14, Spain), (2020-06-08/2020-06-14, Italy), (2020-06-08/2020-06-14, United States of America), (2020-06-15/2020-06-21, Germany), (2020-06-15/2020-06-21, Spain), (2020-06-15/2020-06-21, Italy), (2020-06-15/2020-06-21, United States of America), ...]\n",
       "\n",
       "[552 rows x 0 columns]"
      ]
     },
     "execution_count": 15,
     "metadata": {},
     "output_type": "execute_result"
    }
   ],
   "source": [
    "macro"
   ]
  },
  {
   "cell_type": "code",
   "execution_count": 16,
   "id": "c36cf3bc-f8f7-4948-8b0f-2f9a1a7d52e2",
   "metadata": {},
   "outputs": [
    {
     "data": {
      "text/html": [
       "<div>\n",
       "<style scoped>\n",
       "    .dataframe tbody tr th:only-of-type {\n",
       "        vertical-align: middle;\n",
       "    }\n",
       "\n",
       "    .dataframe tbody tr th {\n",
       "        vertical-align: top;\n",
       "    }\n",
       "\n",
       "    .dataframe thead th {\n",
       "        text-align: right;\n",
       "    }\n",
       "</style>\n",
       "<table border=\"1\" class=\"dataframe\">\n",
       "  <thead>\n",
       "    <tr style=\"text-align: right;\">\n",
       "      <th></th>\n",
       "      <th></th>\n",
       "      <th>new_confirmed</th>\n",
       "      <th>new_deceased</th>\n",
       "      <th>new_deceased_confirmed_ratio</th>\n",
       "    </tr>\n",
       "    <tr>\n",
       "      <th>week</th>\n",
       "      <th>country_name</th>\n",
       "      <th></th>\n",
       "      <th></th>\n",
       "      <th></th>\n",
       "    </tr>\n",
       "  </thead>\n",
       "  <tbody>\n",
       "    <tr>\n",
       "      <th>2019-12-30/2020-01-05</th>\n",
       "      <th>Germany</th>\n",
       "      <td>1.0</td>\n",
       "      <td>0.0</td>\n",
       "      <td>0.000000</td>\n",
       "    </tr>\n",
       "    <tr>\n",
       "      <th>2020-01-13/2020-01-19</th>\n",
       "      <th>Germany</th>\n",
       "      <td>1.0</td>\n",
       "      <td>0.0</td>\n",
       "      <td>0.000000</td>\n",
       "    </tr>\n",
       "    <tr>\n",
       "      <th rowspan=\"2\" valign=\"top\">2020-01-20/2020-01-26</th>\n",
       "      <th>Germany</th>\n",
       "      <td>2.0</td>\n",
       "      <td>0.0</td>\n",
       "      <td>0.000000</td>\n",
       "    </tr>\n",
       "    <tr>\n",
       "      <th>United States of America</th>\n",
       "      <td>0.0</td>\n",
       "      <td>0.0</td>\n",
       "      <td>NaN</td>\n",
       "    </tr>\n",
       "    <tr>\n",
       "      <th>2020-01-27/2020-02-02</th>\n",
       "      <th>Germany</th>\n",
       "      <td>10.0</td>\n",
       "      <td>0.0</td>\n",
       "      <td>0.000000</td>\n",
       "    </tr>\n",
       "    <tr>\n",
       "      <th>...</th>\n",
       "      <th>...</th>\n",
       "      <td>...</td>\n",
       "      <td>...</td>\n",
       "      <td>...</td>\n",
       "    </tr>\n",
       "    <tr>\n",
       "      <th rowspan=\"2\" valign=\"top\">2022-08-08/2022-08-14</th>\n",
       "      <th>Italy</th>\n",
       "      <td>169974.0</td>\n",
       "      <td>0.0</td>\n",
       "      <td>0.000000</td>\n",
       "    </tr>\n",
       "    <tr>\n",
       "      <th>United States of America</th>\n",
       "      <td>126631.0</td>\n",
       "      <td>502.0</td>\n",
       "      <td>0.001763</td>\n",
       "    </tr>\n",
       "    <tr>\n",
       "      <th rowspan=\"2\" valign=\"top\">2022-08-15/2022-08-21</th>\n",
       "      <th>Italy</th>\n",
       "      <td>137729.0</td>\n",
       "      <td>0.0</td>\n",
       "      <td>0.000000</td>\n",
       "    </tr>\n",
       "    <tr>\n",
       "      <th>United States of America</th>\n",
       "      <td>110333.0</td>\n",
       "      <td>400.0</td>\n",
       "      <td>0.000879</td>\n",
       "    </tr>\n",
       "    <tr>\n",
       "      <th>2022-08-22/2022-08-28</th>\n",
       "      <th>Italy</th>\n",
       "      <td>9603.0</td>\n",
       "      <td>0.0</td>\n",
       "      <td>0.000000</td>\n",
       "    </tr>\n",
       "  </tbody>\n",
       "</table>\n",
       "<p>505 rows × 3 columns</p>\n",
       "</div>"
      ],
      "text/plain": [
       "                                                new_confirmed  new_deceased  \\\n",
       "week                  country_name                                            \n",
       "2019-12-30/2020-01-05 Germany                             1.0           0.0   \n",
       "2020-01-13/2020-01-19 Germany                             1.0           0.0   \n",
       "2020-01-20/2020-01-26 Germany                             2.0           0.0   \n",
       "                      United States of America            0.0           0.0   \n",
       "2020-01-27/2020-02-02 Germany                            10.0           0.0   \n",
       "...                                                       ...           ...   \n",
       "2022-08-08/2022-08-14 Italy                          169974.0           0.0   \n",
       "                      United States of America       126631.0         502.0   \n",
       "2022-08-15/2022-08-21 Italy                          137729.0           0.0   \n",
       "                      United States of America       110333.0         400.0   \n",
       "2022-08-22/2022-08-28 Italy                            9603.0           0.0   \n",
       "\n",
       "                                                new_deceased_confirmed_ratio  \n",
       "week                  country_name                                            \n",
       "2019-12-30/2020-01-05 Germany                                       0.000000  \n",
       "2020-01-13/2020-01-19 Germany                                       0.000000  \n",
       "2020-01-20/2020-01-26 Germany                                       0.000000  \n",
       "                      United States of America                           NaN  \n",
       "2020-01-27/2020-02-02 Germany                                       0.000000  \n",
       "...                                                                      ...  \n",
       "2022-08-08/2022-08-14 Italy                                         0.000000  \n",
       "                      United States of America                      0.001763  \n",
       "2022-08-15/2022-08-21 Italy                                         0.000000  \n",
       "                      United States of America                      0.000879  \n",
       "2022-08-22/2022-08-28 Italy                                         0.000000  \n",
       "\n",
       "[505 rows x 3 columns]"
      ]
     },
     "execution_count": 16,
     "metadata": {},
     "output_type": "execute_result"
    }
   ],
   "source": [
    "aux"
   ]
  },
  {
   "cell_type": "markdown",
   "id": "5bb24bb1-9fd6-4fce-a275-aeb94b35231d",
   "metadata": {},
   "source": [
    "##### _Include in the base table_"
   ]
  },
  {
   "cell_type": "code",
   "execution_count": 17,
   "id": "1e0d8e62-ed4d-47ca-95e7-221d9dca1892",
   "metadata": {},
   "outputs": [],
   "source": [
    "macro = macro.join(aux)"
   ]
  },
  {
   "cell_type": "code",
   "execution_count": 18,
   "id": "43f6938a-4cbd-4674-a705-b9e6c0393f28",
   "metadata": {},
   "outputs": [
    {
     "name": "stdout",
     "output_type": "stream",
     "text": [
      "<class 'pandas.core.frame.DataFrame'>\n",
      "MultiIndex: 552 entries, ('2019-12-30/2020-01-05', 'Germany') to ('2022-08-15/2022-08-21', 'United States of America')\n",
      "Data columns (total 3 columns):\n",
      " #   Column                        Non-Null Count  Dtype  \n",
      "---  ------                        --------------  -----  \n",
      " 0   new_confirmed                 504 non-null    float64\n",
      " 1   new_deceased                  504 non-null    float64\n",
      " 2   new_deceased_confirmed_ratio  346 non-null    float64\n",
      "dtypes: float64(3)\n",
      "memory usage: 36.2+ KB\n"
     ]
    }
   ],
   "source": [
    "macro.info()"
   ]
  },
  {
   "cell_type": "markdown",
   "id": "62d11dc3-b0ab-4a22-a5c2-45bd0caeabe2",
   "metadata": {},
   "source": [
    "#### `demographics`"
   ]
  },
  {
   "cell_type": "code",
   "execution_count": 19,
   "id": "c8122ed8-545f-4a4c-9981-30b115492fae",
   "metadata": {},
   "outputs": [
    {
     "name": "stdout",
     "output_type": "stream",
     "text": [
      "<class 'pandas.core.frame.DataFrame'>\n",
      "RangeIndex: 5097 entries, 0 to 5096\n",
      "Data columns (total 12 columns):\n",
      " #   Column                       Non-Null Count  Dtype  \n",
      "---  ------                       --------------  -----  \n",
      " 0   location_key                 5097 non-null   object \n",
      " 1   population                   5097 non-null   float64\n",
      " 2   population_age_00_09         5097 non-null   float64\n",
      " 3   population_age_10_19         5097 non-null   float64\n",
      " 4   population_age_20_29         5097 non-null   float64\n",
      " 5   population_age_30_39         5097 non-null   float64\n",
      " 6   population_age_40_49         5097 non-null   float64\n",
      " 7   population_age_50_59         5097 non-null   float64\n",
      " 8   population_age_60_69         5097 non-null   float64\n",
      " 9   population_age_70_79         5097 non-null   float64\n",
      " 10  population_age_80_and_older  5097 non-null   float64\n",
      " 11  country_name                 5097 non-null   object \n",
      "dtypes: float64(10), object(2)\n",
      "memory usage: 478.0+ KB\n"
     ]
    }
   ],
   "source": [
    "key = \"demographics\"\n",
    "data = pd.read_csv(f\"data/{INPUT_FOLDER}/{key}.zip\")\n",
    "data.info()"
   ]
  },
  {
   "cell_type": "markdown",
   "id": "4fe53bd2-decf-419e-a619-b69fb2ef75c6",
   "metadata": {},
   "source": [
    "##### _Aggregate_: (sum)"
   ]
  },
  {
   "cell_type": "code",
   "execution_count": 20,
   "id": "5672c4cd-a8de-4b79-b803-46b45febcb1b",
   "metadata": {},
   "outputs": [],
   "source": [
    "aux = data.groupby(\"country_name\").sum()"
   ]
  },
  {
   "cell_type": "code",
   "execution_count": 21,
   "id": "1aba2eef-84a6-47e5-bf36-3353597a03a7",
   "metadata": {},
   "outputs": [],
   "source": [
    "macro = macro.join(aux, on=\"country_name\")"
   ]
  },
  {
   "cell_type": "code",
   "execution_count": 22,
   "id": "10e636e3-1f87-4fa2-81d0-24eed21fe035",
   "metadata": {},
   "outputs": [
    {
     "name": "stdout",
     "output_type": "stream",
     "text": [
      "<class 'pandas.core.frame.DataFrame'>\n",
      "MultiIndex: 552 entries, ('2019-12-30/2020-01-05', 'Germany') to ('2022-08-15/2022-08-21', 'United States of America')\n",
      "Data columns (total 14 columns):\n",
      " #   Column                        Non-Null Count  Dtype  \n",
      "---  ------                        --------------  -----  \n",
      " 0   new_confirmed                 504 non-null    float64\n",
      " 1   new_deceased                  504 non-null    float64\n",
      " 2   new_deceased_confirmed_ratio  346 non-null    float64\n",
      " 3   location_key                  552 non-null    object \n",
      " 4   population                    552 non-null    float64\n",
      " 5   population_age_00_09          552 non-null    float64\n",
      " 6   population_age_10_19          552 non-null    float64\n",
      " 7   population_age_20_29          552 non-null    float64\n",
      " 8   population_age_30_39          552 non-null    float64\n",
      " 9   population_age_40_49          552 non-null    float64\n",
      " 10  population_age_50_59          552 non-null    float64\n",
      " 11  population_age_60_69          552 non-null    float64\n",
      " 12  population_age_70_79          552 non-null    float64\n",
      " 13  population_age_80_and_older   552 non-null    float64\n",
      "dtypes: float64(13), object(1)\n",
      "memory usage: 83.6+ KB\n"
     ]
    }
   ],
   "source": [
    "macro.info()"
   ]
  },
  {
   "cell_type": "markdown",
   "id": "d124274f-78a4-4a03-afe9-0173f0a650e7",
   "metadata": {},
   "source": [
    "#### `health`"
   ]
  },
  {
   "cell_type": "code",
   "execution_count": 23,
   "id": "f9cf7f07-cc9a-4143-a3d1-68217f8dd9d1",
   "metadata": {},
   "outputs": [
    {
     "name": "stdout",
     "output_type": "stream",
     "text": [
      "<class 'pandas.core.frame.DataFrame'>\n",
      "RangeIndex: 3022 entries, 0 to 3021\n",
      "Data columns (total 3 columns):\n",
      " #   Column           Non-Null Count  Dtype  \n",
      "---  ------           --------------  -----  \n",
      " 0   location_key     3022 non-null   object \n",
      " 1   life_expectancy  3022 non-null   float64\n",
      " 2   country_name     3022 non-null   object \n",
      "dtypes: float64(1), object(2)\n",
      "memory usage: 71.0+ KB\n"
     ]
    }
   ],
   "source": [
    "key = \"health\"\n",
    "data = pd.read_csv(f\"data/{INPUT_FOLDER}/{key}.zip\")\n",
    "data.info()"
   ]
  },
  {
   "cell_type": "markdown",
   "id": "1329ec57-b3b6-4a99-a478-6f9fc038c4aa",
   "metadata": {},
   "source": [
    "##### _Aggregate_: (mean)"
   ]
  },
  {
   "cell_type": "code",
   "execution_count": 24,
   "id": "923d88d1-1ac5-48de-b0a8-099e01e0969f",
   "metadata": {},
   "outputs": [],
   "source": [
    "aux = data.groupby([\"country_name\"]).agg({\n",
    "    \"life_expectancy\": \"mean\",\n",
    "})"
   ]
  },
  {
   "cell_type": "markdown",
   "id": "baf3acda-8dec-4ff1-a87e-bd23e0b94ede",
   "metadata": {},
   "source": [
    "##### _Include in the base table_"
   ]
  },
  {
   "cell_type": "code",
   "execution_count": 25,
   "id": "e018224a-c117-4045-85b0-32b75aed1351",
   "metadata": {},
   "outputs": [],
   "source": [
    "macro = macro.join(aux, on=\"country_name\")"
   ]
  },
  {
   "cell_type": "code",
   "execution_count": 26,
   "id": "09249845-298c-4ea3-845a-f11eaa6b9a7c",
   "metadata": {},
   "outputs": [
    {
     "name": "stdout",
     "output_type": "stream",
     "text": [
      "<class 'pandas.core.frame.DataFrame'>\n",
      "MultiIndex: 552 entries, ('2019-12-30/2020-01-05', 'Germany') to ('2022-08-15/2022-08-21', 'United States of America')\n",
      "Data columns (total 15 columns):\n",
      " #   Column                        Non-Null Count  Dtype  \n",
      "---  ------                        --------------  -----  \n",
      " 0   new_confirmed                 504 non-null    float64\n",
      " 1   new_deceased                  504 non-null    float64\n",
      " 2   new_deceased_confirmed_ratio  346 non-null    float64\n",
      " 3   location_key                  552 non-null    object \n",
      " 4   population                    552 non-null    float64\n",
      " 5   population_age_00_09          552 non-null    float64\n",
      " 6   population_age_10_19          552 non-null    float64\n",
      " 7   population_age_20_29          552 non-null    float64\n",
      " 8   population_age_30_39          552 non-null    float64\n",
      " 9   population_age_40_49          552 non-null    float64\n",
      " 10  population_age_50_59          552 non-null    float64\n",
      " 11  population_age_60_69          552 non-null    float64\n",
      " 12  population_age_70_79          552 non-null    float64\n",
      " 13  population_age_80_and_older   552 non-null    float64\n",
      " 14  life_expectancy               138 non-null    float64\n",
      "dtypes: float64(14), object(1)\n",
      "memory usage: 87.9+ KB\n"
     ]
    }
   ],
   "source": [
    "macro.info()"
   ]
  },
  {
   "cell_type": "markdown",
   "id": "5a1a97af-7bcd-4155-8c06-630c6cbe88df",
   "metadata": {},
   "source": [
    "#### `hospitalizations`"
   ]
  },
  {
   "cell_type": "code",
   "execution_count": 27,
   "id": "3adb8a8a-b1d4-4038-ac48-283f70e36fe0",
   "metadata": {},
   "outputs": [
    {
     "name": "stdout",
     "output_type": "stream",
     "text": [
      "<class 'pandas.core.frame.DataFrame'>\n",
      "RangeIndex: 6297 entries, 0 to 6296\n",
      "Data columns (total 5 columns):\n",
      " #   Column                     Non-Null Count  Dtype  \n",
      "---  ------                     --------------  -----  \n",
      " 0   date                       6297 non-null   object \n",
      " 1   week                       6297 non-null   object \n",
      " 2   location_key               6297 non-null   object \n",
      " 3   new_hospitalized_patients  6297 non-null   float64\n",
      " 4   country_name               6297 non-null   object \n",
      "dtypes: float64(1), object(4)\n",
      "memory usage: 246.1+ KB\n"
     ]
    }
   ],
   "source": [
    "key = \"hospitalizations\"\n",
    "data = pd.read_csv(f\"data/{INPUT_FOLDER}/{key}.zip\")\n",
    "data.info(show_counts=True)"
   ]
  },
  {
   "cell_type": "markdown",
   "id": "dac62f45-d340-4c49-8bec-5ad43e59e8d4",
   "metadata": {},
   "source": [
    "##### _Aggregate_: (sum)"
   ]
  },
  {
   "cell_type": "code",
   "execution_count": 28,
   "id": "bae0bf50-fc51-4968-949c-15e64dfd6789",
   "metadata": {},
   "outputs": [],
   "source": [
    "aux = data.groupby([\"week\",\"country_name\"]).sum()"
   ]
  },
  {
   "cell_type": "code",
   "execution_count": 31,
   "id": "a88ae1b5-3a9d-468d-8729-5ae6cfb88bab",
   "metadata": {},
   "outputs": [],
   "source": [
    "macro = macro.join(aux, lsuffix='_macro', rsuffix='_aux')"
   ]
  },
  {
   "cell_type": "code",
   "execution_count": 32,
   "id": "ac7b95b3-ed34-40c6-9ea6-f8d3899d2f16",
   "metadata": {},
   "outputs": [
    {
     "name": "stdout",
     "output_type": "stream",
     "text": [
      "<class 'pandas.core.frame.DataFrame'>\n",
      "MultiIndex: 552 entries, ('2019-12-30/2020-01-05', 'Germany') to ('2022-08-15/2022-08-21', 'United States of America')\n",
      "Data columns (total 18 columns):\n",
      " #   Column                        Non-Null Count  Dtype  \n",
      "---  ------                        --------------  -----  \n",
      " 0   new_confirmed                 504 non-null    float64\n",
      " 1   new_deceased                  504 non-null    float64\n",
      " 2   new_deceased_confirmed_ratio  346 non-null    float64\n",
      " 3   location_key_macro            552 non-null    object \n",
      " 4   population                    552 non-null    float64\n",
      " 5   population_age_00_09          552 non-null    float64\n",
      " 6   population_age_10_19          552 non-null    float64\n",
      " 7   population_age_20_29          552 non-null    float64\n",
      " 8   population_age_30_39          552 non-null    float64\n",
      " 9   population_age_40_49          552 non-null    float64\n",
      " 10  population_age_50_59          552 non-null    float64\n",
      " 11  population_age_60_69          552 non-null    float64\n",
      " 12  population_age_70_79          552 non-null    float64\n",
      " 13  population_age_80_and_older   552 non-null    float64\n",
      " 14  life_expectancy               138 non-null    float64\n",
      " 15  date                          130 non-null    object \n",
      " 16  location_key_aux              130 non-null    object \n",
      " 17  new_hospitalized_patients     130 non-null    float64\n",
      "dtypes: float64(15), object(3)\n",
      "memory usage: 100.9+ KB\n"
     ]
    }
   ],
   "source": [
    "macro.info()"
   ]
  },
  {
   "cell_type": "markdown",
   "id": "4649e117-9544-426f-894c-88203cb3ba25",
   "metadata": {},
   "source": [
    "#### `vaccinations`"
   ]
  },
  {
   "cell_type": "code",
   "execution_count": 33,
   "id": "8c4962eb-3583-4731-8e7e-ddb9f3986d8f",
   "metadata": {},
   "outputs": [
    {
     "name": "stdout",
     "output_type": "stream",
     "text": [
      "<class 'pandas.core.frame.DataFrame'>\n",
      "RangeIndex: 1562414 entries, 0 to 1562413\n",
      "Data columns (total 5 columns):\n",
      " #   Column                        Non-Null Count    Dtype  \n",
      "---  ------                        --------------    -----  \n",
      " 0   date                          1562414 non-null  object \n",
      " 1   week                          1562414 non-null  object \n",
      " 2   location_key                  1562414 non-null  object \n",
      " 3   new_persons_fully_vaccinated  1562414 non-null  float64\n",
      " 4   country_name                  1562414 non-null  object \n",
      "dtypes: float64(1), object(4)\n",
      "memory usage: 59.6+ MB\n"
     ]
    }
   ],
   "source": [
    "key = \"vaccinations\"\n",
    "data = pd.read_csv(f\"data/{INPUT_FOLDER}/{key}.zip\")\n",
    "data.info(show_counts=True)"
   ]
  },
  {
   "cell_type": "markdown",
   "id": "5002ff37-056f-4c2f-8e5c-2eac36ac095e",
   "metadata": {},
   "source": [
    "##### _Aggregate_: (sum)"
   ]
  },
  {
   "cell_type": "code",
   "execution_count": 34,
   "id": "d1615c60-0899-461f-b67f-c636d1f16beb",
   "metadata": {},
   "outputs": [],
   "source": [
    "data = data.sort_index(level=\"date\")\n",
    "aux = data.groupby([\"week\",\"country_name\"]).agg({\n",
    "    \"new_persons_fully_vaccinated\": sum\n",
    "})"
   ]
  },
  {
   "cell_type": "code",
   "execution_count": 35,
   "id": "653f4586-a6bf-44f5-b94e-f4b1f33d7203",
   "metadata": {},
   "outputs": [],
   "source": [
    "macro = macro.join(aux, lsuffix='_macro', rsuffix='_aux')"
   ]
  },
  {
   "cell_type": "code",
   "execution_count": 36,
   "id": "7788b875-2258-49fe-a015-af10ba5de43b",
   "metadata": {},
   "outputs": [
    {
     "name": "stdout",
     "output_type": "stream",
     "text": [
      "<class 'pandas.core.frame.DataFrame'>\n",
      "MultiIndex: 552 entries, ('2019-12-30/2020-01-05', 'Germany') to ('2022-08-15/2022-08-21', 'United States of America')\n",
      "Data columns (total 19 columns):\n",
      " #   Column                        Non-Null Count  Dtype  \n",
      "---  ------                        --------------  -----  \n",
      " 0   new_confirmed                 504 non-null    float64\n",
      " 1   new_deceased                  504 non-null    float64\n",
      " 2   new_deceased_confirmed_ratio  346 non-null    float64\n",
      " 3   location_key_macro            552 non-null    object \n",
      " 4   population                    552 non-null    float64\n",
      " 5   population_age_00_09          552 non-null    float64\n",
      " 6   population_age_10_19          552 non-null    float64\n",
      " 7   population_age_20_29          552 non-null    float64\n",
      " 8   population_age_30_39          552 non-null    float64\n",
      " 9   population_age_40_49          552 non-null    float64\n",
      " 10  population_age_50_59          552 non-null    float64\n",
      " 11  population_age_60_69          552 non-null    float64\n",
      " 12  population_age_70_79          552 non-null    float64\n",
      " 13  population_age_80_and_older   552 non-null    float64\n",
      " 14  life_expectancy               138 non-null    float64\n",
      " 15  date                          130 non-null    object \n",
      " 16  location_key_aux              130 non-null    object \n",
      " 17  new_hospitalized_patients     130 non-null    float64\n",
      " 18  new_persons_fully_vaccinated  69 non-null     float64\n",
      "dtypes: float64(16), object(3)\n",
      "memory usage: 105.2+ KB\n"
     ]
    }
   ],
   "source": [
    "macro.info()"
   ]
  },
  {
   "cell_type": "markdown",
   "id": "a456db18-9653-40a2-a747-c8569b6a581e",
   "metadata": {},
   "source": [
    "### Save `macrotable`"
   ]
  },
  {
   "cell_type": "code",
   "execution_count": 37,
   "id": "8377d51e-86e0-47d7-aabc-a51c7ed13f42",
   "metadata": {},
   "outputs": [],
   "source": [
    "macro.to_csv(f\"data/{OUTPUT_FOLDER}/macrotable.zip\", index=True)"
   ]
  },
  {
   "cell_type": "code",
   "execution_count": 38,
   "id": "e88856b5-5178-415b-9148-9fd2fbbb4edd",
   "metadata": {},
   "outputs": [
    {
     "name": "stderr",
     "output_type": "stream",
     "text": [
      "Summarize dataset: 100%|██████████| 25/25 [00:00<00:00, 397.46it/s, Completed]                                     \n",
      "Generate report structure: 100%|██████████| 1/1 [00:04<00:00,  4.33s/it]\n",
      "Render HTML: 100%|██████████| 1/1 [00:00<00:00,  1.39it/s]\n",
      "Export report to file: 100%|██████████| 1/1 [00:00<00:00, 381.93it/s]\n"
     ]
    }
   ],
   "source": [
    "profile = ProfileReport(macro, minimal=True)\n",
    "profile.to_file(\"profiling/macro.html\")"
   ]
  },
  {
   "cell_type": "code",
   "execution_count": 39,
   "id": "8d329023-62da-440c-b559-e6d16cf51d83",
   "metadata": {},
   "outputs": [
    {
     "name": "stdout",
     "output_type": "stream",
     "text": [
      "<class 'pandas.core.frame.DataFrame'>\n",
      "MultiIndex: 552 entries, ('2019-12-30/2020-01-05', 'Germany') to ('2022-08-15/2022-08-21', 'United States of America')\n",
      "Data columns (total 19 columns):\n",
      " #   Column                        Non-Null Count  Dtype  \n",
      "---  ------                        --------------  -----  \n",
      " 0   new_confirmed                 504 non-null    float64\n",
      " 1   new_deceased                  504 non-null    float64\n",
      " 2   new_deceased_confirmed_ratio  346 non-null    float64\n",
      " 3   location_key_macro            552 non-null    object \n",
      " 4   population                    552 non-null    float64\n",
      " 5   population_age_00_09          552 non-null    float64\n",
      " 6   population_age_10_19          552 non-null    float64\n",
      " 7   population_age_20_29          552 non-null    float64\n",
      " 8   population_age_30_39          552 non-null    float64\n",
      " 9   population_age_40_49          552 non-null    float64\n",
      " 10  population_age_50_59          552 non-null    float64\n",
      " 11  population_age_60_69          552 non-null    float64\n",
      " 12  population_age_70_79          552 non-null    float64\n",
      " 13  population_age_80_and_older   552 non-null    float64\n",
      " 14  life_expectancy               138 non-null    float64\n",
      " 15  date                          130 non-null    object \n",
      " 16  location_key_aux              130 non-null    object \n",
      " 17  new_hospitalized_patients     130 non-null    float64\n",
      " 18  new_persons_fully_vaccinated  69 non-null     float64\n",
      "dtypes: float64(16), object(3)\n",
      "memory usage: 105.2+ KB\n"
     ]
    }
   ],
   "source": [
    "macro.info()"
   ]
  },
  {
   "cell_type": "markdown",
   "id": "f34ca01b-49b2-4e1f-9363-2e409df0db92",
   "metadata": {},
   "source": [
    "### Final missing values review\n",
    "\n",
    "At this moment, some missing values can arise from the resulting aggregations. This is the time to decide what to do with them to buil a clean table for EDA.\n",
    "\n",
    "In this case:\n",
    " - `new_confirmed` and `new_deceased`: These missings are because some countries doesn't have the starting date at the same time as the country with the earliest record.\n",
    "    - **Action: Remove all missing rows**\n",
    " - `new_deceased_confirmed_ratio`: This value doesn't have missing values, but infinite values due to dividing by 0.\n",
    "    - **Action: Impute the value as 0**\n",
    " - `life_expectancy`: These missings are because this variable just applies to the United States. For those missings related to the United States, impute values to the mean\n",
    "    - **Action: Impute values to the mean, but just for the United States**\n",
    " - `new_hospitalized_patients`: These missings are because this variable just applies to the United States. For those missings related to the United States, impute values to the mean\n",
    "    - **Action: Impute values to the mean, but just for the United States**\n",
    " - `new_persons_fully_vaccinated`: These missings are because this variable just applies to the United States. For those missings related to the United States, impute values to 0 (there was no vaccination.) \n",
    "    - **Action: Impute values to 0, but just for the United States**"
   ]
  },
  {
   "cell_type": "code",
   "execution_count": 40,
   "id": "3348b145-9a50-43f3-b20a-7cafb6ee3fcd",
   "metadata": {},
   "outputs": [],
   "source": [
    "clean_macro = macro.copy()"
   ]
  },
  {
   "cell_type": "markdown",
   "id": "c72110da-4601-4e4a-af77-3b4a7b075b72",
   "metadata": {},
   "source": [
    "Imputing `new_confirmed`"
   ]
  },
  {
   "cell_type": "code",
   "execution_count": 41,
   "id": "ab1bc85f-0a88-4f0b-83b7-dc6ad4726a95",
   "metadata": {},
   "outputs": [],
   "source": [
    "clean_macro = clean_macro.dropna(subset=[\"new_confirmed\"])"
   ]
  },
  {
   "cell_type": "markdown",
   "id": "a2eaa9b8-161c-411a-807e-92ea1b9e8032",
   "metadata": {},
   "source": [
    "Imputing `new_deceased_confirmed_ratio`"
   ]
  },
  {
   "cell_type": "code",
   "execution_count": 42,
   "id": "6585663e-a0b0-4db9-a364-4beb16d6a5cc",
   "metadata": {},
   "outputs": [],
   "source": [
    "clean_macro = clean_macro.fillna({\n",
    "    \"new_deceased_confirmed_ratio\": 0\n",
    "})"
   ]
  },
  {
   "cell_type": "markdown",
   "id": "0a9bcf0f-c20a-4dfb-b2c9-a006f74cb760",
   "metadata": {},
   "source": [
    "Imputing `life_expectancy` and `new_hospitalized_patients`"
   ]
  },
  {
   "cell_type": "code",
   "execution_count": 43,
   "id": "83f1aede-36b1-4e8d-8696-45d7d0c96b1a",
   "metadata": {},
   "outputs": [
    {
     "data": {
      "text/html": [
       "<div>\n",
       "<style scoped>\n",
       "    .dataframe tbody tr th:only-of-type {\n",
       "        vertical-align: middle;\n",
       "    }\n",
       "\n",
       "    .dataframe tbody tr th {\n",
       "        vertical-align: top;\n",
       "    }\n",
       "\n",
       "    .dataframe thead th {\n",
       "        text-align: right;\n",
       "    }\n",
       "</style>\n",
       "<table border=\"1\" class=\"dataframe\">\n",
       "  <thead>\n",
       "    <tr style=\"text-align: right;\">\n",
       "      <th></th>\n",
       "      <th></th>\n",
       "      <th>life_expectancy</th>\n",
       "      <th>new_hospitalized_patients</th>\n",
       "    </tr>\n",
       "    <tr>\n",
       "      <th>week</th>\n",
       "      <th>country_name</th>\n",
       "      <th></th>\n",
       "      <th></th>\n",
       "    </tr>\n",
       "  </thead>\n",
       "  <tbody>\n",
       "    <tr>\n",
       "      <th>2020-01-20/2020-01-26</th>\n",
       "      <th>United States of America</th>\n",
       "      <td>77.871999</td>\n",
       "      <td>NaN</td>\n",
       "    </tr>\n",
       "    <tr>\n",
       "      <th>2020-01-27/2020-02-02</th>\n",
       "      <th>United States of America</th>\n",
       "      <td>77.871999</td>\n",
       "      <td>NaN</td>\n",
       "    </tr>\n",
       "    <tr>\n",
       "      <th>2020-02-03/2020-02-09</th>\n",
       "      <th>United States of America</th>\n",
       "      <td>77.871999</td>\n",
       "      <td>NaN</td>\n",
       "    </tr>\n",
       "    <tr>\n",
       "      <th>2020-02-10/2020-02-16</th>\n",
       "      <th>United States of America</th>\n",
       "      <td>77.871999</td>\n",
       "      <td>NaN</td>\n",
       "    </tr>\n",
       "    <tr>\n",
       "      <th>2020-02-17/2020-02-23</th>\n",
       "      <th>United States of America</th>\n",
       "      <td>77.871999</td>\n",
       "      <td>NaN</td>\n",
       "    </tr>\n",
       "  </tbody>\n",
       "</table>\n",
       "</div>"
      ],
      "text/plain": [
       "                                                life_expectancy  \\\n",
       "week                  country_name                                \n",
       "2020-01-20/2020-01-26 United States of America        77.871999   \n",
       "2020-01-27/2020-02-02 United States of America        77.871999   \n",
       "2020-02-03/2020-02-09 United States of America        77.871999   \n",
       "2020-02-10/2020-02-16 United States of America        77.871999   \n",
       "2020-02-17/2020-02-23 United States of America        77.871999   \n",
       "\n",
       "                                                new_hospitalized_patients  \n",
       "week                  country_name                                         \n",
       "2020-01-20/2020-01-26 United States of America                        NaN  \n",
       "2020-01-27/2020-02-02 United States of America                        NaN  \n",
       "2020-02-03/2020-02-09 United States of America                        NaN  \n",
       "2020-02-10/2020-02-16 United States of America                        NaN  \n",
       "2020-02-17/2020-02-23 United States of America                        NaN  "
      ]
     },
     "execution_count": 43,
     "metadata": {},
     "output_type": "execute_result"
    }
   ],
   "source": [
    "us_missings = clean_macro.query(\n",
    "    \"country_name == 'United States of America'\"\n",
    ")[[\"life_expectancy\",\"new_hospitalized_patients\"]]\n",
    "us_missings.head()"
   ]
  },
  {
   "cell_type": "code",
   "execution_count": 44,
   "id": "995310e0-33cb-4d02-841c-e80a5f16811c",
   "metadata": {},
   "outputs": [
    {
     "data": {
      "text/html": [
       "<div>\n",
       "<style scoped>\n",
       "    .dataframe tbody tr th:only-of-type {\n",
       "        vertical-align: middle;\n",
       "    }\n",
       "\n",
       "    .dataframe tbody tr th {\n",
       "        vertical-align: top;\n",
       "    }\n",
       "\n",
       "    .dataframe thead th {\n",
       "        text-align: right;\n",
       "    }\n",
       "</style>\n",
       "<table border=\"1\" class=\"dataframe\">\n",
       "  <thead>\n",
       "    <tr style=\"text-align: right;\">\n",
       "      <th></th>\n",
       "      <th>life_expectancy</th>\n",
       "      <th>new_hospitalized_patients</th>\n",
       "    </tr>\n",
       "    <tr>\n",
       "      <th>country_name</th>\n",
       "      <th></th>\n",
       "      <th></th>\n",
       "    </tr>\n",
       "  </thead>\n",
       "  <tbody>\n",
       "    <tr>\n",
       "      <th>United States of America</th>\n",
       "      <td>77.871999</td>\n",
       "      <td>2544.6</td>\n",
       "    </tr>\n",
       "  </tbody>\n",
       "</table>\n",
       "</div>"
      ],
      "text/plain": [
       "                          life_expectancy  new_hospitalized_patients\n",
       "country_name                                                        \n",
       "United States of America        77.871999                     2544.6"
      ]
     },
     "execution_count": 44,
     "metadata": {},
     "output_type": "execute_result"
    }
   ],
   "source": [
    "us_missings = us_missings.groupby(level=\"country_name\").mean()\n",
    "us_missings"
   ]
  },
  {
   "cell_type": "code",
   "execution_count": 45,
   "id": "fb0337ae-a6df-456e-99f6-0631151d5103",
   "metadata": {},
   "outputs": [],
   "source": [
    "clean_macro = clean_macro.fillna(us_missings)"
   ]
  },
  {
   "cell_type": "markdown",
   "id": "6a66c797-2553-47b6-9ed6-7e8afc27c526",
   "metadata": {},
   "source": [
    "Imputing `new_persons_fully_vaccinated`"
   ]
  },
  {
   "cell_type": "code",
   "execution_count": 46,
   "id": "b95407cb-cef7-470d-ae2c-4a9f10993b83",
   "metadata": {},
   "outputs": [],
   "source": [
    "clean_macro.loc[\n",
    "    (clean_macro.index.get_level_values(\"country_name\")==\"United States of America\")\n",
    "    & (clean_macro.new_persons_fully_vaccinated.isna()),\n",
    "    \"new_persons_fully_vaccinated\"\n",
    "] = 0"
   ]
  },
  {
   "cell_type": "code",
   "execution_count": 47,
   "id": "7ffea961-99bb-4708-b7d1-a9c4db9445f6",
   "metadata": {},
   "outputs": [
    {
     "name": "stdout",
     "output_type": "stream",
     "text": [
      "<class 'pandas.core.frame.DataFrame'>\n",
      "MultiIndex: 504 entries, ('2019-12-30/2020-01-05', 'Germany') to ('2022-08-15/2022-08-21', 'United States of America')\n",
      "Data columns (total 19 columns):\n",
      " #   Column                        Non-Null Count  Dtype  \n",
      "---  ------                        --------------  -----  \n",
      " 0   new_confirmed                 504 non-null    float64\n",
      " 1   new_deceased                  504 non-null    float64\n",
      " 2   new_deceased_confirmed_ratio  504 non-null    float64\n",
      " 3   location_key_macro            504 non-null    object \n",
      " 4   population                    504 non-null    float64\n",
      " 5   population_age_00_09          504 non-null    float64\n",
      " 6   population_age_10_19          504 non-null    float64\n",
      " 7   population_age_20_29          504 non-null    float64\n",
      " 8   population_age_30_39          504 non-null    float64\n",
      " 9   population_age_40_49          504 non-null    float64\n",
      " 10  population_age_50_59          504 non-null    float64\n",
      " 11  population_age_60_69          504 non-null    float64\n",
      " 12  population_age_70_79          504 non-null    float64\n",
      " 13  population_age_80_and_older   504 non-null    float64\n",
      " 14  life_expectancy               135 non-null    float64\n",
      " 15  date                          130 non-null    object \n",
      " 16  location_key_aux              130 non-null    object \n",
      " 17  new_hospitalized_patients     135 non-null    float64\n",
      " 18  new_persons_fully_vaccinated  135 non-null    float64\n",
      "dtypes: float64(16), object(3)\n",
      "memory usage: 81.7+ KB\n"
     ]
    }
   ],
   "source": [
    "clean_macro.info()"
   ]
  },
  {
   "cell_type": "markdown",
   "id": "2bbe02e1-8e8c-4b02-b958-58f99fb68a00",
   "metadata": {},
   "source": [
    "### Save cleaned macrotable"
   ]
  },
  {
   "cell_type": "code",
   "execution_count": 48,
   "id": "e7d55740-acd0-4ba2-97ec-3ac6c866237f",
   "metadata": {},
   "outputs": [],
   "source": [
    "clean_macro.to_csv(f\"data/{OUTPUT_FOLDER}/macrotable_c.zip\", index=True)"
   ]
  }
 ],
 "metadata": {
  "kernelspec": {
   "display_name": "pda1",
   "language": "python",
   "name": "python3"
  },
  "language_info": {
   "codemirror_mode": {
    "name": "ipython",
    "version": 3
   },
   "file_extension": ".py",
   "mimetype": "text/x-python",
   "name": "python",
   "nbconvert_exporter": "python",
   "pygments_lexer": "ipython3",
   "version": "3.9.16"
  }
 },
 "nbformat": 4,
 "nbformat_minor": 5
}
