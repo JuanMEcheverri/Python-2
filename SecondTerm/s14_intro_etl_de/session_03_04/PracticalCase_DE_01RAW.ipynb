{
 "cells": [
  {
   "cell_type": "code",
   "execution_count": 5,
   "id": "0415cc56-035e-4517-a132-c95feeff8ddf",
   "metadata": {},
   "outputs": [],
   "source": [
    "import os\n",
    "\n",
    "import pandas as pd\n",
    "from pandas_profiling import ProfileReport"
   ]
  },
  {
   "cell_type": "code",
   "execution_count": 6,
   "id": "a2764fad",
   "metadata": {},
   "outputs": [
    {
     "data": {
      "text/plain": [
       "'/Users/dgarhdez/Desktop/IE/ie-pda/2023/september_2023/pda2/sessions_material/session_03_04'"
      ]
     },
     "execution_count": 6,
     "metadata": {},
     "output_type": "execute_result"
    }
   ],
   "source": [
    "os.getcwd()"
   ]
  },
  {
   "cell_type": "markdown",
   "id": "8a484e8c-134d-4c40-8e7a-92f42e1c2807",
   "metadata": {},
   "source": [
    "## RAW"
   ]
  },
  {
   "cell_type": "code",
   "execution_count": 7,
   "id": "b9092ef8-fef1-460d-bcea-9db899609cc7",
   "metadata": {},
   "outputs": [
    {
     "data": {
      "text/plain": [
       "{'epidemiology': 'epidemiology.zip',\n",
       " 'vaccinations': 'vaccinations.zip',\n",
       " 'health': 'health.zip',\n",
       " 'demographics': 'demographics.zip',\n",
       " 'hospitalizations': 'hospitalizations.zip',\n",
       " 'index': 'index.zip'}"
      ]
     },
     "execution_count": 7,
     "metadata": {},
     "output_type": "execute_result"
    }
   ],
   "source": [
    "datasources = {\n",
    "    source.replace(\".zip\",\"\"):source \n",
    "    for source in os.listdir(\"data/in\") \n",
    "    if source.endswith(\".zip\")\n",
    "}\n",
    "\n",
    "datasources"
   ]
  },
  {
   "cell_type": "markdown",
   "id": "e20358e3-d4fa-484f-babf-b0f909c82804",
   "metadata": {},
   "source": [
    "### Load data sources\n",
    "\n",
    "In this part we just load all data with Pandas for further processing. In this case we just have a bunch of CSV data, but data loading (or extraction, the E of \"ETL\") can be much more complicated when we have to connect to the clients' database or when the files we have to process are Excel files with macros 😱"
   ]
  },
  {
   "cell_type": "code",
   "execution_count": 9,
   "id": "8bfa6c93-b1da-4db6-b287-ea181ee4c71f",
   "metadata": {},
   "outputs": [],
   "source": [
    "datasets = {}\n",
    "for key,value in datasources.items():\n",
    "    datasets[key] = pd.read_csv(f\"data/in/{value}\")"
   ]
  },
  {
   "cell_type": "markdown",
   "id": "a53a84b0-e501-43ea-b75f-b23760702e2a",
   "metadata": {},
   "source": [
    "### Execute a data profiling for each source\n",
    "\n",
    "To have a very brief and direct summary to understand data, we can execute a profiling on al data sources individually. This operation will give us a brief overview about the state of data and will help us to establish next steps in the following data processing phases (how to filter, how to impute missing values, if column names afre correct, etc.)"
   ]
  },
  {
   "cell_type": "code",
   "execution_count": 10,
   "id": "79dcd251-4820-4cc3-b790-765c91bac962",
   "metadata": {},
   "outputs": [
    {
     "name": "stderr",
     "output_type": "stream",
     "text": [
      "Summarize dataset: 100%|██████████| 16/16 [00:01<00:00, 13.05it/s, Completed]                            \n",
      "Generate report structure: 100%|██████████| 1/1 [00:01<00:00,  1.32s/it]\n",
      "Render HTML: 100%|██████████| 1/1 [00:00<00:00,  6.61it/s]\n",
      "Export report to file: 100%|██████████| 1/1 [00:00<00:00, 1349.95it/s]\n",
      "Summarize dataset: 100%|██████████| 38/38 [00:00<00:00, 51.79it/s, Completed]                                                      \n",
      "Generate report structure: 100%|██████████| 1/1 [00:00<00:00,  3.31it/s]\n",
      "Render HTML: 100%|██████████| 1/1 [00:00<00:00, 21.90it/s]\n",
      "Export report to file: 100%|██████████| 1/1 [00:00<00:00, 1552.30it/s]\n",
      "Summarize dataset: 100%|██████████| 20/20 [00:00<00:00, 631.45it/s, Completed]                                            \n",
      "Generate report structure: 100%|██████████| 1/1 [00:00<00:00,  6.34it/s]\n",
      "Render HTML: 100%|██████████| 1/1 [00:00<00:00, 40.50it/s]\n",
      "Export report to file: 100%|██████████| 1/1 [00:00<00:00, 1726.76it/s]\n",
      "Summarize dataset: 100%|██████████| 25/25 [00:00<00:00, 324.53it/s, Completed]                                    \n",
      "Generate report structure: 100%|██████████| 1/1 [00:01<00:00,  1.98s/it]\n",
      "Render HTML: 100%|██████████| 1/1 [00:00<00:00,  7.39it/s]\n",
      "Export report to file: 100%|██████████| 1/1 [00:00<00:00, 875.64it/s]\n",
      "Summarize dataset: 100%|██████████| 17/17 [00:00<00:00, 461.67it/s, Completed]                                          \n",
      "Generate report structure: 100%|██████████| 1/1 [00:00<00:00,  1.68it/s]\n",
      "Render HTML: 100%|██████████| 1/1 [00:00<00:00, 19.89it/s]\n",
      "Export report to file: 100%|██████████| 1/1 [00:00<00:00, 2037.06it/s]\n",
      "Summarize dataset: 100%|██████████| 21/21 [00:00<00:00, 352.51it/s, Completed]                          \n",
      "Generate report structure: 100%|██████████| 1/1 [00:00<00:00,  3.21it/s]\n",
      "Render HTML: 100%|██████████| 1/1 [00:00<00:00, 18.34it/s]\n",
      "Export report to file: 100%|██████████| 1/1 [00:00<00:00, 535.06it/s]\n"
     ]
    }
   ],
   "source": [
    "os.makedirs(\"profiling\", exist_ok=True)\n",
    "\n",
    "for key,value in datasets.items():\n",
    "    profile = ProfileReport(value, minimal=True)\n",
    "    profile.to_file(f\"profiling/{key}.html\")"
   ]
  },
  {
   "cell_type": "markdown",
   "id": "e2bce86d-c4a9-4380-b3d7-209f071247be",
   "metadata": {},
   "source": [
    "### Save data into `raw` schema"
   ]
  },
  {
   "cell_type": "code",
   "execution_count": 11,
   "id": "f3e3ad0a-682d-49f2-aa2e-107610741db4",
   "metadata": {},
   "outputs": [],
   "source": [
    "os.makedirs(\"data/raw\", exist_ok=True)"
   ]
  },
  {
   "cell_type": "code",
   "execution_count": 12,
   "id": "579b9b0a-9948-4437-9c61-70b17bffd30d",
   "metadata": {},
   "outputs": [],
   "source": [
    "for key,value in datasets.items():\n",
    "    value.to_csv(f\"data/raw/{key}.zip\", index=False)"
   ]
  }
 ],
 "metadata": {
  "kernelspec": {
   "display_name": "pda1",
   "language": "python",
   "name": "python3"
  },
  "language_info": {
   "codemirror_mode": {
    "name": "ipython",
    "version": 3
   },
   "file_extension": ".py",
   "mimetype": "text/x-python",
   "name": "python",
   "nbconvert_exporter": "python",
   "pygments_lexer": "ipython3",
   "version": "3.9.16"
  }
 },
 "nbformat": 4,
 "nbformat_minor": 5
}
