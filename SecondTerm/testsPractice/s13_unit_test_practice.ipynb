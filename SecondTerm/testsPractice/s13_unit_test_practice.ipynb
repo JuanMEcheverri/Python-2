{
 "cells": [
  {
   "cell_type": "markdown",
   "metadata": {},
   "source": [
    "# Session 13: Practice unit tests\n",
    "\n",
    "In this session, we will practice writing unit tests for a few functions. We will use the `pytest` module to write the tests.\n",
    "\n",
    "We are going to build a script that contains a few functions that we will test. The script should be called `functions.py` and it should contain the necessary functions to answer analysis questions.\n",
    "\n",
    "The functions that we will test are:\n",
    "\n",
    "* `get_financial_data` - This function should receive a stock ticker, two dates, and return a pandas DataFrame with the financial data of the stock. It should use the `yfinance` library to get the data.\n",
    "* `get_stock_return` - This function should receive a pandas DataFrame with the financial data of a stock and return the stock return` in a specific period:\n",
    "    * $ \\text{r} = \\frac{P_{t} - P_{t-1}}{P_{t-1}} $\n",
    "* `get_pnl` - This function should receive a pandas DataFrame with the financial data of a stock and return the profit and loss of the stock in a specific period:\n",
    "    * $ \\text{pnl} = P_{t} - P_{t-1} $\n",
    "\n",
    "Then, we are going to write tests for these functions in a script called `test_functions.py`. The test should be written using the `pytest` module, and they should cover for the following cases:\n",
    "\n",
    "* Test if the `get_financial_data` function returns a pandas DataFrame not empty.\n",
    "* Test if the `get_stock_return` function returns a float.\n",
    "* Test if the `calculate_pnl` function returns a float.\n",
    "\n",
    "There should be errors raised in the following cases:\n",
    "\n",
    "* If the stock ticker is not a string\n",
    "* If the start date is not a string\n",
    "* If the end date is not a string\n",
    "* If the start date is not in the format 'YYYY-MM-DD'\n",
    "* If the end date is not in the format 'YYYY-MM-DD'\n",
    "* If the start date is greater than the end date\n",
    "\n"
   ]
  }
 ],
 "metadata": {
  "language_info": {
   "name": "python"
  }
 },
 "nbformat": 4,
 "nbformat_minor": 2
}
