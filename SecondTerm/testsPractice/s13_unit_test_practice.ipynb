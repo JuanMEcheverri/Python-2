{
 "cells": [
  {
   "cell_type": "markdown",
   "metadata": {},
   "source": [
    "# Session 13: Practice unit tests\n",
    "\n",
    "In this session, we will practice writing unit tests for a few functions. We will use the `pytest` module to write the tests.\n",
    "\n",
    "We are going to build a script that contains a few functions that we will test. The script should be called `functions.py` and it should contain the necessary functions to answer analysis questions.\n",
    "\n",
    "The functions that we will test are:\n",
    "\n",
    "* `get_financial_data` - This function should receive a stock ticker, two dates, and return a pandas DataFrame with the financial data of the stock. It should use the `yfinance` library to get the data.\n",
    "* `get_stock_return` - This function should receive a pandas DataFrame with the financial data of a stock and return the stock return` in a specific period:\n",
    "    * $ \\text{r} = \\frac{P_{t} - P_{t-1}}{P_{t-1}} $\n",
    "* `get_pnl` - This function should receive a pandas DataFrame with the financial data of a stock and return the profit and loss of the stock in a specific period:\n",
    "    * $ \\text{pnl} = P_{t} - P_{t-1} $\n",
    "\n",
    "Then, we are going to write tests for these functions in a script called `test_functions.py`. The test should be written using the `pytest` module, and they should cover for the following cases:\n",
    "\n",
    "* Test if the `get_financial_data` function returns a pandas DataFrame not empty.\n",
    "* Test if the `get_stock_return` function returns a float.\n",
    "* Test if the `calculate_pnl` function returns a float.\n",
    "\n",
    "There should be errors raised in the following cases:\n",
    "\n",
    "* If the stock ticker is not a string\n",
    "* If the start date is not a string\n",
    "* If the end date is not a string\n",
    "* If the start date is not in the format 'YYYY-MM-DD'\n",
    "* If the end date is not in the format 'YYYY-MM-DD'\n",
    "* If the start date is greater than the end date\n",
    "\n"
   ]
  },
  {
   "cell_type": "code",
   "execution_count": null,
   "metadata": {},
   "outputs": [
    {
     "name": "stderr",
     "output_type": "stream",
     "text": [
      "[*********************100%***********************]  1 of 1 completed\n"
     ]
    },
    {
     "data": {
      "text/html": [
       "<div>\n",
       "<style scoped>\n",
       "    .dataframe tbody tr th:only-of-type {\n",
       "        vertical-align: middle;\n",
       "    }\n",
       "\n",
       "    .dataframe tbody tr th {\n",
       "        vertical-align: top;\n",
       "    }\n",
       "\n",
       "    .dataframe thead tr th {\n",
       "        text-align: left;\n",
       "    }\n",
       "\n",
       "    .dataframe thead tr:last-of-type th {\n",
       "        text-align: right;\n",
       "    }\n",
       "</style>\n",
       "<table border=\"1\" class=\"dataframe\">\n",
       "  <thead>\n",
       "    <tr>\n",
       "      <th>Price</th>\n",
       "      <th>Close</th>\n",
       "    </tr>\n",
       "    <tr>\n",
       "      <th>Ticker</th>\n",
       "      <th>GOOG</th>\n",
       "    </tr>\n",
       "    <tr>\n",
       "      <th>Date</th>\n",
       "      <th></th>\n",
       "    </tr>\n",
       "  </thead>\n",
       "  <tbody>\n",
       "    <tr>\n",
       "      <th>2025-02-03</th>\n",
       "      <td>202.639999</td>\n",
       "    </tr>\n",
       "    <tr>\n",
       "      <th>2025-02-04</th>\n",
       "      <td>207.710007</td>\n",
       "    </tr>\n",
       "    <tr>\n",
       "      <th>2025-02-05</th>\n",
       "      <td>193.300003</td>\n",
       "    </tr>\n",
       "    <tr>\n",
       "      <th>2025-02-06</th>\n",
       "      <td>193.309998</td>\n",
       "    </tr>\n",
       "    <tr>\n",
       "      <th>2025-02-07</th>\n",
       "      <td>187.139999</td>\n",
       "    </tr>\n",
       "    <tr>\n",
       "      <th>2025-02-10</th>\n",
       "      <td>188.199997</td>\n",
       "    </tr>\n",
       "    <tr>\n",
       "      <th>2025-02-11</th>\n",
       "      <td>187.070007</td>\n",
       "    </tr>\n",
       "    <tr>\n",
       "      <th>2025-02-12</th>\n",
       "      <td>185.429993</td>\n",
       "    </tr>\n",
       "    <tr>\n",
       "      <th>2025-02-13</th>\n",
       "      <td>187.880005</td>\n",
       "    </tr>\n",
       "    <tr>\n",
       "      <th>2025-02-14</th>\n",
       "      <td>186.869995</td>\n",
       "    </tr>\n",
       "  </tbody>\n",
       "</table>\n",
       "</div>"
      ],
      "text/plain": [
       "Price            Close\n",
       "Ticker            GOOG\n",
       "Date                  \n",
       "2025-02-03  202.639999\n",
       "2025-02-04  207.710007\n",
       "2025-02-05  193.300003\n",
       "2025-02-06  193.309998\n",
       "2025-02-07  187.139999\n",
       "2025-02-10  188.199997\n",
       "2025-02-11  187.070007\n",
       "2025-02-12  185.429993\n",
       "2025-02-13  187.880005\n",
       "2025-02-14  186.869995"
      ]
     },
     "execution_count": 5,
     "metadata": {},
     "output_type": "execute_result"
    }
   ],
   "source": [
    "# Import the data from Yahoo Finance\n",
    "\n",
    "import yfinance as yf \n",
    "\n",
    "def get_financial_data(stock_ticker, star_date, end_date, column_to_extract):\n",
    "    data = yf.download(stock_ticker, star_date, end_date)\n",
    "    return data[[column_to_extract]]\n",
    "\n",
    "get_financial_data('GOOG', '2025-02-01', '2025-02-17', 'Close')"
   ]
  },
  {
   "cell_type": "code",
   "execution_count": null,
   "metadata": {},
   "outputs": [
    {
     "ename": "TypeError",
     "evalue": "stock_ticker must be a string",
     "output_type": "error",
     "traceback": [
      "\u001b[1;31m---------------------------------------------------------------------------\u001b[0m",
      "\u001b[1;31mTypeError\u001b[0m                                 Traceback (most recent call last)",
      "Cell \u001b[1;32mIn[7], line 10\u001b[0m\n\u001b[0;32m      6\u001b[0m         data \u001b[38;5;241m=\u001b[39m yf\u001b[38;5;241m.\u001b[39mdownload(stock_ticker, star_date, end_date)\n\u001b[0;32m      8\u001b[0m     \u001b[38;5;28;01mreturn\u001b[39;00m data[[column_to_extract]]\n\u001b[1;32m---> 10\u001b[0m get_financial_data(\u001b[38;5;241m1\u001b[39m, \u001b[38;5;124m'\u001b[39m\u001b[38;5;124m2025-02-01\u001b[39m\u001b[38;5;124m'\u001b[39m, \u001b[38;5;124m'\u001b[39m\u001b[38;5;124m2025-02-17\u001b[39m\u001b[38;5;124m'\u001b[39m, \u001b[38;5;124m'\u001b[39m\u001b[38;5;124mClose\u001b[39m\u001b[38;5;124m'\u001b[39m)\n",
      "Cell \u001b[1;32mIn[7], line 4\u001b[0m, in \u001b[0;36mget_financial_data\u001b[1;34m(stock_ticker, star_date, end_date, column_to_extract)\u001b[0m\n\u001b[0;32m      1\u001b[0m \u001b[38;5;28;01mdef\u001b[39;00m \u001b[38;5;21mget_financial_data\u001b[39m(stock_ticker, star_date, end_date, column_to_extract):\n\u001b[0;32m      3\u001b[0m     \u001b[38;5;28;01mif\u001b[39;00m \u001b[38;5;129;01mnot\u001b[39;00m \u001b[38;5;28misinstance\u001b[39m(stock_ticker, \u001b[38;5;28mstr\u001b[39m):\n\u001b[1;32m----> 4\u001b[0m         \u001b[38;5;28;01mraise\u001b[39;00m \u001b[38;5;167;01mTypeError\u001b[39;00m(\u001b[38;5;124m'\u001b[39m\u001b[38;5;124mstock_ticker must be a string\u001b[39m\u001b[38;5;124m'\u001b[39m)\n\u001b[0;32m      5\u001b[0m     \u001b[38;5;28;01melse\u001b[39;00m:\n\u001b[0;32m      6\u001b[0m         data \u001b[38;5;241m=\u001b[39m yf\u001b[38;5;241m.\u001b[39mdownload(stock_ticker, star_date, end_date)\n",
      "\u001b[1;31mTypeError\u001b[0m: stock_ticker must be a string"
     ]
    }
   ],
   "source": [
    "#Chech fore the type of the stock_ticker if it is not a string raise an error\n",
    "\n",
    "def get_financial_data(stock_ticker, star_date, end_date, column_to_extract):\n",
    "    \n",
    "    if not isinstance(stock_ticker, str):\n",
    "        raise TypeError('stock_ticker must be a string')\n",
    "    else:\n",
    "        data = yf.download(stock_ticker, star_date, end_date)\n",
    "    \n",
    "    return data[[column_to_extract]]\n",
    "\n",
    "get_financial_data(1, '2025-02-01', '2025-02-17', 'Close')"
   ]
  },
  {
   "cell_type": "code",
   "execution_count": 15,
   "metadata": {},
   "outputs": [
    {
     "ename": "TypeError",
     "evalue": "stock_ticker must be a string",
     "output_type": "error",
     "traceback": [
      "\u001b[1;31m---------------------------------------------------------------------------\u001b[0m",
      "\u001b[1;31mTypeError\u001b[0m                                 Traceback (most recent call last)",
      "Cell \u001b[1;32mIn[15], line 17\u001b[0m\n\u001b[0;32m     14\u001b[0m     data \u001b[38;5;241m=\u001b[39m yf\u001b[38;5;241m.\u001b[39mdownload(stock_ticker, star_date, end_date)\n\u001b[0;32m     15\u001b[0m     \u001b[38;5;28;01mreturn\u001b[39;00m data[[column_to_extract]]\n\u001b[1;32m---> 17\u001b[0m get_financial_data(\u001b[38;5;241m1\u001b[39m, \u001b[38;5;124m'\u001b[39m\u001b[38;5;124m2025-02-01\u001b[39m\u001b[38;5;124m'\u001b[39m, \u001b[38;5;124m'\u001b[39m\u001b[38;5;124m2025-02-17\u001b[39m\u001b[38;5;124m'\u001b[39m, \u001b[38;5;124m'\u001b[39m\u001b[38;5;124mClose\u001b[39m\u001b[38;5;124m'\u001b[39m)\n",
      "Cell \u001b[1;32mIn[15], line 6\u001b[0m, in \u001b[0;36mget_financial_data\u001b[1;34m(stock_ticker, star_date, end_date, column_to_extract)\u001b[0m\n\u001b[0;32m      3\u001b[0m \u001b[38;5;28;01mdef\u001b[39;00m \u001b[38;5;21mget_financial_data\u001b[39m(stock_ticker, star_date, end_date, column_to_extract):\n\u001b[0;32m      5\u001b[0m     \u001b[38;5;28;01mif\u001b[39;00m \u001b[38;5;129;01mnot\u001b[39;00m \u001b[38;5;28misinstance\u001b[39m(stock_ticker, \u001b[38;5;28mstr\u001b[39m):\n\u001b[1;32m----> 6\u001b[0m         \u001b[38;5;28;01mraise\u001b[39;00m \u001b[38;5;167;01mTypeError\u001b[39;00m(\u001b[38;5;124m'\u001b[39m\u001b[38;5;124mstock_ticker must be a string\u001b[39m\u001b[38;5;124m'\u001b[39m)\n\u001b[0;32m      8\u001b[0m     \u001b[38;5;28;01mif\u001b[39;00m \u001b[38;5;129;01mnot\u001b[39;00m \u001b[38;5;28misinstance\u001b[39m(star_date, \u001b[38;5;28mstr\u001b[39m):\n\u001b[0;32m      9\u001b[0m         \u001b[38;5;28;01mraise\u001b[39;00m \u001b[38;5;167;01mTypeError\u001b[39;00m(\u001b[38;5;124m'\u001b[39m\u001b[38;5;124mstar_date must be a string\u001b[39m\u001b[38;5;124m'\u001b[39m)\n",
      "\u001b[1;31mTypeError\u001b[0m: stock_ticker must be a string"
     ]
    }
   ],
   "source": [
    "#Chech fore more than one error\n",
    "\n",
    "def get_financial_data(stock_ticker, star_date, end_date, column_to_extract):\n",
    "    \n",
    "    if not isinstance(stock_ticker, str):\n",
    "        raise TypeError('stock_ticker must be a string')\n",
    "        \n",
    "    if not isinstance(star_date, str):\n",
    "        raise TypeError('star_date must be a string')\n",
    "    \n",
    "    if not isinstance(end_date, str):\n",
    "        raise TypeError('end_date must be a string')\n",
    "        \n",
    "    data = yf.download(stock_ticker, star_date, end_date)\n",
    "    return data[[column_to_extract]]\n",
    "\n",
    "get_financial_data(1, '2025-02-01', '2025-02-17', 'Close')"
   ]
  },
  {
   "cell_type": "code",
   "execution_count": 19,
   "metadata": {},
   "outputs": [
    {
     "name": "stdout",
     "output_type": "stream",
     "text": [
      "Division par zéro impossible\n",
      "Addition de types incompatibles\n"
     ]
    }
   ],
   "source": [
    "nom = 1\n",
    "denom = 0\n",
    "letter = 'e'\n",
    "\n",
    "try:\n",
    "    print(nom/denom)\n",
    "except ZeroDivisionError:\n",
    "    print('Division par zéro impossible')\n",
    "\n",
    "try:\n",
    "    print(nom + letter)\n",
    "except TypeError:\n",
    "    print('Addition de types incompatibles')"
   ]
  },
  {
   "cell_type": "code",
   "execution_count": null,
   "metadata": {},
   "outputs": [
    {
     "ename": "NameError",
     "evalue": "name 'to_Datetime' is not defined",
     "output_type": "error",
     "traceback": [
      "\u001b[1;31m---------------------------------------------------------------------------\u001b[0m",
      "\u001b[1;31mNameError\u001b[0m                                 Traceback (most recent call last)",
      "Cell \u001b[1;32mIn[28], line 33\u001b[0m\n\u001b[0;32m     30\u001b[0m     data \u001b[38;5;241m=\u001b[39m yf\u001b[38;5;241m.\u001b[39mdownload(stock_ticker, star_date, end_date)\n\u001b[0;32m     31\u001b[0m     \u001b[38;5;28;01mreturn\u001b[39;00m data[[column_to_extract]]\n\u001b[1;32m---> 33\u001b[0m start_date_grater_than_end_date(\u001b[38;5;124m'\u001b[39m\u001b[38;5;124m2025-03-01\u001b[39m\u001b[38;5;124m'\u001b[39m, \u001b[38;5;124m'\u001b[39m\u001b[38;5;124m2025-02-17\u001b[39m\u001b[38;5;124m'\u001b[39m)\n",
      "Cell \u001b[1;32mIn[28], line 11\u001b[0m, in \u001b[0;36mstart_date_grater_than_end_date\u001b[1;34m(start_date, end_date)\u001b[0m\n\u001b[0;32m      9\u001b[0m \u001b[38;5;28;01mdef\u001b[39;00m \u001b[38;5;21mstart_date_grater_than_end_date\u001b[39m(start_date, end_date):\n\u001b[0;32m     10\u001b[0m     \u001b[38;5;66;03m#return datetime.datetime.strptime(start_date, '%Y-%m-%d') > datetime.datetime.strptime(end_date, '%Y-%m-%d')\u001b[39;00m\n\u001b[1;32m---> 11\u001b[0m     start_date \u001b[38;5;241m=\u001b[39m to_Datetime(start_date)\n",
      "\u001b[1;31mNameError\u001b[0m: name 'to_Datetime' is not defined"
     ]
    }
   ],
   "source": [
    "import datetime\n",
    "import re\n",
    "import pandas as pd\n",
    "import yfinance as yf \n",
    "\n",
    "def check_date_format(date_string):\n",
    "    desired_format = re.compile(r'^\\d{4}-\\d{2}-\\d{2}$')\n",
    "    return bool(desired_format.match(date_string))\n",
    "\n",
    "def start_date_grater_than_end_date(start_date, end_date):\n",
    "    return datetime.datetime.strptime(start_date, '%Y-%m-%d') > datetime.datetime.strptime(end_date, '%Y-%m-%d')\n",
    "    #start_date = pd.to_Datetime(start_date) its an other way to do it overkill\n",
    "    #end_date = pd.to_Datetime(end_date) its an other way to do it overkill\n",
    "    #return start_date > end_date\n",
    "\n",
    "\n",
    "\n",
    "def get_financial_data(stock_ticker, star_date, end_date, column_to_extract):\n",
    "    \n",
    "    if not isinstance(stock_ticker, str):\n",
    "        raise TypeError('stock_ticker must be a string')\n",
    "        \n",
    "    if not isinstance(star_date, str):\n",
    "        raise TypeError('star_date must be a string')\n",
    "    \n",
    "    if not isinstance(end_date, str):\n",
    "        raise TypeError('end_date must be a string')\n",
    "    \n",
    "    if not check_date_format(star_date):\n",
    "        raise ValueError('star_date must be in the format YYYY-MM-DD')\n",
    "    \n",
    "    if not check_date_format(end_date):\n",
    "        raise ValueError('end_date must be in the format YYYY-MM-DD')\n",
    "    \n",
    "    if not start_date_grater_than_end_date(star_date, end_date):\n",
    "        raise ValueError('star_date must be grater than end_date')\n",
    "        \n",
    "    data = yf.download(stock_ticker, star_date, end_date)\n",
    "    return data[[column_to_extract]]\n",
    "\n",
    "start_date_grater_than_end_date('2025-03-01', '2025-02-17')"
   ]
  }
 ],
 "metadata": {
  "kernelspec": {
   "display_name": "base",
   "language": "python",
   "name": "python3"
  },
  "language_info": {
   "codemirror_mode": {
    "name": "ipython",
    "version": 3
   },
   "file_extension": ".py",
   "mimetype": "text/x-python",
   "name": "python",
   "nbconvert_exporter": "python",
   "pygments_lexer": "ipython3",
   "version": "3.12.4"
  }
 },
 "nbformat": 4,
 "nbformat_minor": 2
}
